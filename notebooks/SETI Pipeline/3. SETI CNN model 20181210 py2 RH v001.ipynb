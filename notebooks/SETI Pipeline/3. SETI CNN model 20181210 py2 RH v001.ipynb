{
 "cells": [
  {
   "cell_type": "code",
   "execution_count": 1,
   "metadata": {},
   "outputs": [
    {
     "name": "stderr",
     "output_type": "stream",
     "text": [
      "Using TensorFlow backend.\n"
     ]
    }
   ],
   "source": [
    "import os\n",
    "from keras import applications\n",
    "#from keras.applications.vgg16 import VGG16\n",
    "#from keras.applications.vgg19 import VGG19\n",
    "#from keras.applications.resnet50 import ResNet50\n",
    "from keras.applications.inception_resnet_v2 import InceptionResNetV2\n",
    "from keras.preprocessing.image import ImageDataGenerator\n",
    "from keras import optimizers\n",
    "from keras.models import Sequential, Model \n",
    "from keras.layers import Dropout, Flatten, Dense, GlobalAveragePooling2D\n",
    "from keras import backend as k \n",
    "from keras.callbacks import ModelCheckpoint, LearningRateScheduler, TensorBoard, EarlyStopping\n",
    "from keras.preprocessing import image\n",
    "from keras.applications.vgg19 import preprocess_input\n",
    "import numpy as np\n",
    "import math\n",
    "import pandas as pd\n",
    "from sklearn.metrics import confusion_matrix, roc_curve, auc, accuracy_score\n",
    "import scikitplot as skplt\n",
    "import seaborn as sns\n",
    "import matplotlib.pyplot as plt\n",
    "import matplotlib.image as mpimg\n",
    "\n",
    "pd.options.mode.chained_assignment = None\n",
    "\n",
    "%matplotlib inline\n",
    "\n",
    "k.set_image_dim_ordering('tf')"
   ]
  },
  {
   "cell_type": "code",
   "execution_count": 19,
   "metadata": {},
   "outputs": [],
   "source": [
    "#inputs\n",
    "path = '/home/paperspace/Documents/SETI/ML/data/my_images/'\n",
    "\n",
    "train_dir = path + 'train/'\n",
    "validation_dir = path + 'valid/'\n",
    "test_dir = path + 'test/'\n",
    "\n",
    "#outputs\n",
    "cnn_outputs = path + 'cnn_outputs/'\n",
    "\n",
    "img_dim  = 197"
   ]
  },
  {
   "cell_type": "code",
   "execution_count": 21,
   "metadata": {},
   "outputs": [],
   "source": [
    "def make_folder(directory):\n",
    "    if not os.path.exists(directory):\n",
    "        os.makedirs(directory)"
   ]
  },
  {
   "cell_type": "code",
   "execution_count": 22,
   "metadata": {},
   "outputs": [],
   "source": [
    "#Make the output folders,\n",
    "make_folder(cnn_outputs)"
   ]
  },
  {
   "cell_type": "code",
   "execution_count": 4,
   "metadata": {},
   "outputs": [],
   "source": [
    "#Generators\n",
    "train_datagen = ImageDataGenerator(\n",
    "  #rescale = 1/255,\n",
    "  rotation_range = 180,\n",
    "  #width_shift_range = 0.1,\n",
    "  #height_shift_range = 0.1,\n",
    "  #shear_range = 10,\n",
    "  #zoom_range = 5,\n",
    "  horizontal_flip = True,\n",
    "  vertical_flip = True,\n",
    "  fill_mode = \"reflect\")\n",
    "\n",
    "# Note that the validation data shouldn't be augmented!\n",
    "validation_datagen = ImageDataGenerator(#rescale = 1/255\n",
    "                                        )  \n",
    "test_datagen = ImageDataGenerator(#rescale = 1/255\n",
    "                                  )  "
   ]
  },
  {
   "cell_type": "code",
   "execution_count": 5,
   "metadata": {},
   "outputs": [
    {
     "name": "stdout",
     "output_type": "stream",
     "text": [
      "Found 5600 images belonging to 7 classes.\n"
     ]
    }
   ],
   "source": [
    "training_batch_size = 64\n",
    "validation_batch_size = 64\n",
    "\n",
    "train_generator = train_datagen.flow_from_directory(\n",
    "  train_dir,                                                  \n",
    "  classes = ('noise', 'squiggle', 'narrowband', 'narrowbanddrd', 'squarepulsednarrowband', \n",
    "            'squigglesquarepulsednarrowband', 'brightpixel'),\n",
    "  target_size = (img_dim, img_dim),            \n",
    "  batch_size = training_batch_size,\n",
    "  class_mode = \"categorical\",\n",
    "  shuffle = True,\n",
    "  seed = 123)"
   ]
  },
  {
   "cell_type": "code",
   "execution_count": 6,
   "metadata": {},
   "outputs": [
    {
     "name": "stdout",
     "output_type": "stream",
     "text": [
      "Found 700 images belonging to 7 classes.\n"
     ]
    }
   ],
   "source": [
    "validation_generator = validation_datagen.flow_from_directory(\n",
    "  validation_dir,\n",
    "  classes = ('noise', 'squiggle', 'narrowband', 'narrowbanddrd', 'squarepulsednarrowband', \n",
    "            'squigglesquarepulsednarrowband', 'brightpixel'),\n",
    "  target_size = (img_dim, img_dim),\n",
    "  batch_size = validation_batch_size,\n",
    "  class_mode = \"categorical\",\n",
    "  shuffle = True,\n",
    "  seed = 123)"
   ]
  },
  {
   "cell_type": "code",
   "execution_count": 28,
   "metadata": {},
   "outputs": [
    {
     "name": "stdout",
     "output_type": "stream",
     "text": [
      "Found 707 images belonging to 7 classes.\n"
     ]
    }
   ],
   "source": [
    "test_size = 707\n",
    "test_batch_size = 1\n",
    "\n",
    "test_generator = test_datagen.flow_from_directory(\n",
    "  test_dir,\n",
    "  classes = ('noise', 'squiggle', 'narrowband', 'narrowbanddrd', 'squarepulsednarrowband', \n",
    "            'squigglesquarepulsednarrowband', 'brightpixel'),\n",
    "  target_size = (img_dim, img_dim),\n",
    "  batch_size = test_batch_size,\n",
    "  class_mode = \"categorical\",\n",
    "  shuffle = False)"
   ]
  },
  {
   "cell_type": "markdown",
   "metadata": {},
   "source": [
    "## Transfer Learning"
   ]
  },
  {
   "cell_type": "code",
   "execution_count": 8,
   "metadata": {},
   "outputs": [],
   "source": [
    "base = InceptionResNetV2(\n",
    "  weights = \"imagenet\",\n",
    "  include_top = False,\n",
    "  input_shape = (img_dim, img_dim, 3)\n",
    ")"
   ]
  },
  {
   "cell_type": "code",
   "execution_count": 9,
   "metadata": {},
   "outputs": [],
   "source": [
    "#InceptionV3\n",
    "x = base.output\n",
    "x = Flatten(input_shape=base.output_shape[1:])(x)\n",
    "#x = Dense(img_dim/2, activation=\"relu\")(x)\n",
    "#x = Dropout(0.2)(x)\n",
    "x = Dense(img_dim, activation=\"relu\")(x)\n",
    "x = Dropout(0.2)(x)\n",
    "x = Dense(7, activation=\"softmax\")(x)"
   ]
  },
  {
   "cell_type": "code",
   "execution_count": 10,
   "metadata": {},
   "outputs": [],
   "source": [
    "#Inception\n",
    "model = Model(inputs=base.input, outputs=x)"
   ]
  },
  {
   "cell_type": "code",
   "execution_count": 11,
   "metadata": {},
   "outputs": [],
   "source": [
    "#use transfer learning for re-training the last layers\n",
    "for layer in model.layers:\n",
    "   layer.trainable = True"
   ]
  },
  {
   "cell_type": "code",
   "execution_count": 12,
   "metadata": {},
   "outputs": [],
   "source": [
    "#https://towardsdatascience.com/learning-rate-schedules-and-adaptive-learning-rate-methods-for-deep-learning\n",
    "\n",
    "def step_decay(epoch):\n",
    "    initial_lrate = 1e-4\n",
    "    drop = 0.5\n",
    "    epochs_drop = 10.0\n",
    "    lrate = initial_lrate * math.pow(drop, \n",
    "            math.floor((1+epoch)/epochs_drop))\n",
    "    return(lrate)\n",
    "\n",
    "lrate = LearningRateScheduler(step_decay)"
   ]
  },
  {
   "cell_type": "code",
   "execution_count": 13,
   "metadata": {},
   "outputs": [],
   "source": [
    "# Compile the model\n",
    "model.compile(loss = \"binary_crossentropy\", optimizer = optimizers.rmsprop(lr=1e-5), metrics=[\"accuracy\"])"
   ]
  },
  {
   "cell_type": "code",
   "execution_count": 14,
   "metadata": {},
   "outputs": [],
   "source": [
    "training_step_size = 64\n",
    "validation_step_size = 32"
   ]
  },
  {
   "cell_type": "code",
   "execution_count": 16,
   "metadata": {},
   "outputs": [
    {
     "name": "stdout",
     "output_type": "stream",
     "text": [
      "Epoch 1/10\n",
      "64/64 [==============================] - 72s 1s/step - loss: 0.2515 - acc: 0.8883 - val_loss: 0.2941 - val_acc: 0.8822\n",
      "Epoch 2/10\n",
      "64/64 [==============================] - 72s 1s/step - loss: 0.2472 - acc: 0.8891 - val_loss: 0.2854 - val_acc: 0.8882\n",
      "Epoch 3/10\n",
      "64/64 [==============================] - 72s 1s/step - loss: 0.2363 - acc: 0.8936 - val_loss: 0.2884 - val_acc: 0.8846\n",
      "Epoch 4/10\n",
      "64/64 [==============================] - 73s 1s/step - loss: 0.2341 - acc: 0.8974 - val_loss: 0.2746 - val_acc: 0.8891\n",
      "Epoch 5/10\n",
      "64/64 [==============================] - 72s 1s/step - loss: 0.2309 - acc: 0.8947 - val_loss: 0.2750 - val_acc: 0.8881\n",
      "Epoch 6/10\n",
      "64/64 [==============================] - 72s 1s/step - loss: 0.2204 - acc: 0.8981 - val_loss: 0.2665 - val_acc: 0.8930\n",
      "Epoch 7/10\n",
      "64/64 [==============================] - 71s 1s/step - loss: 0.2179 - acc: 0.9015 - val_loss: 0.2693 - val_acc: 0.8918\n",
      "Epoch 8/10\n",
      "64/64 [==============================] - 71s 1s/step - loss: 0.2147 - acc: 0.9021 - val_loss: 0.2596 - val_acc: 0.8951\n",
      "Epoch 9/10\n",
      "64/64 [==============================] - 72s 1s/step - loss: 0.2154 - acc: 0.9005 - val_loss: 0.2517 - val_acc: 0.8980\n",
      "Epoch 10/10\n",
      "64/64 [==============================] - 73s 1s/step - loss: 0.2062 - acc: 0.9049 - val_loss: 0.2545 - val_acc: 0.8976\n"
     ]
    }
   ],
   "source": [
    "#Train\n",
    "\n",
    "history = model.fit_generator(\n",
    "  train_generator,\n",
    "  steps_per_epoch = training_step_size,\n",
    "  epochs = 10,\n",
    "  validation_data = validation_generator,\n",
    "  validation_steps = validation_step_size,\n",
    "  #callbacks = [lrate]\n",
    ")"
   ]
  },
  {
   "cell_type": "code",
   "execution_count": 17,
   "metadata": {},
   "outputs": [
    {
     "data": {
      "image/png": "[encoded data removed]",
      "text/plain": [
       "<Figure size 432x288 with 1 Axes>"
      ]
     },
     "metadata": {},
     "output_type": "display_data"
    },
    {
     "data": {
      "image/png": "[encoded data removed]",
      "text/plain": [
       "<Figure size 432x288 with 1 Axes>"
      ]
     },
     "metadata": {},
     "output_type": "display_data"
    }
   ],
   "source": [
    "# summarize history for accuracy\n",
    "plt.plot(history.history['acc'])\n",
    "plt.plot(history.history['val_acc'])\n",
    "plt.title('model accuracy')\n",
    "plt.ylabel('accuracy')\n",
    "plt.xlabel('epoch')\n",
    "plt.legend(['train', 'test'], loc='upper left')\n",
    "plt.show()\n",
    "# summarize history for loss\n",
    "plt.plot(history.history['loss'])\n",
    "plt.plot(history.history['val_loss'])\n",
    "plt.title('model loss')\n",
    "plt.ylabel('loss')\n",
    "plt.xlabel('epoch')\n",
    "plt.legend(['train', 'test'], loc='upper left')\n",
    "plt.show()"
   ]
  },
  {
   "cell_type": "code",
   "execution_count": 23,
   "metadata": {},
   "outputs": [],
   "source": [
    "model.save(cnn_outputs + 'seti_inc3_ft_20181210_v1.h5')\n",
    "model.save_weights(cnn_outputs + 'seti_weights_inc3_ft_20181210_v1.h5')"
   ]
  },
  {
   "cell_type": "markdown",
   "metadata": {},
   "source": [
    "## Predict on the test set"
   ]
  },
  {
   "cell_type": "code",
   "execution_count": 1,
   "metadata": {},
   "outputs": [
    {
     "ename": "NameError",
     "evalue": "name 'model' is not defined",
     "output_type": "error",
     "traceback": [
      "\u001b[0;31m\u001b[0m",
      "\u001b[0;31mNameError\u001b[0mTraceback (most recent call last)",
      "\u001b[0;32m<ipython-input-1-aa62ef43f446>\u001b[0m in \u001b[0;36m<module>\u001b[0;34m()\u001b[0m\n\u001b[0;32m----> 1\u001b[0;31m \u001b[0mpredictions\u001b[0m \u001b[0;34m=\u001b[0m \u001b[0mmodel\u001b[0m\u001b[0;34m.\u001b[0m\u001b[0mpredict_generator\u001b[0m\u001b[0;34m(\u001b[0m\u001b[0mtest_generator\u001b[0m\u001b[0;34m,\u001b[0m \u001b[0msteps\u001b[0m \u001b[0;34m=\u001b[0m \u001b[0mtest_size\u001b[0m\u001b[0;34m,\u001b[0m \u001b[0mverbose\u001b[0m \u001b[0;34m=\u001b[0m \u001b[0;36m1\u001b[0m\u001b[0;34m)\u001b[0m\u001b[0;34m\u001b[0m\u001b[0m\n\u001b[0m",
      "\u001b[0;31mNameError\u001b[0m: name 'model' is not defined"
     ]
    }
   ],
   "source": [
    "predictions = model.predict_generator(test_generator, steps = test_size, verbose = 1)"
   ]
  },
  {
   "cell_type": "code",
   "execution_count": 30,
   "metadata": {},
   "outputs": [],
   "source": [
    "df = pd.DataFrame(predictions)\n",
    "df['filename'] = test_generator.filenames"
   ]
  },
  {
   "cell_type": "code",
   "execution_count": 32,
   "metadata": {},
   "outputs": [
    {
     "data": {
      "text/plain": [
       "0.5601131541725601"
      ]
     },
     "execution_count": 32,
     "metadata": {},
     "output_type": "execute_result"
    }
   ],
   "source": [
    "df['truth'] = ''\n",
    "df['truth'] = df['filename'].str.split('/', 1, expand = True)\n",
    "df['prediction_index'] = df[[0,1,2,3,4,5,6]].idxmax(axis=1)\n",
    "\n",
    "df['prediction'] = ''\n",
    "df['prediction'][df['prediction_index'] == 0] = 'noise'\n",
    "df['prediction'][df['prediction_index'] == 1] = 'squiggle'\n",
    "df['prediction'][df['prediction_index'] == 2] = 'narrowband'\n",
    "df['prediction'][df['prediction_index'] == 3] = 'narrowbanddrd'\n",
    "df['prediction'][df['prediction_index'] == 4] = 'squarepulsednarrowband'\n",
    "df['prediction'][df['prediction_index'] == 5] = 'squigglesquarepulsednarrowband'\n",
    "df['prediction'][df['prediction_index'] == 6] = 'brightpixel'\n",
    "\n",
    "cm = confusion_matrix(df['truth'], df['prediction'])\n",
    "\n",
    "accuracy_score(df['truth'], df['prediction'])"
   ]
  },
  {
   "cell_type": "code",
   "execution_count": 33,
   "metadata": {},
   "outputs": [
    {
     "data": {
      "text/html": [
       "<div>\n",
       "<style>\n",
       "    .dataframe thead tr:only-child th {\n",
       "        text-align: right;\n",
       "    }\n",
       "\n",
       "    .dataframe thead th {\n",
       "        text-align: left;\n",
       "    }\n",
       "\n",
       "    .dataframe tbody tr th {\n",
       "        vertical-align: top;\n",
       "    }\n",
       "</style>\n",
       "<table border=\"1\" class=\"dataframe\">\n",
       "  <thead>\n",
       "    <tr style=\"text-align: right;\">\n",
       "      <th></th>\n",
       "      <th>noise</th>\n",
       "      <th>squiggle</th>\n",
       "      <th>narrowband</th>\n",
       "      <th>narrowbanddrd</th>\n",
       "      <th>squarepulsednarrowband</th>\n",
       "      <th>squigglesquarepulsednarrowband</th>\n",
       "      <th>brightpixel</th>\n",
       "      <th>signal</th>\n",
       "    </tr>\n",
       "  </thead>\n",
       "  <tbody>\n",
       "    <tr>\n",
       "      <th>0</th>\n",
       "      <td>52</td>\n",
       "      <td>0</td>\n",
       "      <td>0</td>\n",
       "      <td>25</td>\n",
       "      <td>5</td>\n",
       "      <td>0</td>\n",
       "      <td>19</td>\n",
       "      <td>noise</td>\n",
       "    </tr>\n",
       "    <tr>\n",
       "      <th>1</th>\n",
       "      <td>1</td>\n",
       "      <td>44</td>\n",
       "      <td>19</td>\n",
       "      <td>11</td>\n",
       "      <td>21</td>\n",
       "      <td>2</td>\n",
       "      <td>3</td>\n",
       "      <td>squiggle</td>\n",
       "    </tr>\n",
       "    <tr>\n",
       "      <th>2</th>\n",
       "      <td>0</td>\n",
       "      <td>11</td>\n",
       "      <td>52</td>\n",
       "      <td>8</td>\n",
       "      <td>28</td>\n",
       "      <td>0</td>\n",
       "      <td>2</td>\n",
       "      <td>narrowband</td>\n",
       "    </tr>\n",
       "    <tr>\n",
       "      <th>3</th>\n",
       "      <td>2</td>\n",
       "      <td>0</td>\n",
       "      <td>0</td>\n",
       "      <td>53</td>\n",
       "      <td>16</td>\n",
       "      <td>0</td>\n",
       "      <td>30</td>\n",
       "      <td>narrowbanddrd</td>\n",
       "    </tr>\n",
       "    <tr>\n",
       "      <th>4</th>\n",
       "      <td>0</td>\n",
       "      <td>2</td>\n",
       "      <td>5</td>\n",
       "      <td>17</td>\n",
       "      <td>60</td>\n",
       "      <td>4</td>\n",
       "      <td>13</td>\n",
       "      <td>squarepulsednarrowband</td>\n",
       "    </tr>\n",
       "    <tr>\n",
       "      <th>5</th>\n",
       "      <td>0</td>\n",
       "      <td>0</td>\n",
       "      <td>0</td>\n",
       "      <td>2</td>\n",
       "      <td>0</td>\n",
       "      <td>99</td>\n",
       "      <td>0</td>\n",
       "      <td>squigglesquarepulsednarrowband</td>\n",
       "    </tr>\n",
       "    <tr>\n",
       "      <th>6</th>\n",
       "      <td>1</td>\n",
       "      <td>2</td>\n",
       "      <td>0</td>\n",
       "      <td>26</td>\n",
       "      <td>26</td>\n",
       "      <td>10</td>\n",
       "      <td>36</td>\n",
       "      <td>brightpixel</td>\n",
       "    </tr>\n",
       "  </tbody>\n",
       "</table>\n",
       "</div>"
      ],
      "text/plain": [
       "   noise  squiggle  narrowband  narrowbanddrd  squarepulsednarrowband  \\\n",
       "0     52         0           0             25                       5   \n",
       "1      1        44          19             11                      21   \n",
       "2      0        11          52              8                      28   \n",
       "3      2         0           0             53                      16   \n",
       "4      0         2           5             17                      60   \n",
       "5      0         0           0              2                       0   \n",
       "6      1         2           0             26                      26   \n",
       "\n",
       "   squigglesquarepulsednarrowband  brightpixel                          signal  \n",
       "0                               0           19                           noise  \n",
       "1                               2            3                        squiggle  \n",
       "2                               0            2                      narrowband  \n",
       "3                               0           30                   narrowbanddrd  \n",
       "4                               4           13          squarepulsednarrowband  \n",
       "5                              99            0  squigglesquarepulsednarrowband  \n",
       "6                              10           36                     brightpixel  "
      ]
     },
     "execution_count": 33,
     "metadata": {},
     "output_type": "execute_result"
    }
   ],
   "source": [
    "cm_df = pd.DataFrame(cm)\n",
    "cm_df.columns = ['noise', 'squiggle', 'narrowband', 'narrowbanddrd', 'squarepulsednarrowband', \n",
    "            'squigglesquarepulsednarrowband', 'brightpixel']\n",
    "\n",
    "cm_df['signal'] = ('noise', 'squiggle', 'narrowband', 'narrowbanddrd', 'squarepulsednarrowband', \n",
    "            'squigglesquarepulsednarrowband', 'brightpixel')\n",
    "\n",
    "cm_df"
   ]
  },
  {
   "cell_type": "code",
   "execution_count": null,
   "metadata": {},
   "outputs": [],
   "source": []
  }
 ],
 "metadata": {
  "kernelspec": {
   "display_name": "Python 2",
   "language": "python",
   "name": "python2"
  },
  "language_info": {
   "codemirror_mode": {
    "name": "ipython",
    "version": 2
   },
   "file_extension": ".py",
   "mimetype": "text/x-python",
   "name": "python",
   "nbconvert_exporter": "python",
   "pygments_lexer": "ipython2",
   "version": "2.7.15"
  }
 },
 "nbformat": 4,
 "nbformat_minor": 2
}
