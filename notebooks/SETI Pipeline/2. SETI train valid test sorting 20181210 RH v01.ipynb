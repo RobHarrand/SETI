{
 "cells": [
  {
   "cell_type": "markdown",
   "metadata": {},
   "source": [
    "The aim of this notebook is to move files from raw into signal type folders into train/valid/test"
   ]
  },
  {
   "cell_type": "code",
   "execution_count": 1,
   "metadata": {},
   "outputs": [],
   "source": [
    "import random\n",
    "import os\n",
    "import numpy as np\n",
    "import shutil"
   ]
  },
  {
   "cell_type": "code",
   "execution_count": 13,
   "metadata": {},
   "outputs": [],
   "source": [
    "path = '/home/paperspace/Documents/SETI/ML/data/my_images/'\n",
    "\n",
    "#inputs\n",
    "\n",
    "noise_path = path + 'noise/'\n",
    "squiggle_path = path + 'squiggle/'\n",
    "narrowband_path = path + 'narrowband/'\n",
    "narrowbanddrd_path = path + 'narrowbanddrd/'\n",
    "squarepulsednarrowband_path = path + 'train_path + quarepulsednarrowband/'\n",
    "squigglesquarepulsednarrowband_path = path + 'squigglesquarepulsednarrowband/'\n",
    "brightpixel_path = path + 'brightpixel/'\n",
    "\n",
    "#outputs\n",
    "\n",
    "train_path = path + 'train/'\n",
    "valid_path = path + 'valid/'\n",
    "test_path = path + 'test/'\n",
    "\n",
    "train_noise_path = train_path + 'noise/'\n",
    "train_squiggle_path = train_path + 'squiggle/'\n",
    "train_narrowband_path = train_path + 'narrowband/'\n",
    "train_narrowbanddrd_path = train_path + 'narrowbanddrd/'\n",
    "train_squarepulsednarrowband_path = train_path + 'squarepulsednarrowband/'\n",
    "train_squigglesquarepulsednarrowband_path = train_path + 'squigglesquarepulsednarrowband/'\n",
    "train_brightpixel_path = train_path + 'brightpixel/'\n",
    "\n",
    "valid_noise_path = valid_path + 'noise/'\n",
    "valid_squiggle_path = valid_path + 'squiggle/'\n",
    "valid_narrowband_path = valid_path + 'narrowband/'\n",
    "valid_narrowbanddrd_path = valid_path + 'narrowbanddrd/'\n",
    "valid_squarepulsednarrowband_path = valid_path + 'squarepulsednarrowband/'\n",
    "valid_squigglesquarepulsednarrowband_path = valid_path + 'squigglesquarepulsednarrowband/'\n",
    "valid_brightpixel_path = valid_path + 'brightpixel/'\n",
    "\n",
    "test_noise_path = test_path + 'noise/'\n",
    "test_squiggle_path = test_path + 'squiggle/'\n",
    "test_narrowband_path = test_path + 'narrowband/'\n",
    "test_narrowbanddrd_path = test_path + 'narrowbanddrd/'\n",
    "test_squarepulsednarrowband_path = test_path + 'squarepulsednarrowband/'\n",
    "test_squigglesquarepulsednarrowband_path = test_path + 'squigglesquarepulsednarrowband/'\n",
    "test_brightpixel_path = test_path + 'brightpixel/'"
   ]
  },
  {
   "cell_type": "code",
   "execution_count": 14,
   "metadata": {},
   "outputs": [],
   "source": [
    "def make_folder(directory):\n",
    "    if not os.path.exists(directory):\n",
    "        os.makedirs(directory)"
   ]
  },
  {
   "cell_type": "code",
   "execution_count": 15,
   "metadata": {},
   "outputs": [],
   "source": [
    "make_folder(train_noise_path)\n",
    "make_folder(train_squiggle_path)\n",
    "make_folder(train_narrowband_path)\n",
    "make_folder(train_narrowbanddrd_path)\n",
    "make_folder(train_squarepulsednarrowband_path)\n",
    "make_folder(train_squigglesquarepulsednarrowband_path)\n",
    "make_folder(train_brightpixel_path)\n",
    "\n",
    "make_folder(valid_noise_path)\n",
    "make_folder(valid_squiggle_path)\n",
    "make_folder(valid_narrowband_path)\n",
    "make_folder(valid_narrowbanddrd_path)\n",
    "make_folder(valid_squarepulsednarrowband_path)\n",
    "make_folder(valid_squigglesquarepulsednarrowband_path)\n",
    "make_folder(valid_brightpixel_path)\n",
    "\n",
    "make_folder(test_noise_path)\n",
    "make_folder(test_squiggle_path)\n",
    "make_folder(test_narrowband_path)\n",
    "make_folder(test_narrowbanddrd_path)\n",
    "make_folder(test_squarepulsednarrowband_path)\n",
    "make_folder(test_squigglesquarepulsednarrowband_path)\n",
    "make_folder(test_brightpixel_path)"
   ]
  },
  {
   "cell_type": "code",
   "execution_count": 17,
   "metadata": {},
   "outputs": [],
   "source": [
    "#Get the file lists and shuffle them\n",
    "\n",
    "def get_files(file_type, seed = 123):\n",
    "    path_files = path + str(file_type)\n",
    "    file_list = os.listdir(path_files)\n",
    "    random.seed(seed)\n",
    "    random.shuffle(file_list)\n",
    "    return(file_list)"
   ]
  },
  {
   "cell_type": "code",
   "execution_count": 18,
   "metadata": {},
   "outputs": [],
   "source": [
    "noise_files = get_files('noise')\n",
    "squiggle_files = get_files('squiggle')\n",
    "narrowband_files = get_files('narrowband')\n",
    "narrowbanddrd_files = get_files('narrowbanddrd')\n",
    "squarepulsednarrowband_files = get_files('squarepulsednarrowband')\n",
    "squigglesquarepulsednarrowband_files = get_files('squigglesquarepulsednarrowband')\n",
    "brightpixel_files = get_files('brightpixel')"
   ]
  },
  {
   "cell_type": "markdown",
   "metadata": {},
   "source": [
    "### Setup the file lists"
   ]
  },
  {
   "cell_type": "code",
   "execution_count": 19,
   "metadata": {},
   "outputs": [],
   "source": [
    "train_prop = 0.8\n",
    "valid_prop = 0.1\n",
    "test_prop = 0.1"
   ]
  },
  {
   "cell_type": "code",
   "execution_count": 20,
   "metadata": {},
   "outputs": [],
   "source": [
    "def set_folders(files_list):\n",
    "    len_files = len(files_list)\n",
    "    files_train = files_list[0:int(np.floor(len_files*train_prop))]\n",
    "    files_valid = files_list[len(files_train)+1:int(np.floor(len(files_train)+len_files*valid_prop))+1]\n",
    "    files_test = files_list[len(files_train)+len(files_valid):int(len_files)]\n",
    "    return {'files_train':files_train, 'files_valid':files_valid, 'files_test':files_test}"
   ]
  },
  {
   "cell_type": "code",
   "execution_count": 21,
   "metadata": {},
   "outputs": [],
   "source": [
    "noise_results = set_folders(noise_files)\n",
    "squiggle_results = set_folders(squiggle_files)\n",
    "narrowband_results = set_folders(narrowband_files)\n",
    "narrowbanddrd_results = set_folders(narrowbanddrd_files)\n",
    "squarepulsednarrowband_results = set_folders(squarepulsednarrowband_files)\n",
    "squigglesquarepulsednarrowband_results = set_folders(squigglesquarepulsednarrowband_files)\n",
    "brightpixel_results = set_folders(brightpixel_files)"
   ]
  },
  {
   "cell_type": "code",
   "execution_count": 22,
   "metadata": {},
   "outputs": [
    {
     "name": "stdout",
     "output_type": "stream",
     "text": [
      "ALL NOISE FILES 1001\n",
      "-----------------------\n",
      "Noise training list: 800\n",
      "Noise validation list: 100\n",
      "Noise test list: 101\n",
      " \n",
      "ALL SQUIGGLE FILES 1001\n",
      "-----------------------\n",
      "Squiggle training list: 800\n",
      "Squiggle validation list: 100\n",
      "Squiggle test list: 101\n",
      " \n",
      "ALL NARROWBAND FILES 1001\n",
      "-----------------------\n",
      "Narrowband training list: 800\n",
      "Narrowband validation list: 100\n",
      "Narrowband test list: 101\n",
      " \n",
      "ALL NARROWBANDDRD FILES 1001\n",
      "-----------------------\n",
      "Narrowbanddrd training list: 800\n",
      "Narrowbanddrd validation list: 100\n",
      "Narrowbanddrd test list: 101\n",
      " \n",
      "ALL SQUAREPULSEDNARROWBAND FILES 1001\n",
      "-----------------------\n",
      "Squarepulsednarrowband training list: 800\n",
      "Squarepulsednarrowband validation list: 100\n",
      "Squarepulsednarrowband test list: 101\n",
      " \n",
      "ALL SQUIGGLESQUAREPULSEDNARROWBAND FILES 1001\n",
      "-----------------------\n",
      "Squigglesquarepulsednarrowband training list: 800\n",
      "Squigglesquarepulsednarrowband validation list: 100\n",
      "Squigglesquarepulsednarrowband test list: 101\n",
      " \n",
      "ALL BRIGHTPIXEL FILES 1001\n",
      "-----------------------\n",
      "Brightpixel training list: 800\n",
      "Brightpixel validation list: 100\n",
      "Brightpixel test list: 101\n",
      " \n"
     ]
    }
   ],
   "source": [
    "print(\"ALL NOISE FILES \" + str(len(noise_files)))\n",
    "print(\"-----------------------\")\n",
    "print(\"Noise training list: \" + str(len(noise_results['files_train'])))\n",
    "print(\"Noise validation list: \" + str(len(noise_results['files_valid'])))\n",
    "print(\"Noise test list: \" + str(len(noise_results['files_test'])))\n",
    "print(\" \")\n",
    "\n",
    "print(\"ALL SQUIGGLE FILES \" + str(len(squiggle_files)))\n",
    "print(\"-----------------------\")\n",
    "print(\"Squiggle training list: \" + str(len(squiggle_results['files_train'])))\n",
    "print(\"Squiggle validation list: \" + str(len(squiggle_results['files_valid'])))\n",
    "print(\"Squiggle test list: \" + str(len(squiggle_results['files_test'])))\n",
    "print(\" \")\n",
    "\n",
    "print(\"ALL NARROWBAND FILES \" + str(len(narrowband_files)))\n",
    "print(\"-----------------------\")\n",
    "print(\"Narrowband training list: \" + str(len(narrowband_results['files_train'])))\n",
    "print(\"Narrowband validation list: \" + str(len(narrowband_results['files_valid'])))\n",
    "print(\"Narrowband test list: \" + str(len(narrowband_results['files_test'])))\n",
    "print(\" \")\n",
    "\n",
    "print(\"ALL NARROWBANDDRD FILES \" + str(len(narrowbanddrd_files)))\n",
    "print(\"-----------------------\")\n",
    "print(\"Narrowbanddrd training list: \" + str(len(narrowbanddrd_results['files_train'])))\n",
    "print(\"Narrowbanddrd validation list: \" + str(len(narrowbanddrd_results['files_valid'])))\n",
    "print(\"Narrowbanddrd test list: \" + str(len(narrowbanddrd_results['files_test'])))\n",
    "print(\" \")\n",
    "print(\"ALL SQUAREPULSEDNARROWBAND FILES \" + str(len(squarepulsednarrowband_files)))\n",
    "print(\"-----------------------\")\n",
    "print(\"Squarepulsednarrowband training list: \" + str(len(squarepulsednarrowband_results['files_train'])))\n",
    "print(\"Squarepulsednarrowband validation list: \" + str(len(squarepulsednarrowband_results['files_valid'])))\n",
    "print(\"Squarepulsednarrowband test list: \" + str(len(squarepulsednarrowband_results['files_test'])))\n",
    "print(\" \")\n",
    "print(\"ALL SQUIGGLESQUAREPULSEDNARROWBAND FILES \" + str(len(squigglesquarepulsednarrowband_files)))\n",
    "print(\"-----------------------\")\n",
    "print(\"Squigglesquarepulsednarrowband training list: \" + str(len(squigglesquarepulsednarrowband_results['files_train'])))\n",
    "print(\"Squigglesquarepulsednarrowband validation list: \" + str(len(squigglesquarepulsednarrowband_results['files_valid'])))\n",
    "print(\"Squigglesquarepulsednarrowband test list: \" + str(len(squigglesquarepulsednarrowband_results['files_test'])))\n",
    "print(\" \")\n",
    "print(\"ALL BRIGHTPIXEL FILES \" + str(len(brightpixel_files)))\n",
    "print(\"-----------------------\")\n",
    "print(\"Brightpixel training list: \" + str(len(brightpixel_results['files_train'])))\n",
    "print(\"Brightpixel validation list: \" + str(len(brightpixel_results['files_valid'])))\n",
    "print(\"Brightpixel test list: \" + str(len(brightpixel_results['files_test'])))\n",
    "print(\" \")"
   ]
  },
  {
   "cell_type": "code",
   "execution_count": 23,
   "metadata": {},
   "outputs": [],
   "source": [
    "#ONLY RUN ONCE!\n",
    "\n",
    "#Move the files\n",
    "\n",
    "def move_files(files_path, files_list, file_type, folder):\n",
    "    for f in range(0,len(files_list)):\n",
    "        shutil.copy(files_path + str(file_type) + '/' + files_list[f], files_path + str(folder) + '/' + str(file_type) + '/' + files_list[f]) "
   ]
  },
  {
   "cell_type": "code",
   "execution_count": 24,
   "metadata": {},
   "outputs": [],
   "source": [
    "files_path = path\n",
    "\n",
    "move_files(files_path, noise_results['files_train'], 'noise', 'train')\n",
    "move_files(files_path, noise_results['files_valid'], 'noise', 'valid')\n",
    "move_files(files_path, noise_results['files_test'], 'noise', 'test')\n",
    "\n",
    "move_files(files_path, squiggle_results['files_train'], 'squiggle', 'train')\n",
    "move_files(files_path, squiggle_results['files_valid'], 'squiggle', 'valid')\n",
    "move_files(files_path, squiggle_results['files_test'], 'squiggle', 'test')\n",
    "\n",
    "move_files(files_path, narrowband_results['files_train'], 'narrowband', 'train')\n",
    "move_files(files_path, narrowband_results['files_valid'], 'narrowband', 'valid')\n",
    "move_files(files_path, narrowband_results['files_test'], 'narrowband', 'test')\n",
    "\n",
    "move_files(files_path, narrowbanddrd_results['files_train'], 'narrowbanddrd', 'train')\n",
    "move_files(files_path, narrowbanddrd_results['files_valid'], 'narrowbanddrd', 'valid')\n",
    "move_files(files_path, narrowbanddrd_results['files_test'], 'narrowbanddrd', 'test')\n",
    "\n",
    "move_files(files_path, squarepulsednarrowband_results['files_train'], 'squarepulsednarrowband', 'train')\n",
    "move_files(files_path, squarepulsednarrowband_results['files_valid'], 'squarepulsednarrowband', 'valid')\n",
    "move_files(files_path, squarepulsednarrowband_results['files_test'], 'squarepulsednarrowband', 'test')\n",
    "\n",
    "move_files(files_path, squigglesquarepulsednarrowband_results['files_train'], 'squigglesquarepulsednarrowband', 'train')\n",
    "move_files(files_path, squigglesquarepulsednarrowband_results['files_valid'], 'squigglesquarepulsednarrowband', 'valid')\n",
    "move_files(files_path, squigglesquarepulsednarrowband_results['files_test'], 'squigglesquarepulsednarrowband', 'test')\n",
    "\n",
    "move_files(files_path, brightpixel_results['files_train'], 'brightpixel', 'train')\n",
    "move_files(files_path, brightpixel_results['files_valid'], 'brightpixel', 'valid')\n",
    "move_files(files_path, brightpixel_results['files_test'], 'brightpixel', 'test')"
   ]
  },
  {
   "cell_type": "code",
   "execution_count": null,
   "metadata": {
    "collapsed": true
   },
   "outputs": [],
   "source": []
  }
 ],
 "metadata": {
  "kernelspec": {
   "display_name": "Python 3",
   "language": "python",
   "name": "python3"
  },
  "language_info": {
   "codemirror_mode": {
    "name": "ipython",
    "version": 3
   },
   "file_extension": ".py",
   "mimetype": "text/x-python",
   "name": "python",
   "nbconvert_exporter": "python",
   "pygments_lexer": "ipython3",
   "version": "3.6.6"
  }
 },
 "nbformat": 4,
 "nbformat_minor": 2
}
