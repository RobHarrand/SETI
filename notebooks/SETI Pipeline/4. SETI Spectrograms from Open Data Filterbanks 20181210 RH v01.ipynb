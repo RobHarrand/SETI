{
 "cells": [
  {
   "cell_type": "markdown",
   "metadata": {},
   "source": [
    "## Enrique Data\n",
    "#### Adapted from the example Voyager notebook\n",
    "\n",
    "#### Filterbank format \n",
    "\n",
    "*The .fil files come as a set of four files - containing all 32-bit values except as noted:*\n",
    "\n",
    "- *.gpuspec.0000.fil : ~3Hz frequency bin resolution, ~18 second sample time (SETI)*\n",
    "- *.gpuspec.0001.fil : ~366MHz frequency bin resolution, 349 us sample time (Pulsar)*\n",
    "- *.gpuspec.0002.fil : ~3Khz frequency bin resolution, ~1 second sample time (\"in between\")*\n",
    "- *.gpuspec.8.0000.fil : 8-bit version of the Pulsar product (current pulsar detection tools can only handle 8-bit data)* \n",
    "\n",
    "So, I need the **gpuspec.0001.fil** files.\n",
    "\n",
    "Some filename conventions:\n",
    "\n",
    "blcNN_guppi_MMMMM_SSSSS_TTTTT_XXXX.suffix\n",
    "\n",
    "- NN : compute nodes or banks where the data was recorded (each two-digit NN represents 187.5 MHz of bandwidth)\n",
    "- MMMMM : MJD (modified Julian date) of observation\n",
    "- SSSSS : Seconds after midnight of observation\n",
    "- TTTTT : Target name (may contain underscores)\n",
    "- XXXX : sequence # (or #s) of observation (for bookkeeping)"
   ]
  },
  {
   "cell_type": "code",
   "execution_count": 1,
   "metadata": {},
   "outputs": [],
   "source": [
    "import pylab as plt\n",
    "import numpy as np\n",
    "import hdf5plugin\n",
    "import h5py\n",
    "import matplotlib.pyplot as plt\n",
    "from blimpy import Waterfall\n",
    "import PIL\n",
    "import os\n",
    "from scipy import ndimage, misc\n",
    "\n",
    "%matplotlib inline"
   ]
  },
  {
   "cell_type": "markdown",
   "metadata": {},
   "source": [
    "Note that many of the files available are [L band](https://en.wikipedia.org/wiki/Infrared_astronomy). In infrared astronomy, the L band is an atmospheric transmission window centred on 3.5 micrometres (in the mid-infrared)."
   ]
  },
  {
   "cell_type": "markdown",
   "metadata": {},
   "source": [
    "#### One-off"
   ]
  },
  {
   "cell_type": "markdown",
   "metadata": {},
   "source": [
    "Now, let's read the observation data using `Waterfall()`:"
   ]
  },
  {
   "cell_type": "code",
   "execution_count": 8,
   "metadata": {},
   "outputs": [],
   "source": [
    "window = 0.002\n",
    "f_start = 1522.181016 - (window/2)\n",
    "#f_stop = 1522.181516\n",
    "f_stop = f_start + (window/2) #units are MHz\n",
    "t_start = 0 \n",
    "t_stop = 16"
   ]
  },
  {
   "cell_type": "code",
   "execution_count": 22,
   "metadata": {},
   "outputs": [],
   "source": [
    "#Check this out!!!\n",
    "\n",
    "#https://seti.berkeley.edu/lband2017/landing.html"
   ]
  },
  {
   "cell_type": "code",
   "execution_count": 30,
   "metadata": {},
   "outputs": [
    {
     "name": "stdout",
     "output_type": "stream",
     "text": [
      "blimpy.file_wrapper INFO     Skipping loading data ...\n"
     ]
    }
   ],
   "source": [
    "#Recall,\n",
    "#0000 ... high frequency resolution\n",
    "#0001 ... high time resolution\n",
    "#0002 ... medium freq/time resolution\n",
    "\n",
    "#voyager_0002 \n",
    "#filterbank = Waterfall('d:/repos_personal/other/SETI/data/blc3_2bit_guppi_57386_VOYAGER1_0002.gpuspec.0002.fil')\n",
    "\n",
    "#voyager_0001 \n",
    "#filterbank_head = Waterfall('d:/repos_personal/other/SETI/data/blc3_2bit_guppi_57386_VOYAGER1_0002.gpuspec.0001.fil', load_data=False)\n",
    "#filterbank = Waterfall('d:/repos_personal/other/SETI/data/blc3_2bit_guppi_57386_VOYAGER1_0002.gpuspec.0001.fil', f_start=8420, f_stop=8421)\n",
    "\n",
    "#pulsar_0002\n",
    "#filterbank = Waterfall('d:/repos_personal/other/SETI/data/spliced_blc0001020304050607_guppi_57540_44265_DIAG_PSR_J2113+4644_0002.gpuspec.0002.fil')\n",
    "\n",
    "#Hits of HIP20901 from publication website\n",
    "#filterbank = Waterfall('D:/repos_personal/other/SETI/data/HIP20901/spliced_blc0001020304050607_guppi_57606_50409_Hip19822_0028.gpuspec.0000.h5')\n",
    "\n",
    "#Hits of HIP65352 from publication website\n",
    "#filterbank = Waterfall('D:/repos_personal/other/SETI/data/HIP65352/HIP65352/spliced_blc02030405_2bit_guppi_57459_34297_HIP65352_0027.gpuspec.0000.h5')\n",
    "\n",
    "#HIP65352 (Example Enrique data)\n",
    "filterbank_head = Waterfall('D:/repos_personal/other/SETI/SETI/data/spliced_blc02030405_2bit_guppi_57459_34297_HIP65352_0027.gpuspec.0000.h5', load_data=False)\n",
    "\n",
    "window = 0.001\n",
    "f_start = (1522.181016 - window)\n",
    "#f_stop = 1522.181516\n",
    "f_stop = (1522.181016 + window) #units are MHz\n",
    "t_start = 0 \n",
    "t_stop = 16\n",
    "\n",
    "filterbank = Waterfall('D:/repos_personal/other/SETI/SETI/data/spliced_blc02030405_2bit_guppi_57459_34297_HIP65352_0027.gpuspec.0000.h5', f_start=f_start, f_stop=f_stop,t_start=t_start,t_stop=t_stop,max_load=1)\n",
    "\n",
    "#HIP65352 extract of significant event\n",
    "#filterbank = Waterfall('D:/repos_personal/other/SETI/data/HIP65352/HIP65352/spliced_blc02030405_2bit_guppi_57459_34623_HIP65352_OFF_0028.gpuspec.0000.h5')"
   ]
  },
  {
   "cell_type": "code",
   "execution_count": 31,
   "metadata": {},
   "outputs": [
    {
     "name": "stdout",
     "output_type": "stream",
     "text": [
      "1522.180016\n",
      "1522.182016\n"
     ]
    }
   ],
   "source": [
    "print(1522.181016 - window)\n",
    "print(1522.181016 + window)"
   ]
  },
  {
   "cell_type": "code",
   "execution_count": 32,
   "metadata": {},
   "outputs": [
    {
     "name": "stdout",
     "output_type": "stream",
     "text": [
      "\n",
      "--- File Info ---\n",
      "b'DIMENSION_LABELS' : [b'frequency' b'feed_id' b'time']\n",
      " b'telescope_id' :                                6\n",
      "        b'nbits' :                               32\n",
      "         b'fch1' :                    1876.46484375\n",
      "    b'data_type' :                                1\n",
      "       b'nchans' :                        264503296\n",
      "        b'tsamp' :                     17.986224128\n",
      "         b'foff' :           -2.835503418452676e-06\n",
      "      b'src_raj' :                    13h23m39.099s\n",
      "      b'src_dej' :                     2d43m27.011s\n",
      "       b'tstart' :                57459.39695601852\n",
      "     b'az_start' :                              0.0\n",
      "  b'source_name' :                      b'HIP65352'\n",
      "     b'za_start' :                              0.0\n",
      "   b'machine_id' :                               20\n",
      "         b'nifs' :                                1\n",
      "\n",
      "Num ints in file :                               16\n",
      "      File shape :               (16, 1, 264503296)\n",
      "--- Selection Info ---\n",
      "Data selection shape :                     (16, 1, 705)\n",
      "Minimum freq (MHz) :               1522.1800166149915\n",
      "Maximum freq (MHz) :               1522.1820156449014\n"
     ]
    }
   ],
   "source": [
    "filterbank.info()"
   ]
  },
  {
   "cell_type": "code",
   "execution_count": 33,
   "metadata": {},
   "outputs": [
    {
     "name": "stdout",
     "output_type": "stream",
     "text": [
      "Min freq: 1126.46484375\n",
      "Max freq: 1876.46484375\n"
     ]
    }
   ],
   "source": [
    "print('Min freq: ' + str(filterbank_head.container.f_start))\n",
    "print('Max freq: ' + str(filterbank_head.container.f_stop))"
   ]
  },
  {
   "cell_type": "code",
   "execution_count": 34,
   "metadata": {},
   "outputs": [
    {
     "data": {
      "text/plain": [
       "15005307000.0"
      ]
     },
     "execution_count": 34,
     "metadata": {},
     "output_type": "execute_result"
    }
   ],
   "source": [
    "np.max(filterbank.data)"
   ]
  },
  {
   "cell_type": "code",
   "execution_count": 35,
   "metadata": {},
   "outputs": [
    {
     "data": {
      "image/png": "[encoded data removed]",
      "text/plain": [
       "<matplotlib.figure.Figure at 0x211be59b668>"
      ]
     },
     "metadata": {
      "needs_background": "light"
     },
     "output_type": "display_data"
    }
   ],
   "source": [
    "#https://github.com/UCBerkeleySETI/blimpy/blob/master/blimpy/waterfall.py\n",
    "plt.figure(figsize=(12,12))\n",
    "filterbank.plot_waterfall()"
   ]
  },
  {
   "cell_type": "code",
   "execution_count": 7,
   "metadata": {},
   "outputs": [],
   "source": [
    "#from scipy.stats import signaltonoise"
   ]
  },
  {
   "cell_type": "code",
   "execution_count": 100,
   "metadata": {},
   "outputs": [],
   "source": [
    "#MAX_IMSHOW_POINTS = (8192, 4096)\n",
    "\n",
    "#dec_fac_x, dec_fac_y = 1, 1\n",
    "\n",
    "#if plot_data.shape[0] > MAX_IMSHOW_POINTS[0]:\n",
    "#    dec_fac_x = int(plot_data.shape[0] / MAX_IMSHOW_POINTS[0])\n",
    "\n",
    "#if plot_data.shape[1] > MAX_IMSHOW_POINTS[1]:\n",
    "#    dec_fac_y =  int(plot_data.shape[1] /  MAX_IMSHOW_POINTS[1])\n",
    "\n",
    "#plot_data = rebin(plot_data, dec_fac_x, dec_fac_y)"
   ]
  },
  {
   "cell_type": "code",
   "execution_count": 16,
   "metadata": {},
   "outputs": [],
   "source": [
    "#extent = filterbank._calc_extent(plot_f=plot_f,plot_t=filterbank.timestamps)"
   ]
  },
  {
   "cell_type": "code",
   "execution_count": 17,
   "metadata": {},
   "outputs": [
    {
     "name": "stdout",
     "output_type": "stream",
     "text": [
      "73878936.0\n",
      "8671409000.0\n",
      "60824012.0\n"
     ]
    }
   ],
   "source": [
    "#plot_f, data_temp = filterbank.grab_data()\n",
    "#A1_avg = np.mean(data_temp)\n",
    "#A1_max = data_temp.max()\n",
    "#A1_std = np.std(data_temp)\n",
    "\n",
    "#print(A1_avg)\n",
    "#print(A1_max)\n",
    "#print(A1_std)"
   ]
  },
  {
   "cell_type": "code",
   "execution_count": 31,
   "metadata": {},
   "outputs": [],
   "source": [
    "#plt.colormaps(plot_data,\n",
    "#   aspect='auto',\n",
    "#    origin='lower',\n",
    "#    rasterized=True,\n",
    "#    interpolation='nearest',\n",
    "#    extent=extent,\n",
    "#    cmap='viridis')\n",
    "\n",
    "#plt.colorbar()\n",
    "#plt.clim(vmin=A1_avg,vmax=A1_avg+10.*A1_std);\n",
    "#plt.xlabel(\"Frequency [MHz]\")\n",
    "#plt.ylabel(\"Time [s]\")"
   ]
  },
  {
   "cell_type": "markdown",
   "metadata": {},
   "source": [
    "### Generate images across the frequency range"
   ]
  },
  {
   "cell_type": "markdown",
   "metadata": {},
   "source": [
    "I believe the rebin function is to prevent each image being scaled to it's local noise. That would make weak and bright signals potentially look the same. (That said, we don't want to throw away weak signals, do we?)\n",
    "\n",
    "Question ... is the signal at 1522.18 the brightest? If not, what's going on?"
   ]
  },
  {
   "cell_type": "markdown",
   "metadata": {},
   "source": [
    "### Function to find regions of interest"
   ]
  },
  {
   "cell_type": "markdown",
   "metadata": {},
   "source": [
    "Get noise baseline,"
   ]
  },
  {
   "cell_type": "code",
   "execution_count": 4,
   "metadata": {},
   "outputs": [
    {
     "name": "stdout",
     "output_type": "stream",
     "text": [
      "blimpy.file_wrapper INFO     Skipping loading data ...\n",
      "Noise baseline: 788458500.0\n"
     ]
    },
    {
     "data": {
      "image/png": "[encoded data removed]",
      "text/plain": [
       "<matplotlib.figure.Figure at 0x12b2a160240>"
      ]
     },
     "metadata": {
      "needs_background": "light"
     },
     "output_type": "display_data"
    }
   ],
   "source": [
    "filterbank_head = Waterfall('D:/repos_personal/other/SETI/SETI/data/spliced_blc02030405_2bit_guppi_57459_34297_HIP65352_0027.gpuspec.0000.h5', load_data=False)\n",
    "\n",
    "f_range=0.002\n",
    "f_start = filterbank_head.container.f_start\n",
    "f_stop = f_start+f_range\n",
    "t_start = 0\n",
    "t_stop = 16\n",
    "i=0\n",
    "\n",
    "noise_slice = Waterfall('D:/repos_personal/other/SETI/SETI/data/spliced_blc02030405_2bit_guppi_57459_34297_HIP65352_0027.gpuspec.0000.h5', f_start=f_start, f_stop=f_stop,t_start=t_start,t_stop=t_stop)\n",
    "\n",
    "plt.figure(figsize=(6,6))\n",
    "noise_slice.plot_waterfall()\n",
    "\n",
    "noise_baseline = np.max(noise_slice.data)\n",
    "\n",
    "print('Noise baseline: ' + str(noise_baseline))"
   ]
  },
  {
   "cell_type": "markdown",
   "metadata": {},
   "source": [
    "Find regions,"
   ]
  },
  {
   "cell_type": "code",
   "execution_count": 6,
   "metadata": {},
   "outputs": [
    {
     "name": "stdout",
     "output_type": "stream",
     "text": [
      "Just looked at 1126.76484375. RIO? ... No\n",
      "Just looked at 1127.06484375. RIO? ... No\n",
      "Just looked at 1127.3648437499999. RIO? ... No\n",
      "Just looked at 1127.6648437499998. RIO? ... No\n",
      "Just looked at 1127.9648437499998. RIO? ... Yes\n",
      "Just looked at 1128.2648437499997. RIO? ... No\n",
      "Just looked at 1128.5648437499997. RIO? ... No\n",
      "Just looked at 1128.8648437499996. RIO? ... No\n",
      "Just looked at 1129.1648437499996. RIO? ... No\n",
      "Just looked at 1129.4648437499995. RIO? ... No\n",
      "Just looked at 1129.7648437499995. RIO? ... No\n",
      "Just looked at 1130.0648437499995. RIO? ... No\n",
      "Just looked at 1130.3648437499994. RIO? ... No\n",
      "Just looked at 1130.6648437499994. RIO? ... No\n",
      "Just looked at 1130.9648437499993. RIO? ... Yes\n",
      "Just looked at 1131.2648437499993. RIO? ... No\n",
      "Just looked at 1131.5648437499992. RIO? ... No\n",
      "Just looked at 1131.8648437499992. RIO? ... No\n",
      "Just looked at 1132.1648437499991. RIO? ... No\n",
      "Just looked at 1132.464843749999. RIO? ... No\n",
      "Just looked at 1132.764843749999. RIO? ... No\n",
      "Just looked at 1133.064843749999. RIO? ... No\n",
      "Just looked at 1133.364843749999. RIO? ... No\n",
      "Just looked at 1133.664843749999. RIO? ... No\n",
      "Just looked at 1133.9648437499989. RIO? ... Yes\n",
      "Just looked at 1134.2648437499988. RIO? ... No\n",
      "Just looked at 1134.5648437499988. RIO? ... No\n",
      "Just looked at 1134.8648437499987. RIO? ... No\n",
      "Just looked at 1135.1648437499987. RIO? ... No\n",
      "Just looked at 1135.4648437499986. RIO? ... No\n",
      "Just looked at 1135.7648437499986. RIO? ... No\n",
      "Just looked at 1136.0648437499985. RIO? ... No\n",
      "Just looked at 1136.3648437499985. RIO? ... No\n",
      "Just looked at 1136.6648437499985. RIO? ... No\n",
      "Just looked at 1136.9648437499984. RIO? ... Yes\n",
      "Just looked at 1137.2648437499984. RIO? ... No\n",
      "Just looked at 1137.5648437499983. RIO? ... No\n",
      "Just looked at 1137.8648437499983. RIO? ... No\n",
      "Just looked at 1138.1648437499982. RIO? ... No\n",
      "Just looked at 1138.4648437499982. RIO? ... No\n",
      "Just looked at 1138.7648437499981. RIO? ... No\n",
      "Just looked at 1139.064843749998. RIO? ... No\n",
      "Just looked at 1139.364843749998. RIO? ... No\n",
      "Just looked at 1139.664843749998. RIO? ... No\n",
      "Just looked at 1139.964843749998. RIO? ... No\n",
      "Just looked at 1140.264843749998. RIO? ... No\n",
      "Just looked at 1140.5648437499979. RIO? ... No\n",
      "Just looked at 1140.8648437499978. RIO? ... No\n",
      "Just looked at 1141.1648437499978. RIO? ... No\n",
      "Just looked at 1141.4648437499977. RIO? ... No\n",
      "Just looked at 1141.7648437499977. RIO? ... No\n",
      "Just looked at 1142.0648437499976. RIO? ... No\n",
      "Just looked at 1142.3648437499976. RIO? ... No\n",
      "Just looked at 1142.6648437499975. RIO? ... Yes\n",
      "Just looked at 1142.9648437499975. RIO? ... No\n",
      "Just looked at 1143.2648437499975. RIO? ... No\n",
      "Just looked at 1143.5648437499974. RIO? ... No\n",
      "Just looked at 1143.8648437499974. RIO? ... No\n",
      "Just looked at 1144.1648437499973. RIO? ... No\n",
      "Just looked at 1144.4648437499973. RIO? ... No\n",
      "Just looked at 1144.7648437499972. RIO? ... No\n",
      "Just looked at 1145.0648437499972. RIO? ... No\n",
      "Just looked at 1145.3648437499971. RIO? ... No\n",
      "Just looked at 1145.664843749997. RIO? ... Yes\n",
      "Just looked at 1145.964843749997. RIO? ... No\n",
      "Just looked at 1146.264843749997. RIO? ... Yes\n",
      "Just looked at 1146.564843749997. RIO? ... No\n",
      "Just looked at 1146.864843749997. RIO? ... No\n",
      "Just looked at 1147.1648437499969. RIO? ... No\n",
      "Just looked at 1147.4648437499968. RIO? ... No\n",
      "Just looked at 1147.7648437499968. RIO? ... No\n",
      "Just looked at 1148.0648437499967. RIO? ... No\n",
      "Just looked at 1148.3648437499967. RIO? ... No\n",
      "Just looked at 1148.6648437499966. RIO? ... Yes\n",
      "Just looked at 1148.9648437499966. RIO? ... No\n",
      "Just looked at 1149.2648437499965. RIO? ... No\n",
      "Just looked at 1149.5648437499965. RIO? ... No\n",
      "Just looked at 1149.8648437499965. RIO? ... No\n",
      "Just looked at 1150.1648437499964. RIO? ... No\n",
      "Just looked at 1150.4648437499964. RIO? ... No\n",
      "Just looked at 1150.7648437499963. RIO? ... No\n",
      "Just looked at 1151.0648437499963. RIO? ... No\n",
      "Just looked at 1151.3648437499962. RIO? ... No\n",
      "Just looked at 1151.6648437499962. RIO? ... No\n",
      "Just looked at 1151.9648437499961. RIO? ... No\n",
      "Just looked at 1152.264843749996. RIO? ... No\n",
      "Just looked at 1152.564843749996. RIO? ... No\n",
      "Just looked at 1152.864843749996. RIO? ... No\n",
      "Just looked at 1153.164843749996. RIO? ... No\n",
      "Just looked at 1153.464843749996. RIO? ... No\n",
      "Just looked at 1153.7648437499959. RIO? ... No\n",
      "Just looked at 1154.0648437499958. RIO? ... No\n",
      "Just looked at 1154.3648437499958. RIO? ... No\n",
      "Just looked at 1154.6648437499957. RIO? ... No\n",
      "Just looked at 1154.9648437499957. RIO? ... No\n",
      "Just looked at 1155.2648437499956. RIO? ... No\n",
      "Just looked at 1155.5648437499956. RIO? ... No\n",
      "Just looked at 1155.8648437499955. RIO? ... No\n",
      "Just looked at 1156.1648437499955. RIO? ... No\n",
      "Just looked at 1156.4648437499955. RIO? ... No\n",
      "Just looked at 1156.7648437499954. RIO? ... No\n",
      "Just looked at 1157.0648437499954. RIO? ... No\n",
      "Just looked at 1157.3648437499953. RIO? ... Yes\n",
      "Just looked at 1157.6648437499953. RIO? ... No\n",
      "Just looked at 1157.9648437499952. RIO? ... No\n",
      "Just looked at 1158.2648437499952. RIO? ... No\n",
      "Just looked at 1158.5648437499951. RIO? ... No\n",
      "Just looked at 1158.864843749995. RIO? ... No\n",
      "Just looked at 1159.164843749995. RIO? ... No\n",
      "Just looked at 1159.464843749995. RIO? ... No\n",
      "Just looked at 1159.764843749995. RIO? ... No\n",
      "Just looked at 1160.064843749995. RIO? ... No\n",
      "Just looked at 1160.3648437499949. RIO? ... Yes\n",
      "Just looked at 1160.6648437499948. RIO? ... No\n",
      "Just looked at 1160.9648437499948. RIO? ... No\n",
      "Just looked at 1161.2648437499947. RIO? ... No\n",
      "Just looked at 1161.5648437499947. RIO? ... No\n",
      "Just looked at 1161.8648437499946. RIO? ... No\n",
      "Just looked at 1162.1648437499946. RIO? ... No\n",
      "Just looked at 1162.4648437499945. RIO? ... No\n",
      "Just looked at 1162.7648437499945. RIO? ... No\n",
      "Just looked at 1163.0648437499945. RIO? ... No\n",
      "Just looked at 1163.3648437499944. RIO? ... No\n",
      "Just looked at 1163.6648437499944. RIO? ... No\n",
      "Just looked at 1163.9648437499943. RIO? ... No\n",
      "Just looked at 1164.2648437499943. RIO? ... No\n",
      "Just looked at 1164.5648437499942. RIO? ... No\n",
      "Just looked at 1164.8648437499942. RIO? ... No\n",
      "Just looked at 1165.1648437499941. RIO? ... No\n",
      "Just looked at 1165.464843749994. RIO? ... No\n",
      "Just looked at 1165.764843749994. RIO? ... No\n",
      "Just looked at 1166.064843749994. RIO? ... Yes\n",
      "Just looked at 1166.364843749994. RIO? ... No\n",
      "Just looked at 1166.664843749994. RIO? ... No\n",
      "Just looked at 1166.9648437499939. RIO? ... No\n",
      "Just looked at 1167.2648437499938. RIO? ... No\n",
      "Just looked at 1167.5648437499938. RIO? ... No\n",
      "Just looked at 1167.8648437499937. RIO? ... No\n",
      "Just looked at 1168.1648437499937. RIO? ... No\n",
      "Just looked at 1168.4648437499936. RIO? ... No\n",
      "Just looked at 1168.7648437499936. RIO? ... No\n",
      "Just looked at 1169.0648437499935. RIO? ... Yes\n",
      "Just looked at 1169.3648437499935. RIO? ... No\n",
      "Just looked at 1169.6648437499935. RIO? ... No\n",
      "Just looked at 1169.9648437499934. RIO? ... No\n",
      "Just looked at 1170.2648437499934. RIO? ... Yes\n",
      "Just looked at 1170.5648437499933. RIO? ... No\n",
      "Just looked at 1170.8648437499933. RIO? ... No\n",
      "Just looked at 1171.1648437499932. RIO? ... No\n",
      "Just looked at 1171.4648437499932. RIO? ... No\n",
      "Just looked at 1171.7648437499931. RIO? ... No\n",
      "Just looked at 1172.064843749993. RIO? ... Yes\n",
      "Just looked at 1172.364843749993. RIO? ... No\n",
      "Just looked at 1172.664843749993. RIO? ... No\n",
      "Just looked at 1172.964843749993. RIO? ... No\n",
      "Just looked at 1173.264843749993. RIO? ... No\n",
      "Just looked at 1173.5648437499929. RIO? ... No\n",
      "Just looked at 1173.8648437499928. RIO? ... No\n",
      "Just looked at 1174.1648437499928. RIO? ... No\n",
      "Just looked at 1174.4648437499927. RIO? ... No\n",
      "Just looked at 1174.7648437499927. RIO? ... No\n",
      "Just looked at 1175.0648437499926. RIO? ... No\n",
      "Just looked at 1175.3648437499926. RIO? ... No\n",
      "Just looked at 1175.6648437499925. RIO? ... No\n",
      "Just looked at 1175.9648437499925. RIO? ... No\n",
      "Just looked at 1176.2648437499925. RIO? ... No\n",
      "Just looked at 1176.5648437499924. RIO? ... No\n",
      "Just looked at 1176.8648437499924. RIO? ... No\n",
      "Just looked at 1177.1648437499923. RIO? ... No\n",
      "Just looked at 1177.4648437499923. RIO? ... No\n",
      "Just looked at 1177.7648437499922. RIO? ... No\n",
      "Just looked at 1178.0648437499922. RIO? ... No\n",
      "Just looked at 1178.3648437499921. RIO? ... No\n",
      "Just looked at 1178.664843749992. RIO? ... No\n",
      "Just looked at 1178.964843749992. RIO? ... No\n",
      "Just looked at 1179.264843749992. RIO? ... No\n"
     ]
    },
    {
     "name": "stdout",
     "output_type": "stream",
     "text": [
      "Just looked at 1179.564843749992. RIO? ... No\n",
      "Just looked at 1179.864843749992. RIO? ... No\n",
      "Just looked at 1180.1648437499919. RIO? ... No\n",
      "Just looked at 1180.4648437499918. RIO? ... No\n",
      "Just looked at 1180.7648437499918. RIO? ... No\n",
      "Just looked at 1181.0648437499917. RIO? ... No\n",
      "Just looked at 1181.3648437499917. RIO? ... No\n",
      "Just looked at 1181.6648437499916. RIO? ... No\n",
      "Just looked at 1181.9648437499916. RIO? ... No\n",
      "Just looked at 1182.2648437499915. RIO? ... No\n",
      "Just looked at 1182.5648437499915. RIO? ... No\n",
      "Just looked at 1182.8648437499915. RIO? ... No\n",
      "Just looked at 1183.1648437499914. RIO? ... No\n",
      "Just looked at 1183.4648437499914. RIO? ... Yes\n",
      "Just looked at 1183.7648437499913. RIO? ... Yes\n",
      "Just looked at 1184.0648437499913. RIO? ... No\n",
      "Just looked at 1184.3648437499912. RIO? ... No\n",
      "Just looked at 1184.6648437499912. RIO? ... No\n",
      "Just looked at 1184.9648437499911. RIO? ... No\n",
      "Just looked at 1185.264843749991. RIO? ... No\n",
      "Just looked at 1185.564843749991. RIO? ... No\n",
      "Just looked at 1185.864843749991. RIO? ... No\n",
      "Just looked at 1186.164843749991. RIO? ... No\n",
      "Just looked at 1186.464843749991. RIO? ... No\n",
      "Just looked at 1186.7648437499909. RIO? ... No\n",
      "Just looked at 1187.0648437499908. RIO? ... No\n",
      "Just looked at 1187.3648437499908. RIO? ... No\n",
      "Just looked at 1187.6648437499907. RIO? ... No\n",
      "Just looked at 1187.9648437499907. RIO? ... No\n",
      "Just looked at 1188.2648437499906. RIO? ... No\n",
      "Just looked at 1188.5648437499906. RIO? ... No\n",
      "Just looked at 1188.8648437499905. RIO? ... No\n",
      "Just looked at 1189.1648437499905. RIO? ... No\n",
      "Just looked at 1189.4648437499905. RIO? ... No\n",
      "Just looked at 1189.7648437499904. RIO? ... No\n",
      "Just looked at 1190.0648437499904. RIO? ... No\n",
      "Just looked at 1190.3648437499903. RIO? ... No\n",
      "Just looked at 1190.6648437499903. RIO? ... No\n",
      "Just looked at 1190.9648437499902. RIO? ... No\n",
      "Just looked at 1191.2648437499902. RIO? ... No\n",
      "Just looked at 1191.5648437499901. RIO? ... No\n",
      "Just looked at 1191.86484374999. RIO? ... No\n",
      "Just looked at 1192.16484374999. RIO? ... No\n",
      "Just looked at 1192.46484374999. RIO? ... No\n",
      "Just looked at 1192.76484374999. RIO? ... No\n",
      "Just looked at 1193.06484374999. RIO? ... No\n",
      "Just looked at 1193.3648437499899. RIO? ... No\n",
      "Just looked at 1193.6648437499898. RIO? ... No\n",
      "Just looked at 1193.9648437499898. RIO? ... No\n",
      "Just looked at 1194.2648437499897. RIO? ... No\n",
      "Just looked at 1194.5648437499897. RIO? ... No\n",
      "Just looked at 1194.8648437499896. RIO? ... No\n",
      "Just looked at 1195.1648437499896. RIO? ... No\n",
      "Just looked at 1195.4648437499895. RIO? ... Yes\n",
      "Just looked at 1195.7648437499895. RIO? ... No\n",
      "Just looked at 1196.0648437499894. RIO? ... No\n",
      "Just looked at 1196.3648437499894. RIO? ... No\n",
      "Just looked at 1196.6648437499894. RIO? ... No\n",
      "Just looked at 1196.9648437499893. RIO? ... No\n",
      "Just looked at 1197.2648437499893. RIO? ... No\n",
      "Just looked at 1197.5648437499892. RIO? ... No\n",
      "Just looked at 1197.8648437499892. RIO? ... No\n",
      "Just looked at 1198.1648437499891. RIO? ... No\n",
      "Just looked at 1198.464843749989. RIO? ... Yes\n",
      "Just looked at 1198.764843749989. RIO? ... No\n",
      "Just looked at 1199.064843749989. RIO? ... No\n",
      "Just looked at 1199.364843749989. RIO? ... No\n",
      "Just looked at 1199.664843749989. RIO? ... No\n",
      "Just looked at 1199.9648437499889. RIO? ... No\n",
      "Just looked at 1200.2648437499888. RIO? ... Yes\n",
      "Just looked at 1200.5648437499888. RIO? ... No\n",
      "Just looked at 1200.8648437499887. RIO? ... No\n",
      "Just looked at 1201.1648437499887. RIO? ... No\n",
      "Just looked at 1201.4648437499886. RIO? ... Yes\n",
      "Just looked at 1201.7648437499886. RIO? ... No\n",
      "Just looked at 1202.0648437499885. RIO? ... No\n",
      "Just looked at 1202.3648437499885. RIO? ... No\n",
      "Just looked at 1202.6648437499884. RIO? ... No\n",
      "Just looked at 1202.9648437499884. RIO? ... No\n",
      "Just looked at 1203.2648437499884. RIO? ... No\n",
      "Just looked at 1203.5648437499883. RIO? ... No\n",
      "Just looked at 1203.8648437499883. RIO? ... No\n",
      "Just looked at 1204.1648437499882. RIO? ... Yes\n",
      "Just looked at 1204.4648437499882. RIO? ... Yes\n",
      "Just looked at 1204.7648437499881. RIO? ... No\n",
      "Just looked at 1205.064843749988. RIO? ... No\n",
      "Just looked at 1205.364843749988. RIO? ... No\n",
      "Just looked at 1205.664843749988. RIO? ... No\n",
      "Just looked at 1205.964843749988. RIO? ... No\n",
      "Just looked at 1206.264843749988. RIO? ... No\n",
      "Just looked at 1206.5648437499879. RIO? ... No\n",
      "Just looked at 1206.8648437499878. RIO? ... No\n",
      "Just looked at 1207.1648437499878. RIO? ... Yes\n",
      "Just looked at 1207.4648437499877. RIO? ... No\n",
      "Just looked at 1207.7648437499877. RIO? ... No\n",
      "Just looked at 1208.0648437499876. RIO? ... No\n",
      "Just looked at 1208.3648437499876. RIO? ... No\n",
      "Just looked at 1208.6648437499875. RIO? ... No\n",
      "Just looked at 1208.9648437499875. RIO? ... No\n",
      "Just looked at 1209.2648437499874. RIO? ... No\n",
      "Just looked at 1209.5648437499874. RIO? ... No\n",
      "Just looked at 1209.8648437499874. RIO? ... No\n",
      "Just looked at 1210.1648437499873. RIO? ... Yes\n",
      "Just looked at 1210.4648437499873. RIO? ... No\n",
      "Just looked at 1210.7648437499872. RIO? ... No\n",
      "Just looked at 1211.0648437499872. RIO? ... No\n",
      "Just looked at 1211.3648437499871. RIO? ... No\n",
      "Just looked at 1211.664843749987. RIO? ... No\n",
      "Just looked at 1211.964843749987. RIO? ... No\n",
      "Just looked at 1212.264843749987. RIO? ... No\n",
      "Just looked at 1212.564843749987. RIO? ... No\n",
      "Just looked at 1212.864843749987. RIO? ... No\n"
     ]
    },
    {
     "ename": "KeyboardInterrupt",
     "evalue": "",
     "output_type": "error",
     "traceback": [
      "\u001b[1;31m---------------------------------------------------------------------------\u001b[0m",
      "\u001b[1;31mKeyboardInterrupt\u001b[0m                         Traceback (most recent call last)",
      "\u001b[1;32m<ipython-input-6-ef75d4b5311b>\u001b[0m in \u001b[0;36m<module>\u001b[1;34m()\u001b[0m\n\u001b[0;32m     12\u001b[0m \u001b[1;32mwhile\u001b[0m \u001b[1;33m(\u001b[0m\u001b[0mf_stop\u001b[0m \u001b[1;33m<=\u001b[0m \u001b[0mfilterbank_head\u001b[0m\u001b[1;33m.\u001b[0m\u001b[0mcontainer\u001b[0m\u001b[1;33m.\u001b[0m\u001b[0mf_stop\u001b[0m\u001b[1;33m)\u001b[0m\u001b[1;33m:\u001b[0m\u001b[1;33m\u001b[0m\u001b[0m\n\u001b[0;32m     13\u001b[0m     \u001b[0mROI\u001b[0m \u001b[1;33m=\u001b[0m \u001b[1;34m'No'\u001b[0m\u001b[1;33m\u001b[0m\u001b[0m\n\u001b[1;32m---> 14\u001b[1;33m     \u001b[0mfilterbank\u001b[0m \u001b[1;33m=\u001b[0m \u001b[0mWaterfall\u001b[0m\u001b[1;33m(\u001b[0m\u001b[1;34m'D:/repos_personal/other/SETI/SETI/data/spliced_blc02030405_2bit_guppi_57459_34297_HIP65352_0027.gpuspec.0000.h5'\u001b[0m\u001b[1;33m,\u001b[0m \u001b[0mf_start\u001b[0m\u001b[1;33m=\u001b[0m\u001b[0mf_start\u001b[0m\u001b[1;33m,\u001b[0m \u001b[0mf_stop\u001b[0m\u001b[1;33m=\u001b[0m\u001b[0mf_stop\u001b[0m\u001b[1;33m,\u001b[0m\u001b[0mt_start\u001b[0m\u001b[1;33m=\u001b[0m\u001b[0mt_start\u001b[0m\u001b[1;33m,\u001b[0m\u001b[0mt_stop\u001b[0m\u001b[1;33m=\u001b[0m\u001b[0mt_stop\u001b[0m\u001b[1;33m)\u001b[0m\u001b[1;33m\u001b[0m\u001b[0m\n\u001b[0m\u001b[0;32m     15\u001b[0m     \u001b[0mdata_temp\u001b[0m \u001b[1;33m=\u001b[0m \u001b[0mfilterbank\u001b[0m\u001b[1;33m.\u001b[0m\u001b[0mdata\u001b[0m\u001b[1;33m\u001b[0m\u001b[0m\n\u001b[0;32m     16\u001b[0m     \u001b[0mmax_temp\u001b[0m \u001b[1;33m=\u001b[0m \u001b[0mnp\u001b[0m\u001b[1;33m.\u001b[0m\u001b[0mmax\u001b[0m\u001b[1;33m(\u001b[0m\u001b[0mdata_temp\u001b[0m\u001b[1;33m)\u001b[0m\u001b[1;33m\u001b[0m\u001b[0m\n",
      "\u001b[1;32m~\\AppData\\Local\\Continuum\\anaconda3\\lib\\site-packages\\blimpy\\waterfall.py\u001b[0m in \u001b[0;36m__init__\u001b[1;34m(self, filename, f_start, f_stop, t_start, t_stop, load_data, max_load, header_dict, data_array)\u001b[0m\n\u001b[0;32m    118\u001b[0m             \u001b[0mself\u001b[0m\u001b[1;33m.\u001b[0m\u001b[0mext\u001b[0m \u001b[1;33m=\u001b[0m \u001b[0mos\u001b[0m\u001b[1;33m.\u001b[0m\u001b[0mpath\u001b[0m\u001b[1;33m.\u001b[0m\u001b[0msplitext\u001b[0m\u001b[1;33m(\u001b[0m\u001b[0mfilename\u001b[0m\u001b[1;33m)\u001b[0m\u001b[1;33m[\u001b[0m\u001b[1;33m-\u001b[0m\u001b[1;36m1\u001b[0m\u001b[1;33m]\u001b[0m\u001b[1;33m.\u001b[0m\u001b[0mlower\u001b[0m\u001b[1;33m(\u001b[0m\u001b[1;33m)\u001b[0m\u001b[1;33m\u001b[0m\u001b[0m\n\u001b[0;32m    119\u001b[0m             self.container = fw.open_file(filename, f_start=f_start, f_stop=f_stop, t_start=t_start, t_stop=t_stop,\n\u001b[1;32m--> 120\u001b[1;33m                                           load_data=load_data, max_load=max_load)\n\u001b[0m\u001b[0;32m    121\u001b[0m             \u001b[0mself\u001b[0m\u001b[1;33m.\u001b[0m\u001b[0mfile_header\u001b[0m \u001b[1;33m=\u001b[0m \u001b[0mself\u001b[0m\u001b[1;33m.\u001b[0m\u001b[0mcontainer\u001b[0m\u001b[1;33m.\u001b[0m\u001b[0mheader\u001b[0m\u001b[1;33m\u001b[0m\u001b[0m\n\u001b[0;32m    122\u001b[0m             \u001b[0mself\u001b[0m\u001b[1;33m.\u001b[0m\u001b[0mheader\u001b[0m \u001b[1;33m=\u001b[0m \u001b[0mself\u001b[0m\u001b[1;33m.\u001b[0m\u001b[0mfile_header\u001b[0m\u001b[1;33m\u001b[0m\u001b[0m\n",
      "\u001b[1;32m~\\AppData\\Local\\Continuum\\anaconda3\\lib\\site-packages\\blimpy\\file_wrapper.py\u001b[0m in \u001b[0;36mopen_file\u001b[1;34m(filename, f_start, f_stop, t_start, t_stop, load_data, max_load)\u001b[0m\n\u001b[0;32m    763\u001b[0m         \u001b[1;31m# Open HDF5 file\u001b[0m\u001b[1;33m\u001b[0m\u001b[1;33m\u001b[0m\u001b[0m\n\u001b[0;32m    764\u001b[0m         return H5Reader(filename, f_start=f_start, f_stop=f_stop, t_start=t_start, t_stop=t_stop,\n\u001b[1;32m--> 765\u001b[1;33m                         load_data=load_data, max_load=max_load)\n\u001b[0m\u001b[0;32m    766\u001b[0m     \u001b[1;32melif\u001b[0m \u001b[0msigproc\u001b[0m\u001b[1;33m.\u001b[0m\u001b[0mis_filterbank\u001b[0m\u001b[1;33m(\u001b[0m\u001b[0mfilename\u001b[0m\u001b[1;33m)\u001b[0m\u001b[1;33m:\u001b[0m\u001b[1;33m\u001b[0m\u001b[0m\n\u001b[0;32m    767\u001b[0m         \u001b[1;31m# Open FIL file\u001b[0m\u001b[1;33m\u001b[0m\u001b[1;33m\u001b[0m\u001b[0m\n",
      "\u001b[1;32m~\\AppData\\Local\\Continuum\\anaconda3\\lib\\site-packages\\blimpy\\file_wrapper.py\u001b[0m in \u001b[0;36m__init__\u001b[1;34m(self, filename, f_start, f_stop, t_start, t_stop, load_data, max_load)\u001b[0m\n\u001b[0;32m    369\u001b[0m                             \u001b[0mself\u001b[0m\u001b[1;33m.\u001b[0m\u001b[0m_init_empty_selection\u001b[0m\u001b[1;33m(\u001b[0m\u001b[1;33m)\u001b[0m\u001b[1;33m\u001b[0m\u001b[0m\n\u001b[0;32m    370\u001b[0m                         \u001b[1;32melse\u001b[0m\u001b[1;33m:\u001b[0m\u001b[1;33m\u001b[0m\u001b[0m\n\u001b[1;32m--> 371\u001b[1;33m                             \u001b[0mself\u001b[0m\u001b[1;33m.\u001b[0m\u001b[0mread_data\u001b[0m\u001b[1;33m(\u001b[0m\u001b[1;33m)\u001b[0m\u001b[1;33m\u001b[0m\u001b[0m\n\u001b[0m\u001b[0;32m    372\u001b[0m                     \u001b[1;32melse\u001b[0m\u001b[1;33m:\u001b[0m\u001b[1;33m\u001b[0m\u001b[0m\n\u001b[0;32m    373\u001b[0m                         \u001b[0mlogger\u001b[0m\u001b[1;33m.\u001b[0m\u001b[0mwarning\u001b[0m\u001b[1;33m(\u001b[0m\u001b[1;34m\"The file is of size %.2f GB, exceeding our size limit %.2f GB. Instance created, header loaded, but data not loaded. You could try another (t,v) selection.\"\u001b[0m\u001b[1;33m%\u001b[0m\u001b[1;33m(\u001b[0m\u001b[0mself\u001b[0m\u001b[1;33m.\u001b[0m\u001b[0mfile_size_bytes\u001b[0m\u001b[1;33m/\u001b[0m\u001b[1;33m(\u001b[0m\u001b[1;36m1024.\u001b[0m\u001b[1;33m**\u001b[0m\u001b[1;36m3\u001b[0m\u001b[1;33m)\u001b[0m\u001b[1;33m,\u001b[0m \u001b[0mself\u001b[0m\u001b[1;33m.\u001b[0m\u001b[0mMAX_DATA_ARRAY_SIZE\u001b[0m\u001b[1;33m/\u001b[0m\u001b[1;33m(\u001b[0m\u001b[1;36m1024.\u001b[0m\u001b[1;33m**\u001b[0m\u001b[1;36m3\u001b[0m\u001b[1;33m)\u001b[0m\u001b[1;33m)\u001b[0m\u001b[1;33m)\u001b[0m\u001b[1;33m\u001b[0m\u001b[0m\n",
      "\u001b[1;32m~\\AppData\\Local\\Continuum\\anaconda3\\lib\\site-packages\\blimpy\\file_wrapper.py\u001b[0m in \u001b[0;36mread_data\u001b[1;34m(self, f_start, f_stop, t_start, t_stop)\u001b[0m\n\u001b[0;32m    433\u001b[0m         \u001b[0mself\u001b[0m\u001b[1;33m.\u001b[0m\u001b[0m_setup_freqs\u001b[0m\u001b[1;33m(\u001b[0m\u001b[1;33m)\u001b[0m\u001b[1;33m\u001b[0m\u001b[0m\n\u001b[0;32m    434\u001b[0m \u001b[1;33m\u001b[0m\u001b[0m\n\u001b[1;32m--> 435\u001b[1;33m         \u001b[0mself\u001b[0m\u001b[1;33m.\u001b[0m\u001b[0mdata\u001b[0m \u001b[1;33m=\u001b[0m \u001b[0mself\u001b[0m\u001b[1;33m.\u001b[0m\u001b[0mh5\u001b[0m\u001b[1;33m[\u001b[0m\u001b[1;34m\"data\"\u001b[0m\u001b[1;33m]\u001b[0m\u001b[1;33m[\u001b[0m\u001b[0mself\u001b[0m\u001b[1;33m.\u001b[0m\u001b[0mt_start\u001b[0m\u001b[1;33m:\u001b[0m\u001b[0mself\u001b[0m\u001b[1;33m.\u001b[0m\u001b[0mt_stop\u001b[0m\u001b[1;33m,\u001b[0m\u001b[1;33m:\u001b[0m\u001b[1;33m,\u001b[0m\u001b[0mself\u001b[0m\u001b[1;33m.\u001b[0m\u001b[0mchan_start_idx\u001b[0m\u001b[1;33m:\u001b[0m\u001b[0mself\u001b[0m\u001b[1;33m.\u001b[0m\u001b[0mchan_stop_idx\u001b[0m\u001b[1;33m]\u001b[0m\u001b[1;33m\u001b[0m\u001b[0m\n\u001b[0m\u001b[0;32m    436\u001b[0m \u001b[1;33m\u001b[0m\u001b[0m\n\u001b[0;32m    437\u001b[0m     \u001b[1;32mdef\u001b[0m \u001b[0mread_blob\u001b[0m\u001b[1;33m(\u001b[0m\u001b[0mself\u001b[0m\u001b[1;33m,\u001b[0m\u001b[0mblob_dim\u001b[0m\u001b[1;33m,\u001b[0m\u001b[0mn_blob\u001b[0m\u001b[1;33m=\u001b[0m\u001b[1;36m0\u001b[0m\u001b[1;33m)\u001b[0m\u001b[1;33m:\u001b[0m\u001b[1;33m\u001b[0m\u001b[0m\n",
      "\u001b[1;32mh5py\\_objects.pyx\u001b[0m in \u001b[0;36mh5py._objects.with_phil.wrapper\u001b[1;34m()\u001b[0m\n",
      "\u001b[1;32mh5py\\_objects.pyx\u001b[0m in \u001b[0;36mh5py._objects.with_phil.wrapper\u001b[1;34m()\u001b[0m\n",
      "\u001b[1;32m~\\AppData\\Local\\Continuum\\anaconda3\\lib\\site-packages\\h5py\\_hl\\dataset.py\u001b[0m in \u001b[0;36m__getitem__\u001b[1;34m(self, args)\u001b[0m\n\u001b[0;32m    497\u001b[0m \u001b[1;33m\u001b[0m\u001b[0m\n\u001b[0;32m    498\u001b[0m         \u001b[1;31m# Patch up the output for NumPy\u001b[0m\u001b[1;33m\u001b[0m\u001b[1;33m\u001b[0m\u001b[0m\n\u001b[1;32m--> 499\u001b[1;33m         \u001b[1;32mif\u001b[0m \u001b[0mlen\u001b[0m\u001b[1;33m(\u001b[0m\u001b[0mnames\u001b[0m\u001b[1;33m)\u001b[0m \u001b[1;33m==\u001b[0m \u001b[1;36m1\u001b[0m\u001b[1;33m:\u001b[0m\u001b[1;33m\u001b[0m\u001b[0m\n\u001b[0m\u001b[0;32m    500\u001b[0m             \u001b[0marr\u001b[0m \u001b[1;33m=\u001b[0m \u001b[0marr\u001b[0m\u001b[1;33m[\u001b[0m\u001b[0mnames\u001b[0m\u001b[1;33m[\u001b[0m\u001b[1;36m0\u001b[0m\u001b[1;33m]\u001b[0m\u001b[1;33m]\u001b[0m     \u001b[1;31m# Single-field recarray convention\u001b[0m\u001b[1;33m\u001b[0m\u001b[0m\n\u001b[0;32m    501\u001b[0m         \u001b[1;32mif\u001b[0m \u001b[0marr\u001b[0m\u001b[1;33m.\u001b[0m\u001b[0mshape\u001b[0m \u001b[1;33m==\u001b[0m \u001b[1;33m(\u001b[0m\u001b[1;33m)\u001b[0m\u001b[1;33m:\u001b[0m\u001b[1;33m\u001b[0m\u001b[0m\n",
      "\u001b[1;31mKeyboardInterrupt\u001b[0m: "
     ]
    }
   ],
   "source": [
    "f_range=0.3 #larger for ROI search\n",
    "f_start = filterbank_head.container.f_start\n",
    "f_stop = f_start+f_range\n",
    "t_start = 0\n",
    "t_stop = 16\n",
    "i=0\n",
    "noise_cutoff = 10\n",
    "RsOI = []\n",
    "max_signal = []\n",
    "signal = []\n",
    "\n",
    "while (f_stop <= filterbank_head.container.f_stop):\n",
    "    ROI = 'No'\n",
    "    filterbank = Waterfall('D:/repos_personal/other/SETI/SETI/data/spliced_blc02030405_2bit_guppi_57459_34297_HIP65352_0027.gpuspec.0000.h5', f_start=f_start, f_stop=f_stop,t_start=t_start,t_stop=t_stop)\n",
    "    data_temp = filterbank.data\n",
    "    max_temp = np.max(data_temp)\n",
    "    mean_signal = np.mean(data_temp)\n",
    "    if max_temp > noise_baseline*noise_cutoff:\n",
    "        RsOI.append(f_start)\n",
    "        ROI = 'Yes'\n",
    "        \n",
    "    #min_temp = np.min(data_temp)\n",
    "    #if min_temp < min_overall:\n",
    "    #    min_overall = min_temp\n",
    "        \n",
    "    max_signal.append(max_temp)    \n",
    "    signal.append(mean_signal)\n",
    "    \n",
    "    f_start = f_start + f_range\n",
    "    f_stop = f_stop + f_range\n",
    "    print(\"Just looked at \" + str(f_start) + \". RIO? ... \" + ROI)\n",
    "    i=i+1\n",
    "    \n",
    "#print('The minimum power is ' + str(min_overall))\n",
    "#print('The maximum power is ' + str(max_overall))"
   ]
  },
  {
   "cell_type": "code",
   "execution_count": 7,
   "metadata": {},
   "outputs": [
    {
     "data": {
      "text/plain": [
       "[<matplotlib.lines.Line2D at 0x12b2b05d9e8>]"
      ]
     },
     "execution_count": 7,
     "metadata": {},
     "output_type": "execute_result"
    },
    {
     "data": {
      "image/png": "[encoded data removed]",
      "text/plain": [
       "<matplotlib.figure.Figure at 0x12b2a3167f0>"
      ]
     },
     "metadata": {
      "needs_background": "light"
     },
     "output_type": "display_data"
    }
   ],
   "source": [
    "plt.plot(signal)"
   ]
  },
  {
   "cell_type": "code",
   "execution_count": 8,
   "metadata": {},
   "outputs": [
    {
     "data": {
      "text/plain": [
       "[<matplotlib.lines.Line2D at 0x12b2b0c0710>]"
      ]
     },
     "execution_count": 8,
     "metadata": {},
     "output_type": "execute_result"
    },
    {
     "data": {
      "image/png": "[encoded data removed]",
      "text/plain": [
       "<matplotlib.figure.Figure at 0x12b2b033438>"
      ]
     },
     "metadata": {
      "needs_background": "light"
     },
     "output_type": "display_data"
    }
   ],
   "source": [
    "plt.plot(max_signal)"
   ]
  },
  {
   "cell_type": "code",
   "execution_count": 9,
   "metadata": {},
   "outputs": [
    {
     "data": {
      "text/plain": [
       "24"
      ]
     },
     "execution_count": 9,
     "metadata": {},
     "output_type": "execute_result"
    }
   ],
   "source": [
    "len(RsOI)"
   ]
  },
  {
   "cell_type": "code",
   "execution_count": null,
   "metadata": {},
   "outputs": [],
   "source": [
    "#RsOI_min = RsOI.copy()\n",
    "#RsOI_max = RsOI.copy()\n",
    "\n",
    "#for i in range(0,len(RsOI_min)-1):\n",
    "#    RsOI_max[i] = RsOI_min[i+1]"
   ]
  },
  {
   "cell_type": "code",
   "execution_count": null,
   "metadata": {},
   "outputs": [],
   "source": [
    "#for i in range(0,len(RsOI_min)):\n",
    "#    print(\"Between \" + str(RsOI_min[i]) + \" and \" + str(RsOI_max[i]))\n",
    "#    print((1189.77 > RsOI_min[i]) & (1189.77 < RsOI_max[i]))"
   ]
  },
  {
   "cell_type": "markdown",
   "metadata": {},
   "source": [
    "### Function to plot spectrograms"
   ]
  },
  {
   "cell_type": "code",
   "execution_count": 10,
   "metadata": {},
   "outputs": [],
   "source": [
    "#https://github.com/UCBerkeleySETI/blimpy/blob/master/blimpy/utils.py\n",
    "\n",
    "def rebin(d, n_x, n_y=None):\n",
    "    \"\"\" Rebin data by averaging bins together\n",
    "    Args:\n",
    "    d (np.array): data\n",
    "    n_x (int): number of bins in x dir to rebin into one\n",
    "    n_y (int): number of bins in y dir to rebin into one\n",
    "    Returns:\n",
    "    d: rebinned data with shape (n_x, n_y)\n",
    "    \"\"\"\n",
    "\n",
    "    if d.ndim == 2:\n",
    "        if n_y is None:\n",
    "            n_y = 1\n",
    "        if n_x is None:\n",
    "            n_x = 1\n",
    "        d = d[:int(d.shape[0] // n_x) * n_x, :int(d.shape[1] // n_y) * n_y]\n",
    "        d = d.reshape((d.shape[0] // n_x, n_x, d.shape[1] // n_y, n_y))\n",
    "        d = d.mean(axis=3)\n",
    "        d = d.mean(axis=1)\n",
    "    elif d.ndim == 1:\n",
    "        d = d[:int(d.shape[0] // n_x) * n_x]\n",
    "        d = d.reshape((d.shape[0] // n_x, n_x))\n",
    "        d = d.mean(axis=1)\n",
    "    else:\n",
    "        raise RuntimeError(\"Only NDIM <= 2 supported\")\n",
    "    \n",
    "    return(d)"
   ]
  },
  {
   "cell_type": "code",
   "execution_count": 11,
   "metadata": {},
   "outputs": [
    {
     "name": "stdout",
     "output_type": "stream",
     "text": [
      "blimpy.file_wrapper INFO     Skipping loading data ...\n"
     ]
    }
   ],
   "source": [
    "#HIP65352 (Example Enrique data)\n",
    "chosen_file = 'D:/repos_personal/other/SETI/SETI/data/spliced_blc02030405_2bit_guppi_57459_34297_HIP65352_0027.gpuspec.0000.h5'\n",
    "filterbank_head = Waterfall(chosen_file, load_data=False)\n",
    "\n",
    "f_range=0.002\n",
    "#f_start = filterbank_head.container.f_start\n",
    "f_start = filterbank_head.container.f_start\n",
    "f_stop = f_start+f_range\n",
    "t_start = 0 \n",
    "t_stop = 16\n",
    "i=0\n",
    "MAX_IMSHOW_POINTS = (8192, 4096)"
   ]
  },
  {
   "cell_type": "code",
   "execution_count": 12,
   "metadata": {},
   "outputs": [
    {
     "name": "stdout",
     "output_type": "stream",
     "text": [
      "1127.6648437499998 (going up to 1876.46484375)\n",
      "1130.6648437499994 (going up to 1876.46484375)\n",
      "1133.664843749999 (going up to 1876.46484375)\n",
      "1136.6648437499985 (going up to 1876.46484375)\n",
      "1142.3648437499976 (going up to 1876.46484375)\n",
      "1145.3648437499971 (going up to 1876.46484375)\n",
      "1145.964843749997 (going up to 1876.46484375)\n",
      "1148.3648437499967 (going up to 1876.46484375)\n",
      "1157.0648437499954 (going up to 1876.46484375)\n",
      "1160.064843749995 (going up to 1876.46484375)\n",
      "1165.764843749994 (going up to 1876.46484375)\n",
      "1168.7648437499936 (going up to 1876.46484375)\n",
      "1169.9648437499934 (going up to 1876.46484375)\n",
      "1171.7648437499931 (going up to 1876.46484375)\n",
      "1183.1648437499914 (going up to 1876.46484375)\n",
      "1183.4648437499914 (going up to 1876.46484375)\n",
      "1195.1648437499896 (going up to 1876.46484375)\n",
      "1198.1648437499891 (going up to 1876.46484375)\n",
      "1199.9648437499889 (going up to 1876.46484375)\n",
      "1201.1648437499887 (going up to 1876.46484375)\n",
      "1203.8648437499883 (going up to 1876.46484375)\n",
      "1204.1648437499882 (going up to 1876.46484375)\n",
      "1206.8648437499878 (going up to 1876.46484375)\n",
      "1209.8648437499874 (going up to 1876.46484375)\n"
     ]
    },
    {
     "data": {
      "text/plain": [
       "<matplotlib.figure.Figure at 0x12b2a2f3fd0>"
      ]
     },
     "metadata": {},
     "output_type": "display_data"
    },
    {
     "data": {
      "text/plain": [
       "<matplotlib.figure.Figure at 0x12b2b108080>"
      ]
     },
     "metadata": {},
     "output_type": "display_data"
    },
    {
     "data": {
      "text/plain": [
       "<matplotlib.figure.Figure at 0x12b2b108320>"
      ]
     },
     "metadata": {},
     "output_type": "display_data"
    },
    {
     "data": {
      "text/plain": [
       "<matplotlib.figure.Figure at 0x12b2a972400>"
      ]
     },
     "metadata": {},
     "output_type": "display_data"
    },
    {
     "data": {
      "text/plain": [
       "<matplotlib.figure.Figure at 0x12b2a324518>"
      ]
     },
     "metadata": {},
     "output_type": "display_data"
    },
    {
     "data": {
      "text/plain": [
       "<matplotlib.figure.Figure at 0x12b2a324438>"
      ]
     },
     "metadata": {},
     "output_type": "display_data"
    },
    {
     "data": {
      "text/plain": [
       "<matplotlib.figure.Figure at 0x12b2a651518>"
      ]
     },
     "metadata": {},
     "output_type": "display_data"
    },
    {
     "data": {
      "text/plain": [
       "<matplotlib.figure.Figure at 0x12b2a6ac400>"
      ]
     },
     "metadata": {},
     "output_type": "display_data"
    },
    {
     "data": {
      "text/plain": [
       "<matplotlib.figure.Figure at 0x12b2a6a4ef0>"
      ]
     },
     "metadata": {},
     "output_type": "display_data"
    },
    {
     "data": {
      "text/plain": [
       "<matplotlib.figure.Figure at 0x12b2a683908>"
      ]
     },
     "metadata": {},
     "output_type": "display_data"
    },
    {
     "data": {
      "text/plain": [
       "<matplotlib.figure.Figure at 0x12b2a6fa940>"
      ]
     },
     "metadata": {},
     "output_type": "display_data"
    },
    {
     "data": {
      "text/plain": [
       "<matplotlib.figure.Figure at 0x12b2a999438>"
      ]
     },
     "metadata": {},
     "output_type": "display_data"
    },
    {
     "data": {
      "text/plain": [
       "<matplotlib.figure.Figure at 0x12b2a739278>"
      ]
     },
     "metadata": {},
     "output_type": "display_data"
    },
    {
     "data": {
      "text/plain": [
       "<matplotlib.figure.Figure at 0x12b2a745da0>"
      ]
     },
     "metadata": {},
     "output_type": "display_data"
    },
    {
     "data": {
      "text/plain": [
       "<matplotlib.figure.Figure at 0x12b2a6c7a20>"
      ]
     },
     "metadata": {},
     "output_type": "display_data"
    },
    {
     "data": {
      "text/plain": [
       "<matplotlib.figure.Figure at 0x12b2a729278>"
      ]
     },
     "metadata": {},
     "output_type": "display_data"
    },
    {
     "data": {
      "text/plain": [
       "<matplotlib.figure.Figure at 0x12b2a7912b0>"
      ]
     },
     "metadata": {},
     "output_type": "display_data"
    },
    {
     "data": {
      "text/plain": [
       "<matplotlib.figure.Figure at 0x12b2a7a5240>"
      ]
     },
     "metadata": {},
     "output_type": "display_data"
    },
    {
     "data": {
      "text/plain": [
       "<matplotlib.figure.Figure at 0x12b253592b0>"
      ]
     },
     "metadata": {},
     "output_type": "display_data"
    },
    {
     "data": {
      "text/plain": [
       "<matplotlib.figure.Figure at 0x12b2a2290f0>"
      ]
     },
     "metadata": {},
     "output_type": "display_data"
    },
    {
     "data": {
      "text/plain": [
       "<matplotlib.figure.Figure at 0x12b2a66a048>"
      ]
     },
     "metadata": {},
     "output_type": "display_data"
    },
    {
     "data": {
      "text/plain": [
       "<matplotlib.figure.Figure at 0x12b2a19d4e0>"
      ]
     },
     "metadata": {},
     "output_type": "display_data"
    },
    {
     "data": {
      "text/plain": [
       "<matplotlib.figure.Figure at 0x12b2b105da0>"
      ]
     },
     "metadata": {},
     "output_type": "display_data"
    },
    {
     "data": {
      "text/plain": [
       "<matplotlib.figure.Figure at 0x12b2a1f8be0>"
      ]
     },
     "metadata": {},
     "output_type": "display_data"
    }
   ],
   "source": [
    "#How Enrique plots his waterfall images,\n",
    "#https://github.com/jeenriquez/Lband_seti/blob/master/analysis/plot_candidates.py\n",
    "#i=1\n",
    "#for i in range(0,len(RsOI_min)):\n",
    "#while (f_stop <= filterbank_head.container.f_stop):\n",
    "    #if (f_start >= RsOI_min[i]) & (f_start <= RsOI_max[i]) :\n",
    "    \n",
    "for i in range(0,len(RsOI)):\n",
    "    f_start = RsOI[i]\n",
    "    f_stop = f_start + 0.3\n",
    "    filterbank = Waterfall(chosen_file, f_start=f_start, f_stop=f_stop,t_start=t_start,t_stop=t_stop)\n",
    "    plot_f, data_temp = filterbank.grab_data()\n",
    "\n",
    "    if filterbank.header[b'foff'] < 0:\n",
    "            data_temp = data_temp[..., ::-1] # Reverse data\n",
    "            plot_f = plot_f[::-1]\n",
    "\n",
    "    dec_fac_x, dec_fac_y = 1, 1\n",
    "\n",
    "    if data_temp.shape[0] > MAX_IMSHOW_POINTS[0]:\n",
    "        dec_fac_x = int(data_temp.shape[0] / MAX_IMSHOW_POINTS[0])\n",
    "\n",
    "    if data_temp.shape[1] > MAX_IMSHOW_POINTS[1]:\n",
    "        dec_fac_y =  int(data_temp.shape[1] /  MAX_IMSHOW_POINTS[1])\n",
    "\n",
    "    data_temp = rebin(data_temp, dec_fac_x, dec_fac_y)\n",
    "\n",
    "    extent = filterbank._calc_extent(plot_f=plot_f,plot_t=filterbank.timestamps)\n",
    "\n",
    "    A1_avg = np.mean(data_temp)\n",
    "    A1_max = data_temp.max()\n",
    "    A1_std = np.std(data_temp)\n",
    "    \n",
    "    plt.figure(figsize=(12,12))\n",
    "    plt.imshow(data_temp,\n",
    "    aspect='auto',\n",
    "    origin='lower',\n",
    "    rasterized=True,\n",
    "    interpolation='none',\n",
    "    extent=extent,\n",
    "    cmap='viridis')\n",
    "\n",
    "    #plt.colorbar()\n",
    "    plt.clim(vmin=A1_avg,vmax=A1_avg+10.*A1_std);\n",
    "    #plt.clim(vmin=1e3,vmax=3.5e9);\n",
    "    #plt.xlabel(\"Frequency [MHz]\")\n",
    "    #plt.ylabel(\"Time [s]\")\n",
    "\n",
    "    plt.axis('off') #Remove axes\n",
    "    plt.subplots_adjust(left=0, right=1, top=1, bottom=0) #Remove margins\n",
    "\n",
    "    plt.savefig('images/outfile_' + str(f_start) + '.jpg')\n",
    "\n",
    "    plt.clf() #Reset plots\n",
    "    \n",
    "    print(str(f_start) + ' (going up to ' + str(filterbank_head.container.f_stop) + ')')\n",
    "    f_start = f_start + f_range\n",
    "    f_stop = f_stop + f_range\n",
    "    i=i+1"
   ]
  },
  {
   "cell_type": "markdown",
   "metadata": {},
   "source": [
    "#### Combine all images"
   ]
  },
  {
   "cell_type": "code",
   "execution_count": 113,
   "metadata": {},
   "outputs": [
    {
     "name": "stdout",
     "output_type": "stream",
     "text": [
      "['outfile_0.jpg', 'outfile_1.jpg', 'outfile_10.jpg', 'outfile_11.jpg', 'outfile_12.jpg', 'outfile_13.jpg', 'outfile_14.jpg', 'outfile_15.jpg', 'outfile_16.jpg', 'outfile_17.jpg', 'outfile_18.jpg', 'outfile_19.jpg', 'outfile_2.jpg', 'outfile_20.jpg', 'outfile_21.jpg', 'outfile_22.jpg', 'outfile_23.jpg', 'outfile_24.jpg', 'outfile_25.jpg', 'outfile_26.jpg', 'outfile_27.jpg', 'outfile_28.jpg', 'outfile_29.jpg', 'outfile_3.jpg', 'outfile_30.jpg', 'outfile_31.jpg', 'outfile_32.jpg', 'outfile_33.jpg', 'outfile_34.jpg', 'outfile_35.jpg', 'outfile_36.jpg', 'outfile_37.jpg', 'outfile_38.jpg', 'outfile_39.jpg', 'outfile_4.jpg', 'outfile_40.jpg', 'outfile_41.jpg', 'outfile_42.jpg', 'outfile_43.jpg', 'outfile_44.jpg', 'outfile_45.jpg', 'outfile_46.jpg', 'outfile_47.jpg', 'outfile_48.jpg', 'outfile_49.jpg', 'outfile_5.jpg', 'outfile_50.jpg', 'outfile_51.jpg', 'outfile_52.jpg', 'outfile_53.jpg', 'outfile_54.jpg', 'outfile_55.jpg', 'outfile_56.jpg', 'outfile_57.jpg', 'outfile_58.jpg', 'outfile_59.jpg', 'outfile_6.jpg', 'outfile_60.jpg', 'outfile_61.jpg', 'outfile_62.jpg', 'outfile_63.jpg', 'outfile_64.jpg', 'outfile_65.jpg', 'outfile_66.jpg', 'outfile_67.jpg', 'outfile_68.jpg', 'outfile_69.jpg', 'outfile_7.jpg', 'outfile_70.jpg', 'outfile_71.jpg', 'outfile_72.jpg', 'outfile_73.jpg', 'outfile_74.jpg', 'outfile_8.jpg', 'outfile_9.jpg']\n"
     ]
    }
   ],
   "source": [
    "list_im = os.listdir('images/')\n",
    "print(list_im)"
   ]
  },
  {
   "cell_type": "code",
   "execution_count": 114,
   "metadata": {},
   "outputs": [],
   "source": [
    "imgs = [PIL.Image.open('images/' + i) for i in list_im]\n",
    "\n",
    "min_shape = sorted([(np.sum(i.size), i.size) for i in imgs])[0][1]\n",
    "imgs_comb = np.hstack((np.asarray( i.resize(min_shape) ) for i in imgs))\n",
    "imgs_comb = misc.imresize(imgs_comb, (2000, 3000)) #Resize the massive image!\n",
    "\n",
    "imgs_comb = PIL.Image.fromarray(imgs_comb)\n",
    "imgs_comb.save('HIP65352_A_1.jpg')"
   ]
  },
  {
   "cell_type": "markdown",
   "metadata": {},
   "source": [
    "#### Misc"
   ]
  },
  {
   "cell_type": "code",
   "execution_count": 49,
   "metadata": {},
   "outputs": [
    {
     "name": "stdout",
     "output_type": "stream",
     "text": [
      "extracting integration 0...\n"
     ]
    },
    {
     "data": {
      "image/png": "[encoded data removed]",
      "text/plain": [
       "<matplotlib.figure.Figure at 0x25d8122d8d0>"
      ]
     },
     "metadata": {
      "needs_background": "light"
     },
     "output_type": "display_data"
    }
   ],
   "source": [
    "filterbank.plot_spectrum()"
   ]
  },
  {
   "cell_type": "code",
   "execution_count": 8,
   "metadata": {},
   "outputs": [
    {
     "data": {
      "image/png": "[encoded data removed]",
      "text/plain": [
       "<matplotlib.figure.Figure at 0x1d78da8da90>"
      ]
     },
     "metadata": {
      "needs_background": "light"
     },
     "output_type": "display_data"
    }
   ],
   "source": [
    "filterbank.plot_kurtosis()"
   ]
  },
  {
   "cell_type": "code",
   "execution_count": 38,
   "metadata": {},
   "outputs": [
    {
     "name": "stdout",
     "output_type": "stream",
     "text": [
      "averaging along time axis...\n"
     ]
    },
    {
     "data": {
      "image/png": "[encoded data removed]",
      "text/plain": [
       "<matplotlib.figure.Figure at 0x211be77c588>"
      ]
     },
     "metadata": {
      "needs_background": "light"
     },
     "output_type": "display_data"
    }
   ],
   "source": [
    "filterbank.plot_spectrum_min_max()"
   ]
  },
  {
   "cell_type": "code",
   "execution_count": 10,
   "metadata": {},
   "outputs": [
    {
     "data": {
      "image/png": "[encoded data removed]",
      "text/plain": [
       "<matplotlib.figure.Figure at 0x1d78db86e10>"
      ]
     },
     "metadata": {
      "needs_background": "light"
     },
     "output_type": "display_data"
    }
   ],
   "source": [
    "filterbank.plot_time_series()"
   ]
  },
  {
   "cell_type": "code",
   "execution_count": null,
   "metadata": {},
   "outputs": [],
   "source": []
  }
 ],
 "metadata": {
  "anaconda-cloud": {},
  "kernelspec": {
   "display_name": "Python 3",
   "language": "python",
   "name": "python3"
  },
  "language_info": {
   "codemirror_mode": {
    "name": "ipython",
    "version": 3
   },
   "file_extension": ".py",
   "mimetype": "text/x-python",
   "name": "python",
   "nbconvert_exporter": "python",
   "pygments_lexer": "ipython3",
   "version": "3.6.4"
  }
 },
 "nbformat": 4,
 "nbformat_minor": 1
}
