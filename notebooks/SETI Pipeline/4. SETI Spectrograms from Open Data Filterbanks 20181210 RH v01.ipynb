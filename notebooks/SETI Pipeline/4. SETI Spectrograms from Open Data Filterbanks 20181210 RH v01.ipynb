{
 "cells": [
  {
   "cell_type": "markdown",
   "metadata": {},
   "source": [
    "## Enrique Data\n",
    "#### Adapted from the example Voyager notebook\n",
    "\n",
    "#### Filterbank format \n",
    "\n",
    "*The .fil files come as a set of four files - containing all 32-bit values except as noted:*\n",
    "\n",
    "- *.gpuspec.0000.fil : ~3Hz frequency bin resolution, ~18 second sample time (SETI)*\n",
    "- *.gpuspec.0001.fil : ~366MHz frequency bin resolution, 349 us sample time (Pulsar)*\n",
    "- *.gpuspec.0002.fil : ~3Khz frequency bin resolution, ~1 second sample time (\"in between\")*\n",
    "- *.gpuspec.8.0000.fil : 8-bit version of the Pulsar product (current pulsar detection tools can only handle 8-bit data)* \n",
    "\n",
    "So, I need the **gpuspec.0001.fil** files.\n",
    "\n",
    "Some filename conventions:\n",
    "\n",
    "blcNN_guppi_MMMMM_SSSSS_TTTTT_XXXX.suffix\n",
    "\n",
    "- NN : compute nodes or banks where the data was recorded (each two-digit NN represents 187.5 MHz of bandwidth)\n",
    "- MMMMM : MJD (modified Julian date) of observation\n",
    "- SSSSS : Seconds after midnight of observation\n",
    "- TTTTT : Target name (may contain underscores)\n",
    "- XXXX : sequence # (or #s) of observation (for bookkeeping)"
   ]
  },
  {
   "cell_type": "code",
   "execution_count": 1,
   "metadata": {},
   "outputs": [],
   "source": [
    "import pylab as plt\n",
    "import numpy as np\n",
    "import hdf5plugin\n",
    "import h5py\n",
    "import matplotlib.pyplot as plt\n",
    "from blimpy import Waterfall\n",
    "import PIL\n",
    "import os\n",
    "from scipy import ndimage, misc\n",
    "\n",
    "%matplotlib inline"
   ]
  },
  {
   "cell_type": "markdown",
   "metadata": {},
   "source": [
    "Note that many of the files available are [L band](https://en.wikipedia.org/wiki/Infrared_astronomy). In infrared astronomy, the L band is an atmospheric transmission window centred on 3.5 micrometres (in the mid-infrared)."
   ]
  },
  {
   "cell_type": "markdown",
   "metadata": {},
   "source": [
    "#### One-off"
   ]
  },
  {
   "cell_type": "markdown",
   "metadata": {},
   "source": [
    "Now, let's read the observation data using `Waterfall()`:"
   ]
  },
  {
   "cell_type": "code",
   "execution_count": 2,
   "metadata": {},
   "outputs": [],
   "source": [
    "f_start = 1522.180016\n",
    "#f_stop = 1522.181516\n",
    "f_stop = f_start + 0.003 #units are MHz\n",
    "t_start = 0 \n",
    "t_stop = 16"
   ]
  },
  {
   "cell_type": "code",
   "execution_count": 22,
   "metadata": {},
   "outputs": [],
   "source": [
    "#Check this out!!!\n",
    "\n",
    "#https://seti.berkeley.edu/lband2017/landing.html"
   ]
  },
  {
   "cell_type": "code",
   "execution_count": 2,
   "metadata": {},
   "outputs": [],
   "source": [
    "#Recall,\n",
    "#0000 ... high frequency resolution\n",
    "#0001 ... high time resolution\n",
    "#0002 ... medium freq/time resolution\n",
    "\n",
    "#voyager_0002 \n",
    "#filterbank = Waterfall('d:/repos_personal/other/SETI/data/blc3_2bit_guppi_57386_VOYAGER1_0002.gpuspec.0002.fil')\n",
    "\n",
    "#voyager_0001 \n",
    "#filterbank_head = Waterfall('d:/repos_personal/other/SETI/data/blc3_2bit_guppi_57386_VOYAGER1_0002.gpuspec.0001.fil', load_data=False)\n",
    "#filterbank = Waterfall('d:/repos_personal/other/SETI/data/blc3_2bit_guppi_57386_VOYAGER1_0002.gpuspec.0001.fil', f_start=8420, f_stop=8421)\n",
    "\n",
    "#pulsar_0002\n",
    "#filterbank = Waterfall('d:/repos_personal/other/SETI/data/spliced_blc0001020304050607_guppi_57540_44265_DIAG_PSR_J2113+4644_0002.gpuspec.0002.fil')\n",
    "\n",
    "#Hits of HIP20901 from publication website\n",
    "filterbank = Waterfall('D:/repos_personal/other/SETI/data/HIP20901/spliced_blc0001020304050607_guppi_57606_50409_Hip19822_0028.gpuspec.0000.h5')\n",
    "\n",
    "#Hits of HIP65352 from publication website\n",
    "#filterbank = Waterfall('D:/repos_personal/other/SETI/data/HIP65352/HIP65352/spliced_blc02030405_2bit_guppi_57459_34297_HIP65352_0027.gpuspec.0000.h5')\n",
    "\n",
    "#HIP65352 (Example Enrique data)\n",
    "#filterbank_head = Waterfall('D:/repos_personal/other/SETI/data/spliced_blc02030405_2bit_guppi_57459_34297_HIP65352_0027.gpuspec.0000.h5', load_data=False)\n",
    "\n",
    "#f_start = 1522.180016\n",
    "#f_stop = 1522.181516\n",
    "#f_stop = f_start + 0.003 #units are MHz\n",
    "#t_start = 0 \n",
    "#t_stop = 16\n",
    "\n",
    "#filterbank = Waterfall('D:/repos_personal/other/SETI/data/spliced_blc02030405_2bit_guppi_57459_34297_HIP65352_0027.gpuspec.0000.h5', f_start=f_start, f_stop=f_stop,t_start=t_start,t_stop=t_stop,max_load=1)\n",
    "\n",
    "#HIP65352 extract of significant event\n",
    "#filterbank = Waterfall('D:/repos_personal/other/SETI/data/HIP65352/HIP65352/spliced_blc02030405_2bit_guppi_57459_34623_HIP65352_OFF_0028.gpuspec.0000.h5')"
   ]
  },
  {
   "cell_type": "code",
   "execution_count": 3,
   "metadata": {},
   "outputs": [
    {
     "name": "stdout",
     "output_type": "stream",
     "text": [
      "\n",
      "--- File Info ---\n",
      " b'telescope_id' :                                6\n",
      "        b'nbits' :                               32\n",
      "         b'fch1' :                2251.464842353016\n",
      "    b'data_type' :                                1\n",
      "       b'nchans' :                        536870912\n",
      "        b'tsamp' :                     18.253611008\n",
      "         b'foff' :          -2.7939677238464355e-06\n",
      "      b'src_raj' :                     4h15m01.056s\n",
      "      b'src_dej' :                     15d44m15.36s\n",
      "       b'tstart' :                    57606.5834375\n",
      "     b'az_start' :                              0.0\n",
      "  b'source_name' :                      b'Hip19822'\n",
      "     b'za_start' :                              0.0\n",
      "   b'machine_id' :                               20\n",
      "         b'nifs' :                                1\n",
      "b'DIMENSION_LABELS' : [b'frequency' b'feed_id' b'time']\n",
      "\n",
      "Num ints in file :                               16\n",
      "      File shape :                   (16, 1, 71583)\n",
      "--- Selection Info ---\n",
      "Data selection shape :                   (16, 1, 71583)\n",
      "Minimum freq (MHz) :                 2251.26484176144\n",
      "Maximum freq (MHz) :                2251.464842353016\n"
     ]
    }
   ],
   "source": [
    "filterbank.info()"
   ]
  },
  {
   "cell_type": "code",
   "execution_count": 5,
   "metadata": {},
   "outputs": [
    {
     "ename": "NameError",
     "evalue": "name 'filterbank_head' is not defined",
     "output_type": "error",
     "traceback": [
      "\u001b[1;31m---------------------------------------------------------------------------\u001b[0m",
      "\u001b[1;31mNameError\u001b[0m                                 Traceback (most recent call last)",
      "\u001b[1;32m<ipython-input-5-d2a551f17fd1>\u001b[0m in \u001b[0;36m<module>\u001b[1;34m()\u001b[0m\n\u001b[1;32m----> 1\u001b[1;33m \u001b[0mprint\u001b[0m\u001b[1;33m(\u001b[0m\u001b[1;34m'Min freq: '\u001b[0m \u001b[1;33m+\u001b[0m \u001b[0mstr\u001b[0m\u001b[1;33m(\u001b[0m\u001b[0mfilterbank_head\u001b[0m\u001b[1;33m.\u001b[0m\u001b[0mcontainer\u001b[0m\u001b[1;33m.\u001b[0m\u001b[0mf_start\u001b[0m\u001b[1;33m)\u001b[0m\u001b[1;33m)\u001b[0m\u001b[1;33m\u001b[0m\u001b[0m\n\u001b[0m\u001b[0;32m      2\u001b[0m \u001b[0mprint\u001b[0m\u001b[1;33m(\u001b[0m\u001b[1;34m'Max freq: '\u001b[0m \u001b[1;33m+\u001b[0m \u001b[0mstr\u001b[0m\u001b[1;33m(\u001b[0m\u001b[0mfilterbank_head\u001b[0m\u001b[1;33m.\u001b[0m\u001b[0mcontainer\u001b[0m\u001b[1;33m.\u001b[0m\u001b[0mf_stop\u001b[0m\u001b[1;33m)\u001b[0m\u001b[1;33m)\u001b[0m\u001b[1;33m\u001b[0m\u001b[0m\n",
      "\u001b[1;31mNameError\u001b[0m: name 'filterbank_head' is not defined"
     ]
    }
   ],
   "source": [
    "print('Min freq: ' + str(filterbank_head.container.f_start))\n",
    "print('Max freq: ' + str(filterbank_head.container.f_stop))"
   ]
  },
  {
   "cell_type": "code",
   "execution_count": 5,
   "metadata": {},
   "outputs": [
    {
     "data": {
      "text/plain": [
       "19898405000.0"
      ]
     },
     "execution_count": 5,
     "metadata": {},
     "output_type": "execute_result"
    }
   ],
   "source": [
    "np.max(filterbank.data)"
   ]
  },
  {
   "cell_type": "code",
   "execution_count": 4,
   "metadata": {},
   "outputs": [
    {
     "data": {
      "image/png": "[encoded data removed]",
      "text/plain": [
       "<matplotlib.figure.Figure at 0x27cb9a32c88>"
      ]
     },
     "metadata": {
      "needs_background": "light"
     },
     "output_type": "display_data"
    }
   ],
   "source": [
    "#https://github.com/UCBerkeleySETI/blimpy/blob/master/blimpy/waterfall.py\n",
    "plt.figure(figsize=(12,12))\n",
    "filterbank.plot_waterfall()"
   ]
  },
  {
   "cell_type": "code",
   "execution_count": 5,
   "metadata": {},
   "outputs": [
    {
     "ename": "ImportError",
     "evalue": "cannot import name 'signaltonoise'",
     "output_type": "error",
     "traceback": [
      "\u001b[1;31m---------------------------------------------------------------------------\u001b[0m",
      "\u001b[1;31mImportError\u001b[0m                               Traceback (most recent call last)",
      "\u001b[1;32m<ipython-input-5-b65aaeae3de4>\u001b[0m in \u001b[0;36m<module>\u001b[1;34m()\u001b[0m\n\u001b[1;32m----> 1\u001b[1;33m \u001b[1;32mfrom\u001b[0m \u001b[0mscipy\u001b[0m\u001b[1;33m.\u001b[0m\u001b[0mstats\u001b[0m \u001b[1;32mimport\u001b[0m \u001b[0msignaltonoise\u001b[0m\u001b[1;33m\u001b[0m\u001b[0m\n\u001b[0m",
      "\u001b[1;31mImportError\u001b[0m: cannot import name 'signaltonoise'"
     ]
    }
   ],
   "source": [
    "from scipy.stats import signaltonoise"
   ]
  },
  {
   "cell_type": "code",
   "execution_count": 100,
   "metadata": {},
   "outputs": [],
   "source": [
    "#MAX_IMSHOW_POINTS = (8192, 4096)\n",
    "\n",
    "#dec_fac_x, dec_fac_y = 1, 1\n",
    "\n",
    "#if plot_data.shape[0] > MAX_IMSHOW_POINTS[0]:\n",
    "#    dec_fac_x = int(plot_data.shape[0] / MAX_IMSHOW_POINTS[0])\n",
    "\n",
    "#if plot_data.shape[1] > MAX_IMSHOW_POINTS[1]:\n",
    "#    dec_fac_y =  int(plot_data.shape[1] /  MAX_IMSHOW_POINTS[1])\n",
    "\n",
    "#plot_data = rebin(plot_data, dec_fac_x, dec_fac_y)"
   ]
  },
  {
   "cell_type": "code",
   "execution_count": 16,
   "metadata": {},
   "outputs": [],
   "source": [
    "#extent = filterbank._calc_extent(plot_f=plot_f,plot_t=filterbank.timestamps)"
   ]
  },
  {
   "cell_type": "code",
   "execution_count": 17,
   "metadata": {},
   "outputs": [
    {
     "name": "stdout",
     "output_type": "stream",
     "text": [
      "73878936.0\n",
      "8671409000.0\n",
      "60824012.0\n"
     ]
    }
   ],
   "source": [
    "#plot_f, data_temp = filterbank.grab_data()\n",
    "#A1_avg = np.mean(data_temp)\n",
    "#A1_max = data_temp.max()\n",
    "#A1_std = np.std(data_temp)\n",
    "\n",
    "#print(A1_avg)\n",
    "#print(A1_max)\n",
    "#print(A1_std)"
   ]
  },
  {
   "cell_type": "code",
   "execution_count": 31,
   "metadata": {},
   "outputs": [],
   "source": [
    "#plt.colormaps(plot_data,\n",
    "#   aspect='auto',\n",
    "#    origin='lower',\n",
    "#    rasterized=True,\n",
    "#    interpolation='nearest',\n",
    "#    extent=extent,\n",
    "#    cmap='viridis')\n",
    "\n",
    "#plt.colorbar()\n",
    "#plt.clim(vmin=A1_avg,vmax=A1_avg+10.*A1_std);\n",
    "#plt.xlabel(\"Frequency [MHz]\")\n",
    "#plt.ylabel(\"Time [s]\")"
   ]
  },
  {
   "cell_type": "markdown",
   "metadata": {},
   "source": [
    "### Generate images across the frequency range"
   ]
  },
  {
   "cell_type": "markdown",
   "metadata": {},
   "source": [
    "I believe the rebin function is to prevent each image being scaled to it's local noise. That would make weak and bright signals potentially look the same. (That said, we don't want to throw away weak signals, do we?)\n",
    "\n",
    "Question ... is the signal at 1522.18 the brightest? If not, what's going on?"
   ]
  },
  {
   "cell_type": "markdown",
   "metadata": {},
   "source": [
    "### Function to find regions of interest"
   ]
  },
  {
   "cell_type": "markdown",
   "metadata": {},
   "source": [
    "Get noise baseline,"
   ]
  },
  {
   "cell_type": "code",
   "execution_count": 9,
   "metadata": {},
   "outputs": [
    {
     "name": "stdout",
     "output_type": "stream",
     "text": [
      "blimpy.file_wrapper INFO     Skipping loading data ...\n",
      "Noise baseline: 829820160.0\n"
     ]
    },
    {
     "data": {
      "image/png": "[encoded data removed]",
      "text/plain": [
       "<matplotlib.figure.Figure at 0x20b241f96a0>"
      ]
     },
     "metadata": {
      "needs_background": "light"
     },
     "output_type": "display_data"
    }
   ],
   "source": [
    "filterbank_head = Waterfall('D:/repos_personal/other/SETI/data/spliced_blc02030405_2bit_guppi_57459_34297_HIP65352_0027.gpuspec.0000.h5', load_data=False)\n",
    "\n",
    "f_range=0.003\n",
    "f_start = filterbank_head.container.f_start\n",
    "f_stop = f_start+f_range\n",
    "t_start = 0\n",
    "t_stop = 16\n",
    "i=0\n",
    "\n",
    "noise_slice = Waterfall('D:/repos_personal/other/SETI/data/spliced_blc02030405_2bit_guppi_57459_34297_HIP65352_0027.gpuspec.0000.h5', f_start=f_start, f_stop=f_stop,t_start=t_start,t_stop=t_stop)\n",
    "\n",
    "plt.figure(figsize=(6,6))\n",
    "noise_slice.plot_waterfall()\n",
    "\n",
    "noise_baseline = np.max(noise_slice.data)\n",
    "\n",
    "print('Noise baseline: ' + str(noise_baseline))"
   ]
  },
  {
   "cell_type": "markdown",
   "metadata": {},
   "source": [
    "Find regions,"
   ]
  },
  {
   "cell_type": "code",
   "execution_count": 64,
   "metadata": {},
   "outputs": [
    {
     "name": "stdout",
     "output_type": "stream",
     "text": [
      "Just looked at 1126.76484375. RIO? ... No\n",
      "Just looked at 1127.06484375. RIO? ... No\n",
      "Just looked at 1127.3648437499999. RIO? ... No\n",
      "Just looked at 1127.6648437499998. RIO? ... No\n",
      "Just looked at 1127.9648437499998. RIO? ... Yes\n",
      "Just looked at 1128.2648437499997. RIO? ... No\n",
      "Just looked at 1128.5648437499997. RIO? ... No\n",
      "Just looked at 1128.8648437499996. RIO? ... No\n",
      "Just looked at 1129.1648437499996. RIO? ... No\n",
      "Just looked at 1129.4648437499995. RIO? ... No\n",
      "Just looked at 1129.7648437499995. RIO? ... No\n",
      "Just looked at 1130.0648437499995. RIO? ... No\n",
      "Just looked at 1130.3648437499994. RIO? ... No\n",
      "Just looked at 1130.6648437499994. RIO? ... No\n",
      "Just looked at 1130.9648437499993. RIO? ... Yes\n",
      "Just looked at 1131.2648437499993. RIO? ... No\n",
      "Just looked at 1131.5648437499992. RIO? ... No\n",
      "Just looked at 1131.8648437499992. RIO? ... No\n",
      "Just looked at 1132.1648437499991. RIO? ... No\n",
      "Just looked at 1132.464843749999. RIO? ... No\n",
      "Just looked at 1132.764843749999. RIO? ... No\n",
      "Just looked at 1133.064843749999. RIO? ... No\n",
      "Just looked at 1133.364843749999. RIO? ... No\n",
      "Just looked at 1133.664843749999. RIO? ... No\n",
      "Just looked at 1133.9648437499989. RIO? ... Yes\n",
      "Just looked at 1134.2648437499988. RIO? ... No\n",
      "Just looked at 1134.5648437499988. RIO? ... No\n",
      "Just looked at 1134.8648437499987. RIO? ... No\n",
      "Just looked at 1135.1648437499987. RIO? ... No\n",
      "Just looked at 1135.4648437499986. RIO? ... No\n",
      "Just looked at 1135.7648437499986. RIO? ... No\n",
      "Just looked at 1136.0648437499985. RIO? ... No\n",
      "Just looked at 1136.3648437499985. RIO? ... No\n",
      "Just looked at 1136.6648437499985. RIO? ... No\n",
      "Just looked at 1136.9648437499984. RIO? ... No\n",
      "Just looked at 1137.2648437499984. RIO? ... No\n",
      "Just looked at 1137.5648437499983. RIO? ... No\n",
      "Just looked at 1137.8648437499983. RIO? ... No\n",
      "Just looked at 1138.1648437499982. RIO? ... No\n",
      "Just looked at 1138.4648437499982. RIO? ... No\n",
      "Just looked at 1138.7648437499981. RIO? ... No\n",
      "Just looked at 1139.064843749998. RIO? ... No\n",
      "Just looked at 1139.364843749998. RIO? ... No\n",
      "Just looked at 1139.664843749998. RIO? ... No\n",
      "Just looked at 1139.964843749998. RIO? ... No\n",
      "Just looked at 1140.264843749998. RIO? ... No\n",
      "Just looked at 1140.5648437499979. RIO? ... No\n",
      "Just looked at 1140.8648437499978. RIO? ... No\n",
      "Just looked at 1141.1648437499978. RIO? ... No\n",
      "Just looked at 1141.4648437499977. RIO? ... No\n",
      "Just looked at 1141.7648437499977. RIO? ... No\n",
      "Just looked at 1142.0648437499976. RIO? ... No\n",
      "Just looked at 1142.3648437499976. RIO? ... No\n",
      "Just looked at 1142.6648437499975. RIO? ... No\n",
      "Just looked at 1142.9648437499975. RIO? ... No\n",
      "Just looked at 1143.2648437499975. RIO? ... No\n",
      "Just looked at 1143.5648437499974. RIO? ... No\n",
      "Just looked at 1143.8648437499974. RIO? ... No\n",
      "Just looked at 1144.1648437499973. RIO? ... No\n",
      "Just looked at 1144.4648437499973. RIO? ... No\n",
      "Just looked at 1144.7648437499972. RIO? ... No\n",
      "Just looked at 1145.0648437499972. RIO? ... No\n",
      "Just looked at 1145.3648437499971. RIO? ... No\n",
      "Just looked at 1145.664843749997. RIO? ... Yes\n",
      "Just looked at 1145.964843749997. RIO? ... No\n",
      "Just looked at 1146.264843749997. RIO? ... Yes\n",
      "Just looked at 1146.564843749997. RIO? ... No\n",
      "Just looked at 1146.864843749997. RIO? ... No\n",
      "Just looked at 1147.1648437499969. RIO? ... No\n",
      "Just looked at 1147.4648437499968. RIO? ... No\n",
      "Just looked at 1147.7648437499968. RIO? ... No\n",
      "Just looked at 1148.0648437499967. RIO? ... No\n",
      "Just looked at 1148.3648437499967. RIO? ... No\n",
      "Just looked at 1148.6648437499966. RIO? ... Yes\n",
      "Just looked at 1148.9648437499966. RIO? ... No\n",
      "Just looked at 1149.2648437499965. RIO? ... No\n",
      "Just looked at 1149.5648437499965. RIO? ... No\n",
      "Just looked at 1149.8648437499965. RIO? ... No\n",
      "Just looked at 1150.1648437499964. RIO? ... No\n",
      "Just looked at 1150.4648437499964. RIO? ... No\n",
      "Just looked at 1150.7648437499963. RIO? ... No\n",
      "Just looked at 1151.0648437499963. RIO? ... No\n",
      "Just looked at 1151.3648437499962. RIO? ... No\n",
      "Just looked at 1151.6648437499962. RIO? ... No\n",
      "Just looked at 1151.9648437499961. RIO? ... No\n",
      "Just looked at 1152.264843749996. RIO? ... No\n",
      "Just looked at 1152.564843749996. RIO? ... No\n",
      "Just looked at 1152.864843749996. RIO? ... No\n",
      "Just looked at 1153.164843749996. RIO? ... No\n",
      "Just looked at 1153.464843749996. RIO? ... No\n",
      "Just looked at 1153.7648437499959. RIO? ... No\n",
      "Just looked at 1154.0648437499958. RIO? ... No\n",
      "Just looked at 1154.3648437499958. RIO? ... No\n",
      "Just looked at 1154.6648437499957. RIO? ... No\n",
      "Just looked at 1154.9648437499957. RIO? ... No\n",
      "Just looked at 1155.2648437499956. RIO? ... No\n",
      "Just looked at 1155.5648437499956. RIO? ... No\n",
      "Just looked at 1155.8648437499955. RIO? ... No\n",
      "Just looked at 1156.1648437499955. RIO? ... No\n",
      "Just looked at 1156.4648437499955. RIO? ... No\n",
      "Just looked at 1156.7648437499954. RIO? ... No\n",
      "Just looked at 1157.0648437499954. RIO? ... No\n",
      "Just looked at 1157.3648437499953. RIO? ... No\n",
      "Just looked at 1157.6648437499953. RIO? ... No\n",
      "Just looked at 1157.9648437499952. RIO? ... No\n",
      "Just looked at 1158.2648437499952. RIO? ... No\n",
      "Just looked at 1158.5648437499951. RIO? ... No\n",
      "Just looked at 1158.864843749995. RIO? ... No\n",
      "Just looked at 1159.164843749995. RIO? ... No\n",
      "Just looked at 1159.464843749995. RIO? ... No\n",
      "Just looked at 1159.764843749995. RIO? ... No\n",
      "Just looked at 1160.064843749995. RIO? ... No\n",
      "Just looked at 1160.3648437499949. RIO? ... No\n",
      "Just looked at 1160.6648437499948. RIO? ... No\n",
      "Just looked at 1160.9648437499948. RIO? ... No\n",
      "Just looked at 1161.2648437499947. RIO? ... No\n",
      "Just looked at 1161.5648437499947. RIO? ... No\n",
      "Just looked at 1161.8648437499946. RIO? ... No\n",
      "Just looked at 1162.1648437499946. RIO? ... No\n",
      "Just looked at 1162.4648437499945. RIO? ... No\n",
      "Just looked at 1162.7648437499945. RIO? ... No\n",
      "Just looked at 1163.0648437499945. RIO? ... No\n",
      "Just looked at 1163.3648437499944. RIO? ... No\n",
      "Just looked at 1163.6648437499944. RIO? ... No\n",
      "Just looked at 1163.9648437499943. RIO? ... No\n",
      "Just looked at 1164.2648437499943. RIO? ... No\n",
      "Just looked at 1164.5648437499942. RIO? ... No\n",
      "Just looked at 1164.8648437499942. RIO? ... No\n",
      "Just looked at 1165.1648437499941. RIO? ... No\n",
      "Just looked at 1165.464843749994. RIO? ... No\n",
      "Just looked at 1165.764843749994. RIO? ... No\n",
      "Just looked at 1166.064843749994. RIO? ... Yes\n",
      "Just looked at 1166.364843749994. RIO? ... No\n",
      "Just looked at 1166.664843749994. RIO? ... No\n",
      "Just looked at 1166.9648437499939. RIO? ... No\n",
      "Just looked at 1167.2648437499938. RIO? ... No\n",
      "Just looked at 1167.5648437499938. RIO? ... No\n",
      "Just looked at 1167.8648437499937. RIO? ... No\n",
      "Just looked at 1168.1648437499937. RIO? ... No\n",
      "Just looked at 1168.4648437499936. RIO? ... No\n",
      "Just looked at 1168.7648437499936. RIO? ... No\n",
      "Just looked at 1169.0648437499935. RIO? ... No\n",
      "Just looked at 1169.3648437499935. RIO? ... No\n",
      "Just looked at 1169.6648437499935. RIO? ... No\n",
      "Just looked at 1169.9648437499934. RIO? ... No\n",
      "Just looked at 1170.2648437499934. RIO? ... Yes\n",
      "Just looked at 1170.5648437499933. RIO? ... No\n",
      "Just looked at 1170.8648437499933. RIO? ... No\n",
      "Just looked at 1171.1648437499932. RIO? ... No\n",
      "Just looked at 1171.4648437499932. RIO? ... No\n",
      "Just looked at 1171.7648437499931. RIO? ... No\n",
      "Just looked at 1172.064843749993. RIO? ... Yes\n",
      "Just looked at 1172.364843749993. RIO? ... No\n",
      "Just looked at 1172.664843749993. RIO? ... No\n",
      "Just looked at 1172.964843749993. RIO? ... No\n",
      "Just looked at 1173.264843749993. RIO? ... No\n",
      "Just looked at 1173.5648437499929. RIO? ... No\n",
      "Just looked at 1173.8648437499928. RIO? ... No\n",
      "Just looked at 1174.1648437499928. RIO? ... No\n",
      "Just looked at 1174.4648437499927. RIO? ... No\n",
      "Just looked at 1174.7648437499927. RIO? ... No\n",
      "Just looked at 1175.0648437499926. RIO? ... No\n",
      "Just looked at 1175.3648437499926. RIO? ... No\n",
      "Just looked at 1175.6648437499925. RIO? ... No\n",
      "Just looked at 1175.9648437499925. RIO? ... No\n",
      "Just looked at 1176.2648437499925. RIO? ... No\n",
      "Just looked at 1176.5648437499924. RIO? ... No\n",
      "Just looked at 1176.8648437499924. RIO? ... No\n",
      "Just looked at 1177.1648437499923. RIO? ... No\n",
      "Just looked at 1177.4648437499923. RIO? ... No\n",
      "Just looked at 1177.7648437499922. RIO? ... No\n",
      "Just looked at 1178.0648437499922. RIO? ... No\n",
      "Just looked at 1178.3648437499921. RIO? ... No\n",
      "Just looked at 1178.664843749992. RIO? ... No\n",
      "Just looked at 1178.964843749992. RIO? ... No\n",
      "Just looked at 1179.264843749992. RIO? ... No\n"
     ]
    },
    {
     "name": "stdout",
     "output_type": "stream",
     "text": [
      "Just looked at 1179.564843749992. RIO? ... No\n",
      "Just looked at 1179.864843749992. RIO? ... No\n",
      "Just looked at 1180.1648437499919. RIO? ... No\n",
      "Just looked at 1180.4648437499918. RIO? ... No\n",
      "Just looked at 1180.7648437499918. RIO? ... No\n",
      "Just looked at 1181.0648437499917. RIO? ... No\n",
      "Just looked at 1181.3648437499917. RIO? ... No\n",
      "Just looked at 1181.6648437499916. RIO? ... No\n",
      "Just looked at 1181.9648437499916. RIO? ... No\n",
      "Just looked at 1182.2648437499915. RIO? ... No\n",
      "Just looked at 1182.5648437499915. RIO? ... No\n",
      "Just looked at 1182.8648437499915. RIO? ... No\n",
      "Just looked at 1183.1648437499914. RIO? ... No\n",
      "Just looked at 1183.4648437499914. RIO? ... Yes\n",
      "Just looked at 1183.7648437499913. RIO? ... No\n",
      "Just looked at 1184.0648437499913. RIO? ... No\n",
      "Just looked at 1184.3648437499912. RIO? ... No\n",
      "Just looked at 1184.6648437499912. RIO? ... No\n",
      "Just looked at 1184.9648437499911. RIO? ... No\n",
      "Just looked at 1185.264843749991. RIO? ... No\n",
      "Just looked at 1185.564843749991. RIO? ... No\n",
      "Just looked at 1185.864843749991. RIO? ... No\n",
      "Just looked at 1186.164843749991. RIO? ... No\n",
      "Just looked at 1186.464843749991. RIO? ... No\n",
      "Just looked at 1186.7648437499909. RIO? ... No\n",
      "Just looked at 1187.0648437499908. RIO? ... No\n",
      "Just looked at 1187.3648437499908. RIO? ... No\n",
      "Just looked at 1187.6648437499907. RIO? ... No\n",
      "Just looked at 1187.9648437499907. RIO? ... No\n",
      "Just looked at 1188.2648437499906. RIO? ... No\n",
      "Just looked at 1188.5648437499906. RIO? ... No\n",
      "Just looked at 1188.8648437499905. RIO? ... No\n",
      "Just looked at 1189.1648437499905. RIO? ... No\n",
      "Just looked at 1189.4648437499905. RIO? ... No\n",
      "Just looked at 1189.7648437499904. RIO? ... No\n",
      "Just looked at 1190.0648437499904. RIO? ... No\n",
      "Just looked at 1190.3648437499903. RIO? ... No\n",
      "Just looked at 1190.6648437499903. RIO? ... No\n",
      "Just looked at 1190.9648437499902. RIO? ... No\n",
      "Just looked at 1191.2648437499902. RIO? ... No\n",
      "Just looked at 1191.5648437499901. RIO? ... No\n",
      "Just looked at 1191.86484374999. RIO? ... No\n",
      "Just looked at 1192.16484374999. RIO? ... No\n",
      "Just looked at 1192.46484374999. RIO? ... No\n",
      "Just looked at 1192.76484374999. RIO? ... No\n",
      "Just looked at 1193.06484374999. RIO? ... No\n",
      "Just looked at 1193.3648437499899. RIO? ... No\n",
      "Just looked at 1193.6648437499898. RIO? ... No\n",
      "Just looked at 1193.9648437499898. RIO? ... No\n",
      "Just looked at 1194.2648437499897. RIO? ... No\n",
      "Just looked at 1194.5648437499897. RIO? ... No\n",
      "Just looked at 1194.8648437499896. RIO? ... No\n",
      "Just looked at 1195.1648437499896. RIO? ... No\n",
      "Just looked at 1195.4648437499895. RIO? ... Yes\n",
      "Just looked at 1195.7648437499895. RIO? ... No\n",
      "Just looked at 1196.0648437499894. RIO? ... No\n",
      "Just looked at 1196.3648437499894. RIO? ... No\n",
      "Just looked at 1196.6648437499894. RIO? ... No\n",
      "Just looked at 1196.9648437499893. RIO? ... No\n",
      "Just looked at 1197.2648437499893. RIO? ... No\n",
      "Just looked at 1197.5648437499892. RIO? ... No\n",
      "Just looked at 1197.8648437499892. RIO? ... No\n",
      "Just looked at 1198.1648437499891. RIO? ... No\n",
      "Just looked at 1198.464843749989. RIO? ... No\n",
      "Just looked at 1198.764843749989. RIO? ... No\n",
      "Just looked at 1199.064843749989. RIO? ... No\n",
      "Just looked at 1199.364843749989. RIO? ... No\n",
      "Just looked at 1199.664843749989. RIO? ... No\n",
      "Just looked at 1199.9648437499889. RIO? ... No\n",
      "Just looked at 1200.2648437499888. RIO? ... Yes\n",
      "Just looked at 1200.5648437499888. RIO? ... No\n",
      "Just looked at 1200.8648437499887. RIO? ... No\n",
      "Just looked at 1201.1648437499887. RIO? ... No\n",
      "Just looked at 1201.4648437499886. RIO? ... No\n",
      "Just looked at 1201.7648437499886. RIO? ... No\n",
      "Just looked at 1202.0648437499885. RIO? ... No\n",
      "Just looked at 1202.3648437499885. RIO? ... No\n",
      "Just looked at 1202.6648437499884. RIO? ... No\n",
      "Just looked at 1202.9648437499884. RIO? ... No\n",
      "Just looked at 1203.2648437499884. RIO? ... No\n",
      "Just looked at 1203.5648437499883. RIO? ... No\n",
      "Just looked at 1203.8648437499883. RIO? ... No\n",
      "Just looked at 1204.1648437499882. RIO? ... Yes\n",
      "Just looked at 1204.4648437499882. RIO? ... Yes\n",
      "Just looked at 1204.7648437499881. RIO? ... No\n",
      "Just looked at 1205.064843749988. RIO? ... No\n",
      "Just looked at 1205.364843749988. RIO? ... No\n",
      "Just looked at 1205.664843749988. RIO? ... No\n",
      "Just looked at 1205.964843749988. RIO? ... No\n",
      "Just looked at 1206.264843749988. RIO? ... No\n",
      "Just looked at 1206.5648437499879. RIO? ... No\n",
      "Just looked at 1206.8648437499878. RIO? ... No\n",
      "Just looked at 1207.1648437499878. RIO? ... Yes\n",
      "Just looked at 1207.4648437499877. RIO? ... No\n",
      "Just looked at 1207.7648437499877. RIO? ... No\n",
      "Just looked at 1208.0648437499876. RIO? ... No\n",
      "Just looked at 1208.3648437499876. RIO? ... No\n",
      "Just looked at 1208.6648437499875. RIO? ... No\n",
      "Just looked at 1208.9648437499875. RIO? ... No\n",
      "Just looked at 1209.2648437499874. RIO? ... No\n",
      "Just looked at 1209.5648437499874. RIO? ... No\n",
      "Just looked at 1209.8648437499874. RIO? ... No\n",
      "Just looked at 1210.1648437499873. RIO? ... Yes\n",
      "Just looked at 1210.4648437499873. RIO? ... No\n",
      "Just looked at 1210.7648437499872. RIO? ... No\n",
      "Just looked at 1211.0648437499872. RIO? ... No\n",
      "Just looked at 1211.3648437499871. RIO? ... No\n",
      "Just looked at 1211.664843749987. RIO? ... No\n",
      "Just looked at 1211.964843749987. RIO? ... No\n",
      "Just looked at 1212.264843749987. RIO? ... No\n",
      "Just looked at 1212.564843749987. RIO? ... No\n",
      "Just looked at 1212.864843749987. RIO? ... No\n",
      "Just looked at 1213.1648437499869. RIO? ... Yes\n",
      "Just looked at 1213.4648437499868. RIO? ... No\n",
      "Just looked at 1213.7648437499868. RIO? ... No\n",
      "Just looked at 1214.0648437499867. RIO? ... No\n",
      "Just looked at 1214.3648437499867. RIO? ... No\n",
      "Just looked at 1214.6648437499866. RIO? ... No\n",
      "Just looked at 1214.9648437499866. RIO? ... No\n",
      "Just looked at 1215.2648437499865. RIO? ... No\n",
      "Just looked at 1215.5648437499865. RIO? ... No\n",
      "Just looked at 1215.8648437499864. RIO? ... Yes\n",
      "Just looked at 1216.1648437499864. RIO? ... No\n",
      "Just looked at 1216.4648437499864. RIO? ... No\n",
      "Just looked at 1216.7648437499863. RIO? ... No\n",
      "Just looked at 1217.0648437499863. RIO? ... No\n",
      "Just looked at 1217.3648437499862. RIO? ... No\n",
      "Just looked at 1217.6648437499862. RIO? ... No\n",
      "Just looked at 1217.9648437499861. RIO? ... No\n",
      "Just looked at 1218.264843749986. RIO? ... Yes\n",
      "Just looked at 1218.564843749986. RIO? ... No\n",
      "Just looked at 1218.864843749986. RIO? ... Yes\n",
      "Just looked at 1219.164843749986. RIO? ... No\n",
      "Just looked at 1219.464843749986. RIO? ... No\n",
      "Just looked at 1219.7648437499859. RIO? ... No\n",
      "Just looked at 1220.0648437499858. RIO? ... No\n",
      "Just looked at 1220.3648437499858. RIO? ... No\n",
      "Just looked at 1220.6648437499857. RIO? ... No\n",
      "Just looked at 1220.9648437499857. RIO? ... No\n",
      "Just looked at 1221.2648437499856. RIO? ... No\n",
      "Just looked at 1221.5648437499856. RIO? ... No\n",
      "Just looked at 1221.8648437499855. RIO? ... Yes\n",
      "Just looked at 1222.1648437499855. RIO? ... No\n",
      "Just looked at 1222.4648437499854. RIO? ... No\n",
      "Just looked at 1222.7648437499854. RIO? ... No\n",
      "Just looked at 1223.0648437499854. RIO? ... No\n",
      "Just looked at 1223.3648437499853. RIO? ... No\n",
      "Just looked at 1223.6648437499853. RIO? ... No\n",
      "Just looked at 1223.9648437499852. RIO? ... No\n",
      "Just looked at 1224.2648437499852. RIO? ... No\n",
      "Just looked at 1224.5648437499851. RIO? ... No\n",
      "Just looked at 1224.864843749985. RIO? ... Yes\n",
      "Just looked at 1225.164843749985. RIO? ... No\n",
      "Just looked at 1225.464843749985. RIO? ... No\n",
      "Just looked at 1225.764843749985. RIO? ... No\n",
      "Just looked at 1226.064843749985. RIO? ... No\n",
      "Just looked at 1226.3648437499849. RIO? ... No\n",
      "Just looked at 1226.6648437499848. RIO? ... No\n",
      "Just looked at 1226.9648437499848. RIO? ... No\n",
      "Just looked at 1227.2648437499847. RIO? ... No\n",
      "Just looked at 1227.5648437499847. RIO? ... Yes\n",
      "Just looked at 1227.8648437499846. RIO? ... No\n",
      "Just looked at 1228.1648437499846. RIO? ... No\n",
      "Just looked at 1228.4648437499845. RIO? ... No\n",
      "Just looked at 1228.7648437499845. RIO? ... No\n",
      "Just looked at 1229.0648437499844. RIO? ... No\n",
      "Just looked at 1229.3648437499844. RIO? ... No\n",
      "Just looked at 1229.6648437499844. RIO? ... No\n",
      "Just looked at 1229.9648437499843. RIO? ... No\n",
      "Just looked at 1230.2648437499843. RIO? ... No\n",
      "Just looked at 1230.5648437499842. RIO? ... Yes\n",
      "Just looked at 1230.8648437499842. RIO? ... No\n",
      "Just looked at 1231.1648437499841. RIO? ... No\n",
      "Just looked at 1231.464843749984. RIO? ... No\n",
      "Just looked at 1231.764843749984. RIO? ... No\n"
     ]
    },
    {
     "name": "stdout",
     "output_type": "stream",
     "text": [
      "Just looked at 1232.064843749984. RIO? ... No\n",
      "Just looked at 1232.364843749984. RIO? ... No\n",
      "Just looked at 1232.664843749984. RIO? ... No\n",
      "Just looked at 1232.9648437499839. RIO? ... No\n",
      "Just looked at 1233.2648437499838. RIO? ... No\n",
      "Just looked at 1233.5648437499838. RIO? ... No\n",
      "Just looked at 1233.8648437499837. RIO? ... No\n",
      "Just looked at 1234.1648437499837. RIO? ... No\n",
      "Just looked at 1234.4648437499836. RIO? ... No\n",
      "Just looked at 1234.7648437499836. RIO? ... No\n",
      "Just looked at 1235.0648437499835. RIO? ... No\n",
      "Just looked at 1235.3648437499835. RIO? ... No\n",
      "Just looked at 1235.6648437499834. RIO? ... No\n",
      "Just looked at 1235.9648437499834. RIO? ... No\n",
      "Just looked at 1236.2648437499834. RIO? ... No\n",
      "Just looked at 1236.5648437499833. RIO? ... No\n",
      "Just looked at 1236.8648437499833. RIO? ... No\n",
      "Just looked at 1237.1648437499832. RIO? ... No\n",
      "Just looked at 1237.4648437499832. RIO? ... No\n",
      "Just looked at 1237.7648437499831. RIO? ... No\n",
      "Just looked at 1238.064843749983. RIO? ... No\n",
      "Just looked at 1238.364843749983. RIO? ... No\n",
      "Just looked at 1238.664843749983. RIO? ... No\n",
      "Just looked at 1238.964843749983. RIO? ... No\n",
      "Just looked at 1239.264843749983. RIO? ... No\n",
      "Just looked at 1239.5648437499829. RIO? ... No\n",
      "Just looked at 1239.8648437499828. RIO? ... No\n",
      "Just looked at 1240.1648437499828. RIO? ... No\n",
      "Just looked at 1240.4648437499827. RIO? ... No\n",
      "Just looked at 1240.7648437499827. RIO? ... No\n",
      "Just looked at 1241.0648437499826. RIO? ... No\n",
      "Just looked at 1241.3648437499826. RIO? ... No\n",
      "Just looked at 1241.6648437499825. RIO? ... No\n",
      "Just looked at 1241.9648437499825. RIO? ... No\n",
      "Just looked at 1242.2648437499824. RIO? ... Yes\n",
      "Just looked at 1242.5648437499824. RIO? ... No\n",
      "Just looked at 1242.8648437499824. RIO? ... No\n",
      "Just looked at 1243.1648437499823. RIO? ... No\n",
      "Just looked at 1243.4648437499823. RIO? ... No\n",
      "Just looked at 1243.7648437499822. RIO? ... No\n",
      "Just looked at 1244.0648437499822. RIO? ... No\n",
      "Just looked at 1244.3648437499821. RIO? ... No\n",
      "Just looked at 1244.664843749982. RIO? ... No\n",
      "Just looked at 1244.964843749982. RIO? ... No\n",
      "Just looked at 1245.264843749982. RIO? ... No\n",
      "Just looked at 1245.564843749982. RIO? ... No\n",
      "Just looked at 1245.864843749982. RIO? ... No\n",
      "Just looked at 1246.1648437499819. RIO? ... No\n",
      "Just looked at 1246.4648437499818. RIO? ... No\n",
      "Just looked at 1246.7648437499818. RIO? ... No\n",
      "Just looked at 1247.0648437499817. RIO? ... No\n",
      "Just looked at 1247.3648437499817. RIO? ... No\n",
      "Just looked at 1247.6648437499816. RIO? ... No\n",
      "Just looked at 1247.9648437499816. RIO? ... No\n",
      "Just looked at 1248.2648437499815. RIO? ... No\n",
      "Just looked at 1248.5648437499815. RIO? ... No\n",
      "Just looked at 1248.8648437499814. RIO? ... No\n",
      "Just looked at 1249.1648437499814. RIO? ... No\n",
      "Just looked at 1249.4648437499814. RIO? ... No\n",
      "Just looked at 1249.7648437499813. RIO? ... No\n",
      "Just looked at 1250.0648437499813. RIO? ... Yes\n",
      "Just looked at 1250.3648437499812. RIO? ... No\n",
      "Just looked at 1250.6648437499812. RIO? ... No\n",
      "Just looked at 1250.9648437499811. RIO? ... No\n",
      "Just looked at 1251.264843749981. RIO? ... No\n",
      "Just looked at 1251.564843749981. RIO? ... No\n",
      "Just looked at 1251.864843749981. RIO? ... No\n",
      "Just looked at 1252.164843749981. RIO? ... No\n",
      "Just looked at 1252.464843749981. RIO? ... No\n",
      "Just looked at 1252.7648437499809. RIO? ... No\n",
      "Just looked at 1253.0648437499808. RIO? ... No\n",
      "Just looked at 1253.3648437499808. RIO? ... No\n",
      "Just looked at 1253.6648437499807. RIO? ... No\n",
      "Just looked at 1253.9648437499807. RIO? ... Yes\n",
      "Just looked at 1254.2648437499806. RIO? ... No\n",
      "Just looked at 1254.5648437499806. RIO? ... No\n",
      "Just looked at 1254.8648437499805. RIO? ... No\n",
      "Just looked at 1255.1648437499805. RIO? ... No\n",
      "Just looked at 1255.4648437499804. RIO? ... No\n",
      "Just looked at 1255.7648437499804. RIO? ... No\n",
      "Just looked at 1256.0648437499804. RIO? ... No\n",
      "Just looked at 1256.3648437499803. RIO? ... No\n",
      "Just looked at 1256.6648437499803. RIO? ... No\n",
      "Just looked at 1256.9648437499802. RIO? ... Yes\n",
      "Just looked at 1257.2648437499802. RIO? ... No\n",
      "Just looked at 1257.5648437499801. RIO? ... No\n",
      "Just looked at 1257.86484374998. RIO? ... No\n",
      "Just looked at 1258.16484374998. RIO? ... No\n",
      "Just looked at 1258.46484374998. RIO? ... No\n",
      "Just looked at 1258.76484374998. RIO? ... No\n",
      "Just looked at 1259.06484374998. RIO? ... No\n",
      "Just looked at 1259.3648437499799. RIO? ... No\n",
      "Just looked at 1259.6648437499798. RIO? ... No\n",
      "Just looked at 1259.9648437499798. RIO? ... Yes\n",
      "Just looked at 1260.2648437499797. RIO? ... No\n",
      "Just looked at 1260.5648437499797. RIO? ... No\n",
      "Just looked at 1260.8648437499796. RIO? ... No\n",
      "Just looked at 1261.1648437499796. RIO? ... No\n",
      "Just looked at 1261.4648437499795. RIO? ... No\n",
      "Just looked at 1261.7648437499795. RIO? ... No\n",
      "Just looked at 1262.0648437499794. RIO? ... No\n",
      "Just looked at 1262.3648437499794. RIO? ... No\n",
      "Just looked at 1262.6648437499794. RIO? ... No\n",
      "Just looked at 1262.9648437499793. RIO? ... Yes\n",
      "Just looked at 1263.2648437499793. RIO? ... No\n",
      "Just looked at 1263.5648437499792. RIO? ... No\n",
      "Just looked at 1263.8648437499792. RIO? ... No\n",
      "Just looked at 1264.1648437499791. RIO? ... No\n",
      "Just looked at 1264.464843749979. RIO? ... No\n",
      "Just looked at 1264.764843749979. RIO? ... No\n",
      "Just looked at 1265.064843749979. RIO? ... No\n",
      "Just looked at 1265.364843749979. RIO? ... No\n",
      "Just looked at 1265.664843749979. RIO? ... Yes\n",
      "Just looked at 1265.9648437499789. RIO? ... No\n",
      "Just looked at 1266.2648437499788. RIO? ... No\n",
      "Just looked at 1266.5648437499788. RIO? ... No\n",
      "Just looked at 1266.8648437499787. RIO? ... No\n",
      "Just looked at 1267.1648437499787. RIO? ... No\n",
      "Just looked at 1267.4648437499786. RIO? ... No\n",
      "Just looked at 1267.7648437499786. RIO? ... No\n",
      "Just looked at 1268.0648437499785. RIO? ... No\n",
      "Just looked at 1268.3648437499785. RIO? ... No\n",
      "Just looked at 1268.6648437499784. RIO? ... Yes\n",
      "Just looked at 1268.9648437499784. RIO? ... No\n",
      "Just looked at 1269.2648437499784. RIO? ... No\n",
      "Just looked at 1269.5648437499783. RIO? ... No\n",
      "Just looked at 1269.8648437499783. RIO? ... No\n",
      "Just looked at 1270.1648437499782. RIO? ... No\n",
      "Just looked at 1270.4648437499782. RIO? ... No\n",
      "Just looked at 1270.7648437499781. RIO? ... No\n",
      "Just looked at 1271.064843749978. RIO? ... No\n",
      "Just looked at 1271.364843749978. RIO? ... No\n",
      "Just looked at 1271.664843749978. RIO? ... Yes\n",
      "Just looked at 1271.964843749978. RIO? ... No\n",
      "Just looked at 1272.264843749978. RIO? ... No\n",
      "Just looked at 1272.5648437499779. RIO? ... No\n",
      "Just looked at 1272.8648437499778. RIO? ... No\n",
      "Just looked at 1273.1648437499778. RIO? ... No\n",
      "Just looked at 1273.4648437499777. RIO? ... No\n",
      "Just looked at 1273.7648437499777. RIO? ... No\n",
      "Just looked at 1274.0648437499776. RIO? ... No\n",
      "Just looked at 1274.3648437499776. RIO? ... No\n",
      "Just looked at 1274.6648437499775. RIO? ... Yes\n",
      "Just looked at 1274.9648437499775. RIO? ... No\n",
      "Just looked at 1275.2648437499774. RIO? ... No\n",
      "Just looked at 1275.5648437499774. RIO? ... No\n",
      "Just looked at 1275.8648437499774. RIO? ... No\n",
      "Just looked at 1276.1648437499773. RIO? ... No\n",
      "Just looked at 1276.4648437499773. RIO? ... No\n",
      "Just looked at 1276.7648437499772. RIO? ... No\n",
      "Just looked at 1277.0648437499772. RIO? ... No\n",
      "Just looked at 1277.3648437499771. RIO? ... Yes\n",
      "Just looked at 1277.664843749977. RIO? ... No\n",
      "Just looked at 1277.964843749977. RIO? ... No\n",
      "Just looked at 1278.264843749977. RIO? ... No\n",
      "Just looked at 1278.564843749977. RIO? ... No\n",
      "Just looked at 1278.864843749977. RIO? ... No\n",
      "Just looked at 1279.1648437499769. RIO? ... No\n",
      "Just looked at 1279.4648437499768. RIO? ... No\n",
      "Just looked at 1279.7648437499768. RIO? ... No\n",
      "Just looked at 1280.0648437499767. RIO? ... No\n",
      "Just looked at 1280.3648437499767. RIO? ... Yes\n",
      "Just looked at 1280.6648437499766. RIO? ... No\n",
      "Just looked at 1280.9648437499766. RIO? ... No\n",
      "Just looked at 1281.2648437499765. RIO? ... No\n",
      "Just looked at 1281.5648437499765. RIO? ... No\n",
      "Just looked at 1281.8648437499764. RIO? ... No\n",
      "Just looked at 1282.1648437499764. RIO? ... No\n",
      "Just looked at 1282.4648437499764. RIO? ... No\n",
      "Just looked at 1282.7648437499763. RIO? ... No\n",
      "Just looked at 1283.0648437499763. RIO? ... No\n",
      "Just looked at 1283.3648437499762. RIO? ... No\n",
      "Just looked at 1283.6648437499762. RIO? ... No\n",
      "Just looked at 1283.9648437499761. RIO? ... No\n",
      "Just looked at 1284.264843749976. RIO? ... No\n",
      "Just looked at 1284.564843749976. RIO? ... No\n"
     ]
    },
    {
     "name": "stdout",
     "output_type": "stream",
     "text": [
      "Just looked at 1284.864843749976. RIO? ... No\n",
      "Just looked at 1285.164843749976. RIO? ... No\n",
      "Just looked at 1285.464843749976. RIO? ... No\n",
      "Just looked at 1285.7648437499759. RIO? ... No\n",
      "Just looked at 1286.0648437499758. RIO? ... No\n",
      "Just looked at 1286.3648437499758. RIO? ... No\n",
      "Just looked at 1286.6648437499757. RIO? ... No\n",
      "Just looked at 1286.9648437499757. RIO? ... No\n",
      "Just looked at 1287.2648437499756. RIO? ... No\n",
      "Just looked at 1287.5648437499756. RIO? ... No\n",
      "Just looked at 1287.8648437499755. RIO? ... No\n",
      "Just looked at 1288.1648437499755. RIO? ... No\n",
      "Just looked at 1288.4648437499754. RIO? ... No\n",
      "Just looked at 1288.7648437499754. RIO? ... No\n",
      "Just looked at 1289.0648437499754. RIO? ... No\n",
      "Just looked at 1289.3648437499753. RIO? ... No\n",
      "Just looked at 1289.6648437499753. RIO? ... No\n",
      "Just looked at 1289.9648437499752. RIO? ... No\n",
      "Just looked at 1290.2648437499752. RIO? ... No\n",
      "Just looked at 1290.5648437499751. RIO? ... No\n",
      "Just looked at 1290.864843749975. RIO? ... No\n",
      "Just looked at 1291.164843749975. RIO? ... No\n",
      "Just looked at 1291.464843749975. RIO? ... No\n",
      "Just looked at 1291.764843749975. RIO? ... No\n",
      "Just looked at 1292.064843749975. RIO? ... No\n",
      "Just looked at 1292.3648437499749. RIO? ... No\n",
      "Just looked at 1292.6648437499748. RIO? ... No\n",
      "Just looked at 1292.9648437499748. RIO? ... No\n",
      "Just looked at 1293.2648437499747. RIO? ... No\n",
      "Just looked at 1293.5648437499747. RIO? ... No\n",
      "Just looked at 1293.8648437499746. RIO? ... No\n",
      "Just looked at 1294.1648437499746. RIO? ... No\n",
      "Just looked at 1294.4648437499745. RIO? ... No\n",
      "Just looked at 1294.7648437499745. RIO? ... No\n",
      "Just looked at 1295.0648437499744. RIO? ... No\n",
      "Just looked at 1295.3648437499744. RIO? ... No\n",
      "Just looked at 1295.6648437499744. RIO? ... No\n",
      "Just looked at 1295.9648437499743. RIO? ... No\n",
      "Just looked at 1296.2648437499743. RIO? ... Yes\n",
      "Just looked at 1296.5648437499742. RIO? ... No\n",
      "Just looked at 1296.8648437499742. RIO? ... No\n",
      "Just looked at 1297.1648437499741. RIO? ... No\n",
      "Just looked at 1297.464843749974. RIO? ... No\n",
      "Just looked at 1297.764843749974. RIO? ... No\n",
      "Just looked at 1298.064843749974. RIO? ... No\n",
      "Just looked at 1298.364843749974. RIO? ... No\n",
      "Just looked at 1298.664843749974. RIO? ... No\n",
      "Just looked at 1298.9648437499739. RIO? ... No\n",
      "Just looked at 1299.2648437499738. RIO? ... No\n",
      "Just looked at 1299.5648437499738. RIO? ... No\n",
      "Just looked at 1299.8648437499737. RIO? ... No\n",
      "Just looked at 1300.1648437499737. RIO? ... Yes\n",
      "Just looked at 1300.4648437499736. RIO? ... No\n",
      "Just looked at 1300.7648437499736. RIO? ... No\n",
      "Just looked at 1301.0648437499735. RIO? ... No\n",
      "Just looked at 1301.3648437499735. RIO? ... No\n",
      "Just looked at 1301.6648437499734. RIO? ... No\n",
      "Just looked at 1301.9648437499734. RIO? ... No\n",
      "Just looked at 1302.2648437499734. RIO? ... No\n",
      "Just looked at 1302.5648437499733. RIO? ... No\n",
      "Just looked at 1302.8648437499733. RIO? ... No\n",
      "Just looked at 1303.1648437499732. RIO? ... No\n",
      "Just looked at 1303.4648437499732. RIO? ... No\n",
      "Just looked at 1303.7648437499731. RIO? ... No\n",
      "Just looked at 1304.064843749973. RIO? ... No\n",
      "Just looked at 1304.364843749973. RIO? ... No\n",
      "Just looked at 1304.664843749973. RIO? ... No\n",
      "Just looked at 1304.964843749973. RIO? ... No\n",
      "Just looked at 1305.264843749973. RIO? ... No\n",
      "Just looked at 1305.5648437499729. RIO? ... No\n",
      "Just looked at 1305.8648437499728. RIO? ... No\n",
      "Just looked at 1306.1648437499728. RIO? ... No\n",
      "Just looked at 1306.4648437499727. RIO? ... No\n",
      "Just looked at 1306.7648437499727. RIO? ... No\n",
      "Just looked at 1307.0648437499726. RIO? ... No\n",
      "Just looked at 1307.3648437499726. RIO? ... No\n",
      "Just looked at 1307.6648437499725. RIO? ... No\n",
      "Just looked at 1307.9648437499725. RIO? ... No\n",
      "Just looked at 1308.2648437499724. RIO? ... No\n",
      "Just looked at 1308.5648437499724. RIO? ... No\n",
      "Just looked at 1308.8648437499724. RIO? ... No\n",
      "Just looked at 1309.1648437499723. RIO? ... Yes\n",
      "Just looked at 1309.4648437499723. RIO? ... No\n",
      "Just looked at 1309.7648437499722. RIO? ... No\n",
      "Just looked at 1310.0648437499722. RIO? ... No\n",
      "Just looked at 1310.3648437499721. RIO? ... No\n",
      "Just looked at 1310.664843749972. RIO? ... No\n",
      "Just looked at 1310.964843749972. RIO? ... No\n",
      "Just looked at 1311.264843749972. RIO? ... No\n",
      "Just looked at 1311.564843749972. RIO? ... No\n",
      "Just looked at 1311.864843749972. RIO? ... No\n",
      "Just looked at 1312.1648437499719. RIO? ... No\n",
      "Just looked at 1312.4648437499718. RIO? ... No\n",
      "Just looked at 1312.7648437499718. RIO? ... Yes\n",
      "Just looked at 1313.0648437499717. RIO? ... No\n",
      "Just looked at 1313.3648437499717. RIO? ... No\n",
      "Just looked at 1313.6648437499716. RIO? ... No\n",
      "Just looked at 1313.9648437499716. RIO? ... No\n",
      "Just looked at 1314.2648437499715. RIO? ... No\n",
      "Just looked at 1314.5648437499715. RIO? ... Yes\n",
      "Just looked at 1314.8648437499714. RIO? ... No\n",
      "Just looked at 1315.1648437499714. RIO? ... No\n",
      "Just looked at 1315.4648437499714. RIO? ... No\n",
      "Just looked at 1315.7648437499713. RIO? ... No\n",
      "Just looked at 1316.0648437499713. RIO? ... No\n",
      "Just looked at 1316.3648437499712. RIO? ... No\n",
      "Just looked at 1316.6648437499712. RIO? ... No\n",
      "Just looked at 1316.9648437499711. RIO? ... Yes\n",
      "Just looked at 1317.264843749971. RIO? ... No\n",
      "Just looked at 1317.564843749971. RIO? ... No\n",
      "Just looked at 1317.864843749971. RIO? ... No\n",
      "Just looked at 1318.164843749971. RIO? ... No\n",
      "Just looked at 1318.464843749971. RIO? ... No\n",
      "Just looked at 1318.7648437499709. RIO? ... Yes\n",
      "Just looked at 1319.0648437499708. RIO? ... No\n",
      "Just looked at 1319.3648437499708. RIO? ... No\n",
      "Just looked at 1319.6648437499707. RIO? ... No\n",
      "Just looked at 1319.9648437499707. RIO? ... No\n",
      "Just looked at 1320.2648437499706. RIO? ... No\n",
      "Just looked at 1320.5648437499706. RIO? ... No\n",
      "Just looked at 1320.8648437499705. RIO? ... No\n",
      "Just looked at 1321.1648437499705. RIO? ... No\n",
      "Just looked at 1321.4648437499704. RIO? ... No\n",
      "Just looked at 1321.7648437499704. RIO? ... No\n",
      "Just looked at 1322.0648437499704. RIO? ... No\n",
      "Just looked at 1322.3648437499703. RIO? ... No\n",
      "Just looked at 1322.6648437499703. RIO? ... No\n",
      "Just looked at 1322.9648437499702. RIO? ... No\n",
      "Just looked at 1323.2648437499702. RIO? ... No\n",
      "Just looked at 1323.5648437499701. RIO? ... No\n",
      "Just looked at 1323.86484374997. RIO? ... No\n",
      "Just looked at 1324.16484374997. RIO? ... No\n",
      "Just looked at 1324.46484374997. RIO? ... No\n",
      "Just looked at 1324.76484374997. RIO? ... No\n",
      "Just looked at 1325.06484374997. RIO? ... No\n",
      "Just looked at 1325.3648437499699. RIO? ... No\n",
      "Just looked at 1325.6648437499698. RIO? ... No\n",
      "Just looked at 1325.9648437499698. RIO? ... No\n",
      "Just looked at 1326.2648437499697. RIO? ... No\n",
      "Just looked at 1326.5648437499697. RIO? ... No\n",
      "Just looked at 1326.8648437499696. RIO? ... No\n",
      "Just looked at 1327.1648437499696. RIO? ... No\n",
      "Just looked at 1327.4648437499695. RIO? ... No\n",
      "Just looked at 1327.7648437499695. RIO? ... No\n",
      "Just looked at 1328.0648437499694. RIO? ... No\n",
      "Just looked at 1328.3648437499694. RIO? ... No\n",
      "Just looked at 1328.6648437499694. RIO? ... No\n",
      "Just looked at 1328.9648437499693. RIO? ... No\n",
      "Just looked at 1329.2648437499693. RIO? ... No\n",
      "Just looked at 1329.5648437499692. RIO? ... No\n",
      "Just looked at 1329.8648437499692. RIO? ... No\n",
      "Just looked at 1330.1648437499691. RIO? ... No\n",
      "Just looked at 1330.464843749969. RIO? ... No\n",
      "Just looked at 1330.764843749969. RIO? ... No\n",
      "Just looked at 1331.064843749969. RIO? ... No\n",
      "Just looked at 1331.364843749969. RIO? ... No\n",
      "Just looked at 1331.664843749969. RIO? ... No\n",
      "Just looked at 1331.9648437499688. RIO? ... No\n",
      "Just looked at 1332.2648437499688. RIO? ... No\n",
      "Just looked at 1332.5648437499688. RIO? ... No\n",
      "Just looked at 1332.8648437499687. RIO? ... No\n",
      "Just looked at 1333.1648437499687. RIO? ... No\n",
      "Just looked at 1333.4648437499686. RIO? ... No\n",
      "Just looked at 1333.7648437499686. RIO? ... No\n",
      "Just looked at 1334.0648437499685. RIO? ... No\n",
      "Just looked at 1334.3648437499685. RIO? ... No\n",
      "Just looked at 1334.6648437499684. RIO? ... No\n",
      "Just looked at 1334.9648437499684. RIO? ... No\n",
      "Just looked at 1335.2648437499683. RIO? ... No\n",
      "Just looked at 1335.5648437499683. RIO? ... No\n",
      "Just looked at 1335.8648437499683. RIO? ... No\n",
      "Just looked at 1336.1648437499682. RIO? ... No\n",
      "Just looked at 1336.4648437499682. RIO? ... No\n",
      "Just looked at 1336.7648437499681. RIO? ... No\n",
      "Just looked at 1337.064843749968. RIO? ... No\n",
      "Just looked at 1337.364843749968. RIO? ... No\n",
      "Just looked at 1337.664843749968. RIO? ... No\n"
     ]
    },
    {
     "name": "stdout",
     "output_type": "stream",
     "text": [
      "Just looked at 1337.964843749968. RIO? ... No\n",
      "Just looked at 1338.264843749968. RIO? ... No\n",
      "Just looked at 1338.5648437499678. RIO? ... No\n",
      "Just looked at 1338.8648437499678. RIO? ... No\n",
      "Just looked at 1339.1648437499678. RIO? ... No\n",
      "Just looked at 1339.4648437499677. RIO? ... No\n",
      "Just looked at 1339.7648437499677. RIO? ... No\n",
      "Just looked at 1340.0648437499676. RIO? ... No\n",
      "Just looked at 1340.3648437499676. RIO? ... No\n",
      "Just looked at 1340.6648437499675. RIO? ... No\n",
      "Just looked at 1340.9648437499675. RIO? ... No\n",
      "Just looked at 1341.2648437499674. RIO? ... No\n",
      "Just looked at 1341.5648437499674. RIO? ... No\n",
      "Just looked at 1341.8648437499673. RIO? ... No\n",
      "Just looked at 1342.1648437499673. RIO? ... No\n",
      "Just looked at 1342.4648437499673. RIO? ... No\n",
      "Just looked at 1342.7648437499672. RIO? ... No\n",
      "Just looked at 1343.0648437499672. RIO? ... No\n",
      "Just looked at 1343.3648437499671. RIO? ... No\n",
      "Just looked at 1343.664843749967. RIO? ... No\n",
      "Just looked at 1343.964843749967. RIO? ... No\n",
      "Just looked at 1344.264843749967. RIO? ... No\n",
      "Just looked at 1344.564843749967. RIO? ... No\n",
      "Just looked at 1344.864843749967. RIO? ... No\n",
      "Just looked at 1345.1648437499668. RIO? ... No\n",
      "Just looked at 1345.4648437499668. RIO? ... No\n",
      "Just looked at 1345.7648437499668. RIO? ... No\n",
      "Just looked at 1346.0648437499667. RIO? ... No\n",
      "Just looked at 1346.3648437499667. RIO? ... No\n",
      "Just looked at 1346.6648437499666. RIO? ... No\n",
      "Just looked at 1346.9648437499666. RIO? ... No\n",
      "Just looked at 1347.2648437499665. RIO? ... No\n",
      "Just looked at 1347.5648437499665. RIO? ... No\n",
      "Just looked at 1347.8648437499664. RIO? ... No\n",
      "Just looked at 1348.1648437499664. RIO? ... No\n",
      "Just looked at 1348.4648437499663. RIO? ... No\n",
      "Just looked at 1348.7648437499663. RIO? ... No\n",
      "Just looked at 1349.0648437499663. RIO? ... No\n",
      "Just looked at 1349.3648437499662. RIO? ... No\n",
      "Just looked at 1349.6648437499662. RIO? ... No\n",
      "Just looked at 1349.9648437499661. RIO? ... No\n",
      "Just looked at 1350.264843749966. RIO? ... No\n",
      "Just looked at 1350.564843749966. RIO? ... No\n",
      "Just looked at 1350.864843749966. RIO? ... No\n",
      "Just looked at 1351.164843749966. RIO? ... No\n",
      "Just looked at 1351.464843749966. RIO? ... No\n",
      "Just looked at 1351.7648437499658. RIO? ... No\n",
      "Just looked at 1352.0648437499658. RIO? ... No\n",
      "Just looked at 1352.3648437499658. RIO? ... No\n",
      "Just looked at 1352.6648437499657. RIO? ... No\n",
      "Just looked at 1352.9648437499657. RIO? ... No\n",
      "Just looked at 1353.2648437499656. RIO? ... No\n",
      "Just looked at 1353.5648437499656. RIO? ... Yes\n",
      "Just looked at 1353.8648437499655. RIO? ... No\n",
      "Just looked at 1354.1648437499655. RIO? ... No\n",
      "Just looked at 1354.4648437499654. RIO? ... No\n",
      "Just looked at 1354.7648437499654. RIO? ... No\n",
      "Just looked at 1355.0648437499653. RIO? ... No\n",
      "Just looked at 1355.3648437499653. RIO? ... No\n",
      "Just looked at 1355.6648437499653. RIO? ... No\n",
      "Just looked at 1355.9648437499652. RIO? ... No\n",
      "Just looked at 1356.2648437499652. RIO? ... No\n",
      "Just looked at 1356.5648437499651. RIO? ... No\n",
      "Just looked at 1356.864843749965. RIO? ... No\n",
      "Just looked at 1357.164843749965. RIO? ... No\n",
      "Just looked at 1357.464843749965. RIO? ... No\n",
      "Just looked at 1357.764843749965. RIO? ... No\n",
      "Just looked at 1358.064843749965. RIO? ... No\n",
      "Just looked at 1358.3648437499648. RIO? ... No\n",
      "Just looked at 1358.6648437499648. RIO? ... No\n",
      "Just looked at 1358.9648437499648. RIO? ... No\n",
      "Just looked at 1359.2648437499647. RIO? ... No\n",
      "Just looked at 1359.5648437499647. RIO? ... Yes\n",
      "Just looked at 1359.8648437499646. RIO? ... No\n",
      "Just looked at 1360.1648437499646. RIO? ... No\n",
      "Just looked at 1360.4648437499645. RIO? ... Yes\n",
      "Just looked at 1360.7648437499645. RIO? ... No\n",
      "Just looked at 1361.0648437499644. RIO? ... No\n",
      "Just looked at 1361.3648437499644. RIO? ... No\n",
      "Just looked at 1361.6648437499643. RIO? ... No\n",
      "Just looked at 1361.9648437499643. RIO? ... No\n",
      "Just looked at 1362.2648437499643. RIO? ... No\n",
      "Just looked at 1362.5648437499642. RIO? ... Yes\n",
      "Just looked at 1362.8648437499642. RIO? ... No\n",
      "Just looked at 1363.1648437499641. RIO? ... No\n",
      "Just looked at 1363.464843749964. RIO? ... No\n",
      "Just looked at 1363.764843749964. RIO? ... No\n",
      "Just looked at 1364.064843749964. RIO? ... No\n",
      "Just looked at 1364.364843749964. RIO? ... No\n",
      "Just looked at 1364.664843749964. RIO? ... No\n",
      "Just looked at 1364.9648437499638. RIO? ... No\n",
      "Just looked at 1365.2648437499638. RIO? ... No\n",
      "Just looked at 1365.5648437499638. RIO? ... No\n",
      "Just looked at 1365.8648437499637. RIO? ... No\n",
      "Just looked at 1366.1648437499637. RIO? ... No\n",
      "Just looked at 1366.4648437499636. RIO? ... No\n",
      "Just looked at 1366.7648437499636. RIO? ... No\n",
      "Just looked at 1367.0648437499635. RIO? ... No\n",
      "Just looked at 1367.3648437499635. RIO? ... No\n",
      "Just looked at 1367.6648437499634. RIO? ... No\n",
      "Just looked at 1367.9648437499634. RIO? ... No\n",
      "Just looked at 1368.2648437499633. RIO? ... Yes\n",
      "Just looked at 1368.5648437499633. RIO? ... No\n",
      "Just looked at 1368.8648437499633. RIO? ... No\n",
      "Just looked at 1369.1648437499632. RIO? ... No\n",
      "Just looked at 1369.4648437499632. RIO? ... No\n",
      "Just looked at 1369.7648437499631. RIO? ... No\n",
      "Just looked at 1370.064843749963. RIO? ... No\n",
      "Just looked at 1370.364843749963. RIO? ... No\n",
      "Just looked at 1370.664843749963. RIO? ... No\n",
      "Just looked at 1370.964843749963. RIO? ... No\n",
      "Just looked at 1371.264843749963. RIO? ... Yes\n",
      "Just looked at 1371.5648437499628. RIO? ... No\n",
      "Just looked at 1371.8648437499628. RIO? ... No\n",
      "Just looked at 1372.1648437499628. RIO? ... No\n",
      "Just looked at 1372.4648437499627. RIO? ... No\n",
      "Just looked at 1372.7648437499627. RIO? ... No\n",
      "Just looked at 1373.0648437499626. RIO? ... No\n",
      "Just looked at 1373.3648437499626. RIO? ... No\n",
      "Just looked at 1373.6648437499625. RIO? ... No\n",
      "Just looked at 1373.9648437499625. RIO? ... No\n",
      "Just looked at 1374.2648437499624. RIO? ... No\n",
      "Just looked at 1374.5648437499624. RIO? ... No\n",
      "Just looked at 1374.8648437499623. RIO? ... No\n",
      "Just looked at 1375.1648437499623. RIO? ... Yes\n",
      "Just looked at 1375.4648437499623. RIO? ... No\n",
      "Just looked at 1375.7648437499622. RIO? ... No\n",
      "Just looked at 1376.0648437499622. RIO? ... No\n",
      "Just looked at 1376.3648437499621. RIO? ... No\n",
      "Just looked at 1376.664843749962. RIO? ... No\n",
      "Just looked at 1376.964843749962. RIO? ... Yes\n",
      "Just looked at 1377.264843749962. RIO? ... No\n",
      "Just looked at 1377.564843749962. RIO? ... No\n",
      "Just looked at 1377.864843749962. RIO? ... No\n",
      "Just looked at 1378.1648437499618. RIO? ... No\n",
      "Just looked at 1378.4648437499618. RIO? ... No\n",
      "Just looked at 1378.7648437499618. RIO? ... No\n",
      "Just looked at 1379.0648437499617. RIO? ... No\n",
      "Just looked at 1379.3648437499617. RIO? ... No\n",
      "Just looked at 1379.6648437499616. RIO? ... No\n",
      "Just looked at 1379.9648437499616. RIO? ... No\n",
      "Just looked at 1380.2648437499615. RIO? ... No\n",
      "Just looked at 1380.5648437499615. RIO? ... No\n",
      "Just looked at 1380.8648437499614. RIO? ... No\n",
      "Just looked at 1381.1648437499614. RIO? ... No\n",
      "Just looked at 1381.4648437499613. RIO? ... No\n",
      "Just looked at 1381.7648437499613. RIO? ... No\n",
      "Just looked at 1382.0648437499613. RIO? ... No\n",
      "Just looked at 1382.3648437499612. RIO? ... No\n",
      "Just looked at 1382.6648437499612. RIO? ... No\n",
      "Just looked at 1382.9648437499611. RIO? ... No\n",
      "Just looked at 1383.264843749961. RIO? ... No\n",
      "Just looked at 1383.564843749961. RIO? ... Yes\n",
      "Just looked at 1383.864843749961. RIO? ... No\n",
      "Just looked at 1384.164843749961. RIO? ... No\n",
      "Just looked at 1384.464843749961. RIO? ... No\n",
      "Just looked at 1384.7648437499608. RIO? ... No\n",
      "Just looked at 1385.0648437499608. RIO? ... No\n",
      "Just looked at 1385.3648437499608. RIO? ... No\n",
      "Just looked at 1385.6648437499607. RIO? ... No\n",
      "Just looked at 1385.9648437499607. RIO? ... Yes\n",
      "Just looked at 1386.2648437499606. RIO? ... No\n",
      "Just looked at 1386.5648437499606. RIO? ... No\n",
      "Just looked at 1386.8648437499605. RIO? ... No\n",
      "Just looked at 1387.1648437499605. RIO? ... No\n",
      "Just looked at 1387.4648437499604. RIO? ... No\n",
      "Just looked at 1387.7648437499604. RIO? ... No\n",
      "Just looked at 1388.0648437499603. RIO? ... No\n",
      "Just looked at 1388.3648437499603. RIO? ... No\n",
      "Just looked at 1388.6648437499603. RIO? ... No\n",
      "Just looked at 1388.9648437499602. RIO? ... No\n",
      "Just looked at 1389.2648437499602. RIO? ... No\n",
      "Just looked at 1389.5648437499601. RIO? ... No\n",
      "Just looked at 1389.86484374996. RIO? ... No\n",
      "Just looked at 1390.16484374996. RIO? ... Yes\n"
     ]
    },
    {
     "name": "stdout",
     "output_type": "stream",
     "text": [
      "Just looked at 1390.46484374996. RIO? ... No\n",
      "Just looked at 1390.76484374996. RIO? ... No\n",
      "Just looked at 1391.06484374996. RIO? ... No\n",
      "Just looked at 1391.3648437499598. RIO? ... No\n",
      "Just looked at 1391.6648437499598. RIO? ... Yes\n",
      "Just looked at 1391.9648437499598. RIO? ... No\n",
      "Just looked at 1392.2648437499597. RIO? ... No\n",
      "Just looked at 1392.5648437499597. RIO? ... No\n",
      "Just looked at 1392.8648437499596. RIO? ... No\n",
      "Just looked at 1393.1648437499596. RIO? ... No\n",
      "Just looked at 1393.4648437499595. RIO? ... No\n",
      "Just looked at 1393.7648437499595. RIO? ... No\n",
      "Just looked at 1394.0648437499594. RIO? ... No\n",
      "Just looked at 1394.3648437499594. RIO? ... No\n",
      "Just looked at 1394.6648437499593. RIO? ... Yes\n",
      "Just looked at 1394.9648437499593. RIO? ... No\n",
      "Just looked at 1395.2648437499593. RIO? ... No\n",
      "Just looked at 1395.5648437499592. RIO? ... No\n",
      "Just looked at 1395.8648437499592. RIO? ... No\n",
      "Just looked at 1396.1648437499591. RIO? ... No\n",
      "Just looked at 1396.464843749959. RIO? ... No\n",
      "Just looked at 1396.764843749959. RIO? ... No\n",
      "Just looked at 1397.064843749959. RIO? ... No\n",
      "Just looked at 1397.364843749959. RIO? ... No\n",
      "Just looked at 1397.664843749959. RIO? ... No\n",
      "Just looked at 1397.9648437499588. RIO? ... No\n",
      "Just looked at 1398.2648437499588. RIO? ... No\n",
      "Just looked at 1398.5648437499588. RIO? ... No\n",
      "Just looked at 1398.8648437499587. RIO? ... No\n",
      "Just looked at 1399.1648437499587. RIO? ... No\n",
      "Just looked at 1399.4648437499586. RIO? ... No\n",
      "Just looked at 1399.7648437499586. RIO? ... No\n",
      "Just looked at 1400.0648437499585. RIO? ... Yes\n",
      "Just looked at 1400.3648437499585. RIO? ... No\n",
      "Just looked at 1400.6648437499584. RIO? ... No\n",
      "Just looked at 1400.9648437499584. RIO? ... No\n",
      "Just looked at 1401.2648437499583. RIO? ... No\n",
      "Just looked at 1401.5648437499583. RIO? ... No\n",
      "Just looked at 1401.8648437499583. RIO? ... No\n",
      "Just looked at 1402.1648437499582. RIO? ... No\n",
      "Just looked at 1402.4648437499582. RIO? ... No\n",
      "Just looked at 1402.7648437499581. RIO? ... No\n",
      "Just looked at 1403.064843749958. RIO? ... No\n",
      "Just looked at 1403.364843749958. RIO? ... No\n",
      "Just looked at 1403.664843749958. RIO? ... No\n",
      "Just looked at 1403.964843749958. RIO? ... No\n",
      "Just looked at 1404.264843749958. RIO? ... No\n",
      "Just looked at 1404.5648437499578. RIO? ... No\n",
      "Just looked at 1404.8648437499578. RIO? ... No\n",
      "Just looked at 1405.1648437499578. RIO? ... No\n",
      "Just looked at 1405.4648437499577. RIO? ... No\n",
      "Just looked at 1405.7648437499577. RIO? ... No\n",
      "Just looked at 1406.0648437499576. RIO? ... No\n",
      "Just looked at 1406.3648437499576. RIO? ... Yes\n",
      "Just looked at 1406.6648437499575. RIO? ... No\n",
      "Just looked at 1406.9648437499575. RIO? ... No\n",
      "Just looked at 1407.2648437499574. RIO? ... No\n",
      "Just looked at 1407.5648437499574. RIO? ... No\n",
      "Just looked at 1407.8648437499573. RIO? ... No\n",
      "Just looked at 1408.1648437499573. RIO? ... No\n",
      "Just looked at 1408.4648437499573. RIO? ... No\n",
      "Just looked at 1408.7648437499572. RIO? ... No\n",
      "Just looked at 1409.0648437499572. RIO? ... No\n",
      "Just looked at 1409.3648437499571. RIO? ... No\n",
      "Just looked at 1409.664843749957. RIO? ... No\n",
      "Just looked at 1409.964843749957. RIO? ... No\n",
      "Just looked at 1410.264843749957. RIO? ... Yes\n",
      "Just looked at 1410.564843749957. RIO? ... No\n",
      "Just looked at 1410.864843749957. RIO? ... No\n",
      "Just looked at 1411.1648437499568. RIO? ... No\n",
      "Just looked at 1411.4648437499568. RIO? ... No\n",
      "Just looked at 1411.7648437499568. RIO? ... No\n",
      "Just looked at 1412.0648437499567. RIO? ... No\n",
      "Just looked at 1412.3648437499567. RIO? ... No\n",
      "Just looked at 1412.6648437499566. RIO? ... No\n",
      "Just looked at 1412.9648437499566. RIO? ... No\n",
      "Just looked at 1413.2648437499565. RIO? ... No\n",
      "Just looked at 1413.5648437499565. RIO? ... No\n",
      "Just looked at 1413.8648437499564. RIO? ... No\n",
      "Just looked at 1414.1648437499564. RIO? ... No\n",
      "Just looked at 1414.4648437499563. RIO? ... No\n",
      "Just looked at 1414.7648437499563. RIO? ... No\n",
      "Just looked at 1415.0648437499563. RIO? ... No\n",
      "Just looked at 1415.3648437499562. RIO? ... No\n",
      "Just looked at 1415.6648437499562. RIO? ... No\n",
      "Just looked at 1415.9648437499561. RIO? ... No\n",
      "Just looked at 1416.264843749956. RIO? ... No\n",
      "Just looked at 1416.564843749956. RIO? ... No\n",
      "Just looked at 1416.864843749956. RIO? ... No\n",
      "Just looked at 1417.164843749956. RIO? ... No\n",
      "Just looked at 1417.464843749956. RIO? ... No\n",
      "Just looked at 1417.7648437499558. RIO? ... No\n",
      "Just looked at 1418.0648437499558. RIO? ... No\n",
      "Just looked at 1418.3648437499558. RIO? ... No\n",
      "Just looked at 1418.6648437499557. RIO? ... No\n",
      "Just looked at 1418.9648437499557. RIO? ... No\n",
      "Just looked at 1419.2648437499556. RIO? ... No\n",
      "Just looked at 1419.5648437499556. RIO? ... No\n",
      "Just looked at 1419.8648437499555. RIO? ... No\n",
      "Just looked at 1420.1648437499555. RIO? ... No\n",
      "Just looked at 1420.4648437499554. RIO? ... No\n",
      "Just looked at 1420.7648437499554. RIO? ... No\n",
      "Just looked at 1421.0648437499553. RIO? ... Yes\n",
      "Just looked at 1421.3648437499553. RIO? ... No\n",
      "Just looked at 1421.6648437499553. RIO? ... No\n",
      "Just looked at 1421.9648437499552. RIO? ... No\n",
      "Just looked at 1422.2648437499552. RIO? ... No\n",
      "Just looked at 1422.5648437499551. RIO? ... No\n",
      "Just looked at 1422.864843749955. RIO? ... No\n",
      "Just looked at 1423.164843749955. RIO? ... No\n",
      "Just looked at 1423.464843749955. RIO? ... No\n",
      "Just looked at 1423.764843749955. RIO? ... No\n",
      "Just looked at 1424.064843749955. RIO? ... Yes\n",
      "Just looked at 1424.3648437499548. RIO? ... No\n",
      "Just looked at 1424.6648437499548. RIO? ... No\n",
      "Just looked at 1424.9648437499548. RIO? ... No\n",
      "Just looked at 1425.2648437499547. RIO? ... No\n",
      "Just looked at 1425.5648437499547. RIO? ... No\n",
      "Just looked at 1425.8648437499546. RIO? ... No\n",
      "Just looked at 1426.1648437499546. RIO? ... No\n",
      "Just looked at 1426.4648437499545. RIO? ... No\n",
      "Just looked at 1426.7648437499545. RIO? ... Yes\n",
      "Just looked at 1427.0648437499544. RIO? ... No\n",
      "Just looked at 1427.3648437499544. RIO? ... No\n",
      "Just looked at 1427.6648437499543. RIO? ... No\n",
      "Just looked at 1427.9648437499543. RIO? ... No\n",
      "Just looked at 1428.2648437499543. RIO? ... No\n",
      "Just looked at 1428.5648437499542. RIO? ... No\n",
      "Just looked at 1428.8648437499542. RIO? ... No\n",
      "Just looked at 1429.1648437499541. RIO? ... No\n",
      "Just looked at 1429.464843749954. RIO? ... No\n",
      "Just looked at 1429.764843749954. RIO? ... Yes\n",
      "Just looked at 1430.064843749954. RIO? ... No\n",
      "Just looked at 1430.364843749954. RIO? ... No\n",
      "Just looked at 1430.664843749954. RIO? ... No\n",
      "Just looked at 1430.9648437499538. RIO? ... No\n",
      "Just looked at 1431.2648437499538. RIO? ... No\n",
      "Just looked at 1431.5648437499538. RIO? ... No\n",
      "Just looked at 1431.8648437499537. RIO? ... No\n",
      "Just looked at 1432.1648437499537. RIO? ... No\n",
      "Just looked at 1432.4648437499536. RIO? ... No\n",
      "Just looked at 1432.7648437499536. RIO? ... No\n",
      "Just looked at 1433.0648437499535. RIO? ... No\n",
      "Just looked at 1433.3648437499535. RIO? ... No\n",
      "Just looked at 1433.6648437499534. RIO? ... No\n",
      "Just looked at 1433.9648437499534. RIO? ... No\n",
      "Just looked at 1434.2648437499533. RIO? ... No\n",
      "Just looked at 1434.5648437499533. RIO? ... No\n",
      "Just looked at 1434.8648437499533. RIO? ... No\n",
      "Just looked at 1435.1648437499532. RIO? ... No\n",
      "Just looked at 1435.4648437499532. RIO? ... No\n",
      "Just looked at 1435.7648437499531. RIO? ... Yes\n",
      "Just looked at 1436.064843749953. RIO? ... No\n",
      "Just looked at 1436.364843749953. RIO? ... No\n",
      "Just looked at 1436.664843749953. RIO? ... No\n",
      "Just looked at 1436.964843749953. RIO? ... No\n",
      "Just looked at 1437.264843749953. RIO? ... No\n",
      "Just looked at 1437.5648437499528. RIO? ... Yes\n",
      "Just looked at 1437.8648437499528. RIO? ... No\n",
      "Just looked at 1438.1648437499528. RIO? ... No\n",
      "Just looked at 1438.4648437499527. RIO? ... No\n",
      "Just looked at 1438.7648437499527. RIO? ... Yes\n",
      "Just looked at 1439.0648437499526. RIO? ... No\n",
      "Just looked at 1439.3648437499526. RIO? ... No\n",
      "Just looked at 1439.6648437499525. RIO? ... No\n",
      "Just looked at 1439.9648437499525. RIO? ... No\n",
      "Just looked at 1440.2648437499524. RIO? ... No\n",
      "Just looked at 1440.5648437499524. RIO? ... No\n",
      "Just looked at 1440.8648437499523. RIO? ... No\n",
      "Just looked at 1441.1648437499523. RIO? ... Yes\n",
      "Just looked at 1441.4648437499523. RIO? ... No\n",
      "Just looked at 1441.7648437499522. RIO? ... No\n",
      "Just looked at 1442.0648437499522. RIO? ... Yes\n",
      "Just looked at 1442.3648437499521. RIO? ... No\n",
      "Just looked at 1442.664843749952. RIO? ... No\n",
      "Just looked at 1442.964843749952. RIO? ... No\n"
     ]
    },
    {
     "name": "stdout",
     "output_type": "stream",
     "text": [
      "Just looked at 1443.264843749952. RIO? ... Yes\n",
      "Just looked at 1443.564843749952. RIO? ... No\n",
      "Just looked at 1443.864843749952. RIO? ... Yes\n",
      "Just looked at 1444.1648437499518. RIO? ... No\n",
      "Just looked at 1444.4648437499518. RIO? ... No\n",
      "Just looked at 1444.7648437499518. RIO? ... No\n",
      "Just looked at 1445.0648437499517. RIO? ... No\n",
      "Just looked at 1445.3648437499517. RIO? ... No\n",
      "Just looked at 1445.6648437499516. RIO? ... Yes\n",
      "Just looked at 1445.9648437499516. RIO? ... No\n",
      "Just looked at 1446.2648437499515. RIO? ... No\n",
      "Just looked at 1446.5648437499515. RIO? ... No\n",
      "Just looked at 1446.8648437499514. RIO? ... Yes\n",
      "Just looked at 1447.1648437499514. RIO? ... No\n",
      "Just looked at 1447.4648437499513. RIO? ... Yes\n",
      "Just looked at 1447.7648437499513. RIO? ... No\n",
      "Just looked at 1448.0648437499513. RIO? ... No\n",
      "Just looked at 1448.3648437499512. RIO? ... No\n",
      "Just looked at 1448.6648437499512. RIO? ... No\n",
      "Just looked at 1448.9648437499511. RIO? ... No\n",
      "Just looked at 1449.264843749951. RIO? ... No\n",
      "Just looked at 1449.564843749951. RIO? ... No\n",
      "Just looked at 1449.864843749951. RIO? ... Yes\n",
      "Just looked at 1450.164843749951. RIO? ... Yes\n",
      "Just looked at 1450.464843749951. RIO? ... No\n",
      "Just looked at 1450.7648437499508. RIO? ... No\n",
      "Just looked at 1451.0648437499508. RIO? ... No\n",
      "Just looked at 1451.3648437499508. RIO? ... No\n",
      "Just looked at 1451.6648437499507. RIO? ... No\n",
      "Just looked at 1451.9648437499507. RIO? ... No\n",
      "Just looked at 1452.2648437499506. RIO? ... No\n",
      "Just looked at 1452.5648437499506. RIO? ... No\n",
      "Just looked at 1452.8648437499505. RIO? ... No\n",
      "Just looked at 1453.1648437499505. RIO? ... Yes\n",
      "Just looked at 1453.4648437499504. RIO? ... No\n",
      "Just looked at 1453.7648437499504. RIO? ... No\n",
      "Just looked at 1454.0648437499503. RIO? ... No\n",
      "Just looked at 1454.3648437499503. RIO? ... Yes\n",
      "Just looked at 1454.6648437499503. RIO? ... No\n",
      "Just looked at 1454.9648437499502. RIO? ... No\n",
      "Just looked at 1455.2648437499502. RIO? ... No\n",
      "Just looked at 1455.5648437499501. RIO? ... No\n",
      "Just looked at 1455.86484374995. RIO? ... No\n",
      "Just looked at 1456.16484374995. RIO? ... No\n",
      "Just looked at 1456.46484374995. RIO? ... No\n",
      "Just looked at 1456.76484374995. RIO? ... No\n",
      "Just looked at 1457.06484374995. RIO? ... No\n",
      "Just looked at 1457.3648437499498. RIO? ... No\n",
      "Just looked at 1457.6648437499498. RIO? ... No\n",
      "Just looked at 1457.9648437499498. RIO? ... No\n",
      "Just looked at 1458.2648437499497. RIO? ... No\n",
      "Just looked at 1458.5648437499497. RIO? ... No\n",
      "Just looked at 1458.8648437499496. RIO? ... No\n",
      "Just looked at 1459.1648437499496. RIO? ... No\n",
      "Just looked at 1459.4648437499495. RIO? ... No\n",
      "Just looked at 1459.7648437499495. RIO? ... No\n",
      "Just looked at 1460.0648437499494. RIO? ... No\n",
      "Just looked at 1460.3648437499494. RIO? ... No\n",
      "Just looked at 1460.6648437499493. RIO? ... No\n",
      "Just looked at 1460.9648437499493. RIO? ... No\n",
      "Just looked at 1461.2648437499493. RIO? ... No\n",
      "Just looked at 1461.5648437499492. RIO? ... No\n",
      "Just looked at 1461.8648437499492. RIO? ... No\n",
      "Just looked at 1462.1648437499491. RIO? ... Yes\n",
      "Just looked at 1462.464843749949. RIO? ... Yes\n",
      "Just looked at 1462.764843749949. RIO? ... No\n",
      "Just looked at 1463.064843749949. RIO? ... No\n",
      "Just looked at 1463.364843749949. RIO? ... No\n",
      "Just looked at 1463.664843749949. RIO? ... No\n",
      "Just looked at 1463.9648437499488. RIO? ... No\n",
      "Just looked at 1464.2648437499488. RIO? ... No\n",
      "Just looked at 1464.5648437499487. RIO? ... No\n",
      "Just looked at 1464.8648437499487. RIO? ... Yes\n",
      "Just looked at 1465.1648437499487. RIO? ... No\n",
      "Just looked at 1465.4648437499486. RIO? ... No\n",
      "Just looked at 1465.7648437499486. RIO? ... No\n",
      "Just looked at 1466.0648437499485. RIO? ... No\n",
      "Just looked at 1466.3648437499485. RIO? ... No\n",
      "Just looked at 1466.6648437499484. RIO? ... Yes\n",
      "Just looked at 1466.9648437499484. RIO? ... No\n",
      "Just looked at 1467.2648437499483. RIO? ... No\n",
      "Just looked at 1467.5648437499483. RIO? ... No\n",
      "Just looked at 1467.8648437499482. RIO? ... Yes\n",
      "Just looked at 1468.1648437499482. RIO? ... No\n",
      "Just looked at 1468.4648437499482. RIO? ... No\n",
      "Just looked at 1468.764843749948. RIO? ... No\n",
      "Just looked at 1469.064843749948. RIO? ... No\n",
      "Just looked at 1469.364843749948. RIO? ... No\n",
      "Just looked at 1469.664843749948. RIO? ... No\n",
      "Just looked at 1469.964843749948. RIO? ... No\n",
      "Just looked at 1470.2648437499479. RIO? ... No\n",
      "Just looked at 1470.5648437499478. RIO? ... No\n",
      "Just looked at 1470.8648437499478. RIO? ... No\n",
      "Just looked at 1471.1648437499477. RIO? ... No\n",
      "Just looked at 1471.4648437499477. RIO? ... No\n",
      "Just looked at 1471.7648437499477. RIO? ... No\n",
      "Just looked at 1472.0648437499476. RIO? ... No\n",
      "Just looked at 1472.3648437499476. RIO? ... No\n",
      "Just looked at 1472.6648437499475. RIO? ... No\n",
      "Just looked at 1472.9648437499475. RIO? ... No\n",
      "Just looked at 1473.2648437499474. RIO? ... No\n",
      "Just looked at 1473.5648437499474. RIO? ... No\n",
      "Just looked at 1473.8648437499473. RIO? ... Yes\n",
      "Just looked at 1474.1648437499473. RIO? ... No\n",
      "Just looked at 1474.4648437499472. RIO? ... No\n",
      "Just looked at 1474.7648437499472. RIO? ... No\n",
      "Just looked at 1475.0648437499472. RIO? ... No\n",
      "Just looked at 1475.364843749947. RIO? ... No\n",
      "Just looked at 1475.664843749947. RIO? ... No\n",
      "Just looked at 1475.964843749947. RIO? ... No\n",
      "Just looked at 1476.264843749947. RIO? ... No\n",
      "Just looked at 1476.564843749947. RIO? ... No\n",
      "Just looked at 1476.8648437499469. RIO? ... No\n",
      "Just looked at 1477.1648437499468. RIO? ... No\n",
      "Just looked at 1477.4648437499468. RIO? ... No\n",
      "Just looked at 1477.7648437499467. RIO? ... No\n",
      "Just looked at 1478.0648437499467. RIO? ... No\n",
      "Just looked at 1478.3648437499467. RIO? ... No\n",
      "Just looked at 1478.6648437499466. RIO? ... No\n",
      "Just looked at 1478.9648437499466. RIO? ... No\n",
      "Just looked at 1479.2648437499465. RIO? ... No\n",
      "Just looked at 1479.5648437499465. RIO? ... Yes\n",
      "Just looked at 1479.8648437499464. RIO? ... No\n",
      "Just looked at 1480.1648437499464. RIO? ... No\n",
      "Just looked at 1480.4648437499463. RIO? ... No\n",
      "Just looked at 1480.7648437499463. RIO? ... No\n",
      "Just looked at 1481.0648437499462. RIO? ... No\n",
      "Just looked at 1481.3648437499462. RIO? ... No\n",
      "Just looked at 1481.6648437499462. RIO? ... No\n",
      "Just looked at 1481.964843749946. RIO? ... No\n",
      "Just looked at 1482.264843749946. RIO? ... No\n",
      "Just looked at 1482.564843749946. RIO? ... No\n",
      "Just looked at 1482.864843749946. RIO? ... No\n",
      "Just looked at 1483.164843749946. RIO? ... No\n",
      "Just looked at 1483.4648437499459. RIO? ... No\n",
      "Just looked at 1483.7648437499458. RIO? ... No\n",
      "Just looked at 1484.0648437499458. RIO? ... No\n",
      "Just looked at 1484.3648437499457. RIO? ... No\n",
      "Just looked at 1484.6648437499457. RIO? ... No\n",
      "Just looked at 1484.9648437499457. RIO? ... No\n",
      "Just looked at 1485.2648437499456. RIO? ... No\n",
      "Just looked at 1485.5648437499456. RIO? ... No\n",
      "Just looked at 1485.8648437499455. RIO? ... No\n",
      "Just looked at 1486.1648437499455. RIO? ... No\n",
      "Just looked at 1486.4648437499454. RIO? ... No\n",
      "Just looked at 1486.7648437499454. RIO? ... No\n",
      "Just looked at 1487.0648437499453. RIO? ... No\n",
      "Just looked at 1487.3648437499453. RIO? ... No\n",
      "Just looked at 1487.6648437499452. RIO? ... No\n",
      "Just looked at 1487.9648437499452. RIO? ... No\n",
      "Just looked at 1488.2648437499452. RIO? ... No\n",
      "Just looked at 1488.564843749945. RIO? ... No\n",
      "Just looked at 1488.864843749945. RIO? ... No\n",
      "Just looked at 1489.164843749945. RIO? ... No\n",
      "Just looked at 1489.464843749945. RIO? ... No\n",
      "Just looked at 1489.764843749945. RIO? ... No\n",
      "Just looked at 1490.0648437499449. RIO? ... No\n",
      "Just looked at 1490.3648437499448. RIO? ... No\n",
      "Just looked at 1490.6648437499448. RIO? ... No\n",
      "Just looked at 1490.9648437499447. RIO? ... No\n",
      "Just looked at 1491.2648437499447. RIO? ... Yes\n",
      "Just looked at 1491.5648437499447. RIO? ... No\n",
      "Just looked at 1491.8648437499446. RIO? ... No\n",
      "Just looked at 1492.1648437499446. RIO? ... No\n",
      "Just looked at 1492.4648437499445. RIO? ... No\n",
      "Just looked at 1492.7648437499445. RIO? ... No\n",
      "Just looked at 1493.0648437499444. RIO? ... No\n",
      "Just looked at 1493.3648437499444. RIO? ... No\n",
      "Just looked at 1493.6648437499443. RIO? ... No\n",
      "Just looked at 1493.9648437499443. RIO? ... No\n",
      "Just looked at 1494.2648437499442. RIO? ... Yes\n",
      "Just looked at 1494.5648437499442. RIO? ... No\n",
      "Just looked at 1494.8648437499442. RIO? ... No\n",
      "Just looked at 1495.164843749944. RIO? ... No\n",
      "Just looked at 1495.464843749944. RIO? ... No\n",
      "Just looked at 1495.764843749944. RIO? ... No\n"
     ]
    },
    {
     "name": "stdout",
     "output_type": "stream",
     "text": [
      "Just looked at 1496.064843749944. RIO? ... No\n",
      "Just looked at 1496.364843749944. RIO? ... No\n",
      "Just looked at 1496.6648437499439. RIO? ... No\n",
      "Just looked at 1496.9648437499438. RIO? ... No\n",
      "Just looked at 1497.2648437499438. RIO? ... No\n",
      "Just looked at 1497.5648437499437. RIO? ... No\n",
      "Just looked at 1497.8648437499437. RIO? ... No\n",
      "Just looked at 1498.1648437499437. RIO? ... No\n",
      "Just looked at 1498.4648437499436. RIO? ... No\n",
      "Just looked at 1498.7648437499436. RIO? ... No\n",
      "Just looked at 1499.0648437499435. RIO? ... No\n",
      "Just looked at 1499.3648437499435. RIO? ... No\n",
      "Just looked at 1499.6648437499434. RIO? ... No\n",
      "Just looked at 1499.9648437499434. RIO? ... No\n",
      "Just looked at 1500.2648437499433. RIO? ... Yes\n",
      "Just looked at 1500.5648437499433. RIO? ... No\n",
      "Just looked at 1500.8648437499432. RIO? ... No\n",
      "Just looked at 1501.1648437499432. RIO? ... No\n",
      "Just looked at 1501.4648437499432. RIO? ... No\n",
      "Just looked at 1501.764843749943. RIO? ... No\n",
      "Just looked at 1502.064843749943. RIO? ... No\n",
      "Just looked at 1502.364843749943. RIO? ... No\n",
      "Just looked at 1502.664843749943. RIO? ... No\n",
      "Just looked at 1502.964843749943. RIO? ... No\n",
      "Just looked at 1503.2648437499429. RIO? ... No\n",
      "Just looked at 1503.5648437499428. RIO? ... No\n",
      "Just looked at 1503.8648437499428. RIO? ... No\n",
      "Just looked at 1504.1648437499427. RIO? ... No\n",
      "Just looked at 1504.4648437499427. RIO? ... No\n",
      "Just looked at 1504.7648437499427. RIO? ... No\n",
      "Just looked at 1505.0648437499426. RIO? ... No\n",
      "Just looked at 1505.3648437499426. RIO? ... No\n",
      "Just looked at 1505.6648437499425. RIO? ... No\n",
      "Just looked at 1505.9648437499425. RIO? ... Yes\n",
      "Just looked at 1506.2648437499424. RIO? ... No\n",
      "Just looked at 1506.5648437499424. RIO? ... No\n",
      "Just looked at 1506.8648437499423. RIO? ... No\n",
      "Just looked at 1507.1648437499423. RIO? ... No\n",
      "Just looked at 1507.4648437499422. RIO? ... No\n",
      "Just looked at 1507.7648437499422. RIO? ... No\n",
      "Just looked at 1508.0648437499422. RIO? ... No\n",
      "Just looked at 1508.364843749942. RIO? ... No\n",
      "Just looked at 1508.664843749942. RIO? ... No\n",
      "Just looked at 1508.964843749942. RIO? ... No\n",
      "Just looked at 1509.264843749942. RIO? ... No\n",
      "Just looked at 1509.564843749942. RIO? ... No\n",
      "Just looked at 1509.8648437499419. RIO? ... No\n",
      "Just looked at 1510.1648437499418. RIO? ... No\n",
      "Just looked at 1510.4648437499418. RIO? ... No\n",
      "Just looked at 1510.7648437499417. RIO? ... No\n",
      "Just looked at 1511.0648437499417. RIO? ... No\n",
      "Just looked at 1511.3648437499417. RIO? ... No\n",
      "Just looked at 1511.6648437499416. RIO? ... No\n",
      "Just looked at 1511.9648437499416. RIO? ... No\n",
      "Just looked at 1512.2648437499415. RIO? ... No\n",
      "Just looked at 1512.5648437499415. RIO? ... No\n",
      "Just looked at 1512.8648437499414. RIO? ... No\n",
      "Just looked at 1513.1648437499414. RIO? ... No\n",
      "Just looked at 1513.4648437499413. RIO? ... No\n",
      "Just looked at 1513.7648437499413. RIO? ... No\n",
      "Just looked at 1514.0648437499412. RIO? ... No\n",
      "Just looked at 1514.3648437499412. RIO? ... No\n",
      "Just looked at 1514.6648437499412. RIO? ... Yes\n",
      "Just looked at 1514.964843749941. RIO? ... No\n",
      "Just looked at 1515.264843749941. RIO? ... No\n",
      "Just looked at 1515.564843749941. RIO? ... No\n",
      "Just looked at 1515.864843749941. RIO? ... No\n",
      "Just looked at 1516.164843749941. RIO? ... No\n",
      "Just looked at 1516.4648437499409. RIO? ... No\n",
      "Just looked at 1516.7648437499408. RIO? ... Yes\n",
      "Just looked at 1517.0648437499408. RIO? ... No\n",
      "Just looked at 1517.3648437499407. RIO? ... No\n",
      "Just looked at 1517.6648437499407. RIO? ... Yes\n",
      "Just looked at 1517.9648437499407. RIO? ... No\n",
      "Just looked at 1518.2648437499406. RIO? ... No\n",
      "Just looked at 1518.5648437499406. RIO? ... No\n",
      "Just looked at 1518.8648437499405. RIO? ... No\n",
      "Just looked at 1519.1648437499405. RIO? ... No\n",
      "Just looked at 1519.4648437499404. RIO? ... No\n",
      "Just looked at 1519.7648437499404. RIO? ... No\n",
      "Just looked at 1520.0648437499403. RIO? ... No\n",
      "Just looked at 1520.3648437499403. RIO? ... No\n",
      "Just looked at 1520.6648437499402. RIO? ... Yes\n",
      "Just looked at 1520.9648437499402. RIO? ... No\n",
      "Just looked at 1521.2648437499402. RIO? ... No\n",
      "Just looked at 1521.56484374994. RIO? ... Yes\n",
      "Just looked at 1521.86484374994. RIO? ... No\n",
      "Just looked at 1522.16484374994. RIO? ... Yes\n",
      "Just looked at 1522.46484374994. RIO? ... Yes\n",
      "Just looked at 1522.76484374994. RIO? ... No\n",
      "Just looked at 1523.0648437499399. RIO? ... No\n",
      "Just looked at 1523.3648437499398. RIO? ... No\n",
      "Just looked at 1523.6648437499398. RIO? ... Yes\n",
      "Just looked at 1523.9648437499397. RIO? ... No\n",
      "Just looked at 1524.2648437499397. RIO? ... No\n",
      "Just looked at 1524.5648437499397. RIO? ... No\n",
      "Just looked at 1524.8648437499396. RIO? ... No\n",
      "Just looked at 1525.1648437499396. RIO? ... No\n",
      "Just looked at 1525.4648437499395. RIO? ... No\n",
      "Just looked at 1525.7648437499395. RIO? ... Yes\n",
      "Just looked at 1526.0648437499394. RIO? ... Yes\n",
      "Just looked at 1526.3648437499394. RIO? ... Yes\n",
      "Just looked at 1526.6648437499393. RIO? ... Yes\n",
      "Just looked at 1526.9648437499393. RIO? ... Yes\n",
      "Just looked at 1527.2648437499392. RIO? ... No\n",
      "Just looked at 1527.5648437499392. RIO? ... Yes\n",
      "Just looked at 1527.8648437499392. RIO? ... Yes\n",
      "Just looked at 1528.164843749939. RIO? ... Yes\n",
      "Just looked at 1528.464843749939. RIO? ... Yes\n",
      "Just looked at 1528.764843749939. RIO? ... No\n",
      "Just looked at 1529.064843749939. RIO? ... No\n",
      "Just looked at 1529.364843749939. RIO? ... Yes\n",
      "Just looked at 1529.6648437499389. RIO? ... Yes\n",
      "Just looked at 1529.9648437499388. RIO? ... Yes\n",
      "Just looked at 1530.2648437499388. RIO? ... No\n",
      "Just looked at 1530.5648437499387. RIO? ... Yes\n",
      "Just looked at 1530.8648437499387. RIO? ... Yes\n",
      "Just looked at 1531.1648437499387. RIO? ... No\n",
      "Just looked at 1531.4648437499386. RIO? ... No\n",
      "Just looked at 1531.7648437499386. RIO? ... Yes\n",
      "Just looked at 1532.0648437499385. RIO? ... Yes\n",
      "Just looked at 1532.3648437499385. RIO? ... Yes\n",
      "Just looked at 1532.6648437499384. RIO? ... Yes\n",
      "Just looked at 1532.9648437499384. RIO? ... Yes\n",
      "Just looked at 1533.2648437499383. RIO? ... Yes\n",
      "Just looked at 1533.5648437499383. RIO? ... Yes\n",
      "Just looked at 1533.8648437499382. RIO? ... Yes\n",
      "Just looked at 1534.1648437499382. RIO? ... No\n",
      "Just looked at 1534.4648437499382. RIO? ... No\n",
      "Just looked at 1534.764843749938. RIO? ... Yes\n",
      "Just looked at 1535.064843749938. RIO? ... Yes\n",
      "Just looked at 1535.364843749938. RIO? ... Yes\n",
      "Just looked at 1535.664843749938. RIO? ... Yes\n",
      "Just looked at 1535.964843749938. RIO? ... No\n",
      "Just looked at 1536.2648437499379. RIO? ... Yes\n",
      "Just looked at 1536.5648437499378. RIO? ... Yes\n",
      "Just looked at 1536.8648437499378. RIO? ... Yes\n",
      "Just looked at 1537.1648437499377. RIO? ... Yes\n",
      "Just looked at 1537.4648437499377. RIO? ... Yes\n",
      "Just looked at 1537.7648437499377. RIO? ... Yes\n",
      "Just looked at 1538.0648437499376. RIO? ... Yes\n",
      "Just looked at 1538.3648437499376. RIO? ... No\n",
      "Just looked at 1538.6648437499375. RIO? ... Yes\n",
      "Just looked at 1538.9648437499375. RIO? ... Yes\n",
      "Just looked at 1539.2648437499374. RIO? ... Yes\n",
      "Just looked at 1539.5648437499374. RIO? ... No\n",
      "Just looked at 1539.8648437499373. RIO? ... Yes\n",
      "Just looked at 1540.1648437499373. RIO? ... Yes\n",
      "Just looked at 1540.4648437499372. RIO? ... Yes\n",
      "Just looked at 1540.7648437499372. RIO? ... Yes\n",
      "Just looked at 1541.0648437499372. RIO? ... Yes\n",
      "Just looked at 1541.364843749937. RIO? ... No\n",
      "Just looked at 1541.664843749937. RIO? ... No\n",
      "Just looked at 1541.964843749937. RIO? ... No\n",
      "Just looked at 1542.264843749937. RIO? ... Yes\n",
      "Just looked at 1542.564843749937. RIO? ... No\n",
      "Just looked at 1542.8648437499369. RIO? ... Yes\n",
      "Just looked at 1543.1648437499368. RIO? ... No\n",
      "Just looked at 1543.4648437499368. RIO? ... Yes\n",
      "Just looked at 1543.7648437499367. RIO? ... No\n",
      "Just looked at 1544.0648437499367. RIO? ... Yes\n",
      "Just looked at 1544.3648437499367. RIO? ... Yes\n",
      "Just looked at 1544.6648437499366. RIO? ... Yes\n",
      "Just looked at 1544.9648437499366. RIO? ... Yes\n",
      "Just looked at 1545.2648437499365. RIO? ... Yes\n",
      "Just looked at 1545.5648437499365. RIO? ... No\n",
      "Just looked at 1545.8648437499364. RIO? ... No\n",
      "Just looked at 1546.1648437499364. RIO? ... Yes\n",
      "Just looked at 1546.4648437499363. RIO? ... Yes\n",
      "Just looked at 1546.7648437499363. RIO? ... Yes\n",
      "Just looked at 1547.0648437499362. RIO? ... Yes\n",
      "Just looked at 1547.3648437499362. RIO? ... Yes\n",
      "Just looked at 1547.6648437499362. RIO? ... Yes\n",
      "Just looked at 1547.964843749936. RIO? ... Yes\n"
     ]
    },
    {
     "name": "stdout",
     "output_type": "stream",
     "text": [
      "Just looked at 1548.264843749936. RIO? ... Yes\n",
      "Just looked at 1548.564843749936. RIO? ... Yes\n",
      "Just looked at 1548.864843749936. RIO? ... Yes\n",
      "Just looked at 1549.164843749936. RIO? ... Yes\n",
      "Just looked at 1549.4648437499359. RIO? ... Yes\n",
      "Just looked at 1549.7648437499358. RIO? ... Yes\n",
      "Just looked at 1550.0648437499358. RIO? ... Yes\n",
      "Just looked at 1550.3648437499357. RIO? ... Yes\n",
      "Just looked at 1550.6648437499357. RIO? ... Yes\n",
      "Just looked at 1550.9648437499357. RIO? ... Yes\n",
      "Just looked at 1551.2648437499356. RIO? ... Yes\n",
      "Just looked at 1551.5648437499356. RIO? ... Yes\n",
      "Just looked at 1551.8648437499355. RIO? ... No\n",
      "Just looked at 1552.1648437499355. RIO? ... Yes\n",
      "Just looked at 1552.4648437499354. RIO? ... Yes\n",
      "Just looked at 1552.7648437499354. RIO? ... Yes\n",
      "Just looked at 1553.0648437499353. RIO? ... No\n",
      "Just looked at 1553.3648437499353. RIO? ... Yes\n",
      "Just looked at 1553.6648437499352. RIO? ... No\n",
      "Just looked at 1553.9648437499352. RIO? ... Yes\n",
      "Just looked at 1554.2648437499352. RIO? ... Yes\n",
      "Just looked at 1554.564843749935. RIO? ... Yes\n",
      "Just looked at 1554.864843749935. RIO? ... Yes\n",
      "Just looked at 1555.164843749935. RIO? ... Yes\n",
      "Just looked at 1555.464843749935. RIO? ... No\n",
      "Just looked at 1555.764843749935. RIO? ... Yes\n",
      "Just looked at 1556.0648437499349. RIO? ... Yes\n",
      "Just looked at 1556.3648437499348. RIO? ... Yes\n",
      "Just looked at 1556.6648437499348. RIO? ... Yes\n",
      "Just looked at 1556.9648437499347. RIO? ... Yes\n",
      "Just looked at 1557.2648437499347. RIO? ... Yes\n",
      "Just looked at 1557.5648437499347. RIO? ... Yes\n",
      "Just looked at 1557.8648437499346. RIO? ... Yes\n",
      "Just looked at 1558.1648437499346. RIO? ... Yes\n",
      "Just looked at 1558.4648437499345. RIO? ... Yes\n",
      "Just looked at 1558.7648437499345. RIO? ... Yes\n",
      "Just looked at 1559.0648437499344. RIO? ... Yes\n",
      "Just looked at 1559.3648437499344. RIO? ... No\n",
      "Just looked at 1559.6648437499343. RIO? ... Yes\n",
      "Just looked at 1559.9648437499343. RIO? ... Yes\n",
      "Just looked at 1560.2648437499342. RIO? ... Yes\n",
      "Just looked at 1560.5648437499342. RIO? ... No\n",
      "Just looked at 1560.8648437499342. RIO? ... Yes\n",
      "Just looked at 1561.164843749934. RIO? ... Yes\n",
      "Just looked at 1561.464843749934. RIO? ... No\n",
      "Just looked at 1561.764843749934. RIO? ... No\n",
      "Just looked at 1562.064843749934. RIO? ... No\n",
      "Just looked at 1562.364843749934. RIO? ... No\n",
      "Just looked at 1562.6648437499339. RIO? ... No\n",
      "Just looked at 1562.9648437499338. RIO? ... No\n",
      "Just looked at 1563.2648437499338. RIO? ... No\n",
      "Just looked at 1563.5648437499337. RIO? ... No\n",
      "Just looked at 1563.8648437499337. RIO? ... No\n",
      "Just looked at 1564.1648437499337. RIO? ... No\n",
      "Just looked at 1564.4648437499336. RIO? ... Yes\n",
      "Just looked at 1564.7648437499336. RIO? ... No\n",
      "Just looked at 1565.0648437499335. RIO? ... No\n",
      "Just looked at 1565.3648437499335. RIO? ... Yes\n",
      "Just looked at 1565.6648437499334. RIO? ... No\n",
      "Just looked at 1565.9648437499334. RIO? ... No\n",
      "Just looked at 1566.2648437499333. RIO? ... No\n",
      "Just looked at 1566.5648437499333. RIO? ... No\n",
      "Just looked at 1566.8648437499332. RIO? ... No\n",
      "Just looked at 1567.1648437499332. RIO? ... No\n",
      "Just looked at 1567.4648437499332. RIO? ... Yes\n",
      "Just looked at 1567.764843749933. RIO? ... No\n",
      "Just looked at 1568.064843749933. RIO? ... No\n",
      "Just looked at 1568.364843749933. RIO? ... No\n",
      "Just looked at 1568.664843749933. RIO? ... No\n",
      "Just looked at 1568.964843749933. RIO? ... No\n",
      "Just looked at 1569.2648437499329. RIO? ... No\n",
      "Just looked at 1569.5648437499328. RIO? ... No\n",
      "Just looked at 1569.8648437499328. RIO? ... No\n",
      "Just looked at 1570.1648437499327. RIO? ... No\n",
      "Just looked at 1570.4648437499327. RIO? ... No\n",
      "Just looked at 1570.7648437499327. RIO? ... No\n",
      "Just looked at 1571.0648437499326. RIO? ... No\n",
      "Just looked at 1571.3648437499326. RIO? ... No\n",
      "Just looked at 1571.6648437499325. RIO? ... No\n",
      "Just looked at 1571.9648437499325. RIO? ... Yes\n",
      "Just looked at 1572.2648437499324. RIO? ... No\n",
      "Just looked at 1572.5648437499324. RIO? ... No\n",
      "Just looked at 1572.8648437499323. RIO? ... No\n",
      "Just looked at 1573.1648437499323. RIO? ... No\n",
      "Just looked at 1573.4648437499322. RIO? ... Yes\n",
      "Just looked at 1573.7648437499322. RIO? ... Yes\n",
      "Just looked at 1574.0648437499322. RIO? ... Yes\n",
      "Just looked at 1574.364843749932. RIO? ... Yes\n",
      "Just looked at 1574.664843749932. RIO? ... Yes\n",
      "Just looked at 1574.964843749932. RIO? ... Yes\n",
      "Just looked at 1575.264843749932. RIO? ... Yes\n",
      "Just looked at 1575.564843749932. RIO? ... Yes\n",
      "Just looked at 1575.8648437499319. RIO? ... Yes\n",
      "Just looked at 1576.1648437499318. RIO? ... Yes\n",
      "Just looked at 1576.4648437499318. RIO? ... Yes\n",
      "Just looked at 1576.7648437499317. RIO? ... Yes\n",
      "Just looked at 1577.0648437499317. RIO? ... Yes\n",
      "Just looked at 1577.3648437499317. RIO? ... No\n",
      "Just looked at 1577.6648437499316. RIO? ... No\n",
      "Just looked at 1577.9648437499316. RIO? ... Yes\n",
      "Just looked at 1578.2648437499315. RIO? ... Yes\n",
      "Just looked at 1578.5648437499315. RIO? ... No\n",
      "Just looked at 1578.8648437499314. RIO? ... No\n",
      "Just looked at 1579.1648437499314. RIO? ... Yes\n",
      "Just looked at 1579.4648437499313. RIO? ... No\n",
      "Just looked at 1579.7648437499313. RIO? ... No\n",
      "Just looked at 1580.0648437499312. RIO? ... No\n",
      "Just looked at 1580.3648437499312. RIO? ... No\n",
      "Just looked at 1580.6648437499312. RIO? ... No\n",
      "Just looked at 1580.964843749931. RIO? ... No\n",
      "Just looked at 1581.264843749931. RIO? ... No\n",
      "Just looked at 1581.564843749931. RIO? ... No\n",
      "Just looked at 1581.864843749931. RIO? ... No\n",
      "Just looked at 1582.164843749931. RIO? ... Yes\n",
      "Just looked at 1582.4648437499309. RIO? ... No\n",
      "Just looked at 1582.7648437499308. RIO? ... No\n",
      "Just looked at 1583.0648437499308. RIO? ... No\n",
      "Just looked at 1583.3648437499307. RIO? ... No\n",
      "Just looked at 1583.6648437499307. RIO? ... No\n",
      "Just looked at 1583.9648437499307. RIO? ... No\n",
      "Just looked at 1584.2648437499306. RIO? ... No\n",
      "Just looked at 1584.5648437499306. RIO? ... No\n",
      "Just looked at 1584.8648437499305. RIO? ... No\n",
      "Just looked at 1585.1648437499305. RIO? ... Yes\n",
      "Just looked at 1585.4648437499304. RIO? ... No\n",
      "Just looked at 1585.7648437499304. RIO? ... Yes\n",
      "Just looked at 1586.0648437499303. RIO? ... No\n",
      "Just looked at 1586.3648437499303. RIO? ... No\n",
      "Just looked at 1586.6648437499302. RIO? ... No\n",
      "Just looked at 1586.9648437499302. RIO? ... No\n",
      "Just looked at 1587.2648437499302. RIO? ... No\n",
      "Just looked at 1587.56484374993. RIO? ... No\n",
      "Just looked at 1587.86484374993. RIO? ... No\n",
      "Just looked at 1588.16484374993. RIO? ... No\n",
      "Just looked at 1588.46484374993. RIO? ... No\n",
      "Just looked at 1588.76484374993. RIO? ... No\n",
      "Just looked at 1589.0648437499299. RIO? ... No\n",
      "Just looked at 1589.3648437499298. RIO? ... No\n",
      "Just looked at 1589.6648437499298. RIO? ... No\n",
      "Just looked at 1589.9648437499297. RIO? ... Yes\n",
      "Just looked at 1590.2648437499297. RIO? ... No\n",
      "Just looked at 1590.5648437499297. RIO? ... No\n",
      "Just looked at 1590.8648437499296. RIO? ... No\n",
      "Just looked at 1591.1648437499296. RIO? ... No\n",
      "Just looked at 1591.4648437499295. RIO? ... No\n",
      "Just looked at 1591.7648437499295. RIO? ... No\n",
      "Just looked at 1592.0648437499294. RIO? ... No\n",
      "Just looked at 1592.3648437499294. RIO? ... No\n",
      "Just looked at 1592.6648437499293. RIO? ... No\n",
      "Just looked at 1592.9648437499293. RIO? ... No\n",
      "Just looked at 1593.2648437499292. RIO? ... No\n",
      "Just looked at 1593.5648437499292. RIO? ... No\n",
      "Just looked at 1593.8648437499292. RIO? ... Yes\n",
      "Just looked at 1594.164843749929. RIO? ... No\n",
      "Just looked at 1594.464843749929. RIO? ... No\n",
      "Just looked at 1594.764843749929. RIO? ... No\n",
      "Just looked at 1595.064843749929. RIO? ... No\n",
      "Just looked at 1595.364843749929. RIO? ... No\n",
      "Just looked at 1595.6648437499289. RIO? ... No\n",
      "Just looked at 1595.9648437499288. RIO? ... No\n",
      "Just looked at 1596.2648437499288. RIO? ... No\n",
      "Just looked at 1596.5648437499287. RIO? ... No\n",
      "Just looked at 1596.8648437499287. RIO? ... Yes\n",
      "Just looked at 1597.1648437499287. RIO? ... No\n",
      "Just looked at 1597.4648437499286. RIO? ... No\n",
      "Just looked at 1597.7648437499286. RIO? ... No\n",
      "Just looked at 1598.0648437499285. RIO? ... No\n",
      "Just looked at 1598.3648437499285. RIO? ... No\n",
      "Just looked at 1598.6648437499284. RIO? ... No\n",
      "Just looked at 1598.9648437499284. RIO? ... No\n",
      "Just looked at 1599.2648437499283. RIO? ... No\n",
      "Just looked at 1599.5648437499283. RIO? ... No\n",
      "Just looked at 1599.8648437499282. RIO? ... Yes\n",
      "Just looked at 1600.1648437499282. RIO? ... Yes\n",
      "Just looked at 1600.4648437499281. RIO? ... Yes\n"
     ]
    },
    {
     "name": "stdout",
     "output_type": "stream",
     "text": [
      "Just looked at 1600.764843749928. RIO? ... No\n",
      "Just looked at 1601.064843749928. RIO? ... No\n",
      "Just looked at 1601.364843749928. RIO? ... No\n",
      "Just looked at 1601.664843749928. RIO? ... No\n",
      "Just looked at 1601.964843749928. RIO? ... No\n",
      "Just looked at 1602.2648437499279. RIO? ... No\n",
      "Just looked at 1602.5648437499278. RIO? ... No\n",
      "Just looked at 1602.8648437499278. RIO? ... Yes\n",
      "Just looked at 1603.1648437499277. RIO? ... No\n",
      "Just looked at 1603.4648437499277. RIO? ... No\n",
      "Just looked at 1603.7648437499276. RIO? ... No\n",
      "Just looked at 1604.0648437499276. RIO? ... No\n",
      "Just looked at 1604.3648437499276. RIO? ... No\n",
      "Just looked at 1604.6648437499275. RIO? ... No\n",
      "Just looked at 1604.9648437499275. RIO? ... No\n",
      "Just looked at 1605.2648437499274. RIO? ... Yes\n",
      "Just looked at 1605.5648437499274. RIO? ... Yes\n",
      "Just looked at 1605.8648437499273. RIO? ... Yes\n",
      "Just looked at 1606.1648437499273. RIO? ... No\n",
      "Just looked at 1606.4648437499272. RIO? ... No\n",
      "Just looked at 1606.7648437499272. RIO? ... No\n",
      "Just looked at 1607.0648437499271. RIO? ... No\n",
      "Just looked at 1607.364843749927. RIO? ... No\n",
      "Just looked at 1607.664843749927. RIO? ... No\n",
      "Just looked at 1607.964843749927. RIO? ... No\n",
      "Just looked at 1608.264843749927. RIO? ... No\n",
      "Just looked at 1608.564843749927. RIO? ... Yes\n",
      "Just looked at 1608.8648437499269. RIO? ... No\n",
      "Just looked at 1609.1648437499268. RIO? ... No\n",
      "Just looked at 1609.4648437499268. RIO? ... No\n",
      "Just looked at 1609.7648437499267. RIO? ... No\n",
      "Just looked at 1610.0648437499267. RIO? ... No\n",
      "Just looked at 1610.3648437499266. RIO? ... No\n",
      "Just looked at 1610.6648437499266. RIO? ... No\n",
      "Just looked at 1610.9648437499266. RIO? ... No\n",
      "Just looked at 1611.2648437499265. RIO? ... No\n",
      "Just looked at 1611.5648437499265. RIO? ... No\n",
      "Just looked at 1611.8648437499264. RIO? ... No\n",
      "Just looked at 1612.1648437499264. RIO? ... No\n",
      "Just looked at 1612.4648437499263. RIO? ... No\n",
      "Just looked at 1612.7648437499263. RIO? ... No\n",
      "Just looked at 1613.0648437499262. RIO? ... No\n",
      "Just looked at 1613.3648437499262. RIO? ... No\n",
      "Just looked at 1613.6648437499261. RIO? ... No\n",
      "Just looked at 1613.964843749926. RIO? ... No\n",
      "Just looked at 1614.264843749926. RIO? ... No\n",
      "Just looked at 1614.564843749926. RIO? ... No\n",
      "Just looked at 1614.864843749926. RIO? ... No\n",
      "Just looked at 1615.164843749926. RIO? ... No\n",
      "Just looked at 1615.4648437499259. RIO? ... No\n",
      "Just looked at 1615.7648437499258. RIO? ... No\n",
      "Just looked at 1616.0648437499258. RIO? ... No\n",
      "Just looked at 1616.3648437499257. RIO? ... No\n",
      "Just looked at 1616.6648437499257. RIO? ... No\n",
      "Just looked at 1616.9648437499256. RIO? ... Yes\n",
      "Just looked at 1617.2648437499256. RIO? ... Yes\n",
      "Just looked at 1617.5648437499256. RIO? ... No\n",
      "Just looked at 1617.8648437499255. RIO? ... No\n",
      "Just looked at 1618.1648437499255. RIO? ... No\n",
      "Just looked at 1618.4648437499254. RIO? ... Yes\n",
      "Just looked at 1618.7648437499254. RIO? ... Yes\n",
      "Just looked at 1619.0648437499253. RIO? ... Yes\n",
      "Just looked at 1619.3648437499253. RIO? ... Yes\n",
      "Just looked at 1619.6648437499252. RIO? ... Yes\n",
      "Just looked at 1619.9648437499252. RIO? ... Yes\n",
      "Just looked at 1620.2648437499251. RIO? ... Yes\n",
      "Just looked at 1620.564843749925. RIO? ... Yes\n",
      "Just looked at 1620.864843749925. RIO? ... Yes\n",
      "Just looked at 1621.164843749925. RIO? ... Yes\n",
      "Just looked at 1621.464843749925. RIO? ... Yes\n",
      "Just looked at 1621.764843749925. RIO? ... Yes\n",
      "Just looked at 1622.0648437499249. RIO? ... Yes\n",
      "Just looked at 1622.3648437499248. RIO? ... No\n",
      "Just looked at 1622.6648437499248. RIO? ... Yes\n",
      "Just looked at 1622.9648437499247. RIO? ... Yes\n",
      "Just looked at 1623.2648437499247. RIO? ... Yes\n",
      "Just looked at 1623.5648437499246. RIO? ... Yes\n",
      "Just looked at 1623.8648437499246. RIO? ... Yes\n",
      "Just looked at 1624.1648437499246. RIO? ... Yes\n",
      "Just looked at 1624.4648437499245. RIO? ... Yes\n",
      "Just looked at 1624.7648437499245. RIO? ... Yes\n",
      "Just looked at 1625.0648437499244. RIO? ... Yes\n",
      "Just looked at 1625.3648437499244. RIO? ... Yes\n",
      "Just looked at 1625.6648437499243. RIO? ... Yes\n",
      "Just looked at 1625.9648437499243. RIO? ... Yes\n",
      "Just looked at 1626.2648437499242. RIO? ... Yes\n",
      "Just looked at 1626.5648437499242. RIO? ... Yes\n",
      "Just looked at 1626.8648437499241. RIO? ... No\n",
      "Just looked at 1627.164843749924. RIO? ... No\n",
      "Just looked at 1627.464843749924. RIO? ... Yes\n",
      "Just looked at 1627.764843749924. RIO? ... No\n",
      "Just looked at 1628.064843749924. RIO? ... No\n",
      "Just looked at 1628.364843749924. RIO? ... No\n",
      "Just looked at 1628.6648437499239. RIO? ... No\n",
      "Just looked at 1628.9648437499238. RIO? ... Yes\n",
      "Just looked at 1629.2648437499238. RIO? ... No\n",
      "Just looked at 1629.5648437499237. RIO? ... No\n",
      "Just looked at 1629.8648437499237. RIO? ... No\n",
      "Just looked at 1630.1648437499236. RIO? ... No\n",
      "Just looked at 1630.4648437499236. RIO? ... No\n",
      "Just looked at 1630.7648437499236. RIO? ... No\n",
      "Just looked at 1631.0648437499235. RIO? ... No\n",
      "Just looked at 1631.3648437499235. RIO? ... No\n",
      "Just looked at 1631.6648437499234. RIO? ... No\n",
      "Just looked at 1631.9648437499234. RIO? ... Yes\n",
      "Just looked at 1632.2648437499233. RIO? ... No\n",
      "Just looked at 1632.5648437499233. RIO? ... No\n",
      "Just looked at 1632.8648437499232. RIO? ... No\n",
      "Just looked at 1633.1648437499232. RIO? ... No\n",
      "Just looked at 1633.4648437499231. RIO? ... No\n",
      "Just looked at 1633.764843749923. RIO? ... No\n",
      "Just looked at 1634.064843749923. RIO? ... No\n",
      "Just looked at 1634.364843749923. RIO? ... No\n",
      "Just looked at 1634.664843749923. RIO? ... No\n",
      "Just looked at 1634.964843749923. RIO? ... No\n",
      "Just looked at 1635.2648437499229. RIO? ... No\n",
      "Just looked at 1635.5648437499228. RIO? ... No\n",
      "Just looked at 1635.8648437499228. RIO? ... No\n",
      "Just looked at 1636.1648437499227. RIO? ... No\n",
      "Just looked at 1636.4648437499227. RIO? ... No\n",
      "Just looked at 1636.7648437499226. RIO? ... No\n",
      "Just looked at 1637.0648437499226. RIO? ... No\n",
      "Just looked at 1637.3648437499226. RIO? ... No\n",
      "Just looked at 1637.6648437499225. RIO? ... No\n",
      "Just looked at 1637.9648437499225. RIO? ... No\n",
      "Just looked at 1638.2648437499224. RIO? ... No\n",
      "Just looked at 1638.5648437499224. RIO? ... No\n",
      "Just looked at 1638.8648437499223. RIO? ... No\n",
      "Just looked at 1639.1648437499223. RIO? ... No\n",
      "Just looked at 1639.4648437499222. RIO? ... No\n",
      "Just looked at 1639.7648437499222. RIO? ... No\n",
      "Just looked at 1640.0648437499221. RIO? ... No\n",
      "Just looked at 1640.364843749922. RIO? ... No\n",
      "Just looked at 1640.664843749922. RIO? ... Yes\n",
      "Just looked at 1640.964843749922. RIO? ... No\n",
      "Just looked at 1641.264843749922. RIO? ... No\n",
      "Just looked at 1641.564843749922. RIO? ... No\n",
      "Just looked at 1641.8648437499219. RIO? ... No\n",
      "Just looked at 1642.1648437499218. RIO? ... No\n",
      "Just looked at 1642.4648437499218. RIO? ... No\n",
      "Just looked at 1642.7648437499217. RIO? ... No\n",
      "Just looked at 1643.0648437499217. RIO? ... No\n",
      "Just looked at 1643.3648437499216. RIO? ... No\n",
      "Just looked at 1643.6648437499216. RIO? ... Yes\n",
      "Just looked at 1643.9648437499216. RIO? ... No\n",
      "Just looked at 1644.2648437499215. RIO? ... No\n",
      "Just looked at 1644.5648437499215. RIO? ... No\n",
      "Just looked at 1644.8648437499214. RIO? ... No\n",
      "Just looked at 1645.1648437499214. RIO? ... No\n",
      "Just looked at 1645.4648437499213. RIO? ... No\n",
      "Just looked at 1645.7648437499213. RIO? ... No\n",
      "Just looked at 1646.0648437499212. RIO? ... No\n",
      "Just looked at 1646.3648437499212. RIO? ... No\n",
      "Just looked at 1646.6648437499211. RIO? ... Yes\n",
      "Just looked at 1646.964843749921. RIO? ... No\n",
      "Just looked at 1647.264843749921. RIO? ... No\n",
      "Just looked at 1647.564843749921. RIO? ... No\n",
      "Just looked at 1647.864843749921. RIO? ... No\n",
      "Just looked at 1648.164843749921. RIO? ... No\n",
      "Just looked at 1648.4648437499209. RIO? ... No\n",
      "Just looked at 1648.7648437499208. RIO? ... No\n",
      "Just looked at 1649.0648437499208. RIO? ... No\n",
      "Just looked at 1649.3648437499207. RIO? ... No\n",
      "Just looked at 1649.6648437499207. RIO? ... Yes\n",
      "Just looked at 1649.9648437499206. RIO? ... No\n",
      "Just looked at 1650.2648437499206. RIO? ... No\n",
      "Just looked at 1650.5648437499206. RIO? ... No\n",
      "Just looked at 1650.8648437499205. RIO? ... No\n",
      "Just looked at 1651.1648437499205. RIO? ... No\n",
      "Just looked at 1651.4648437499204. RIO? ... No\n",
      "Just looked at 1651.7648437499204. RIO? ... No\n",
      "Just looked at 1652.0648437499203. RIO? ... No\n",
      "Just looked at 1652.3648437499203. RIO? ... Yes\n",
      "Just looked at 1652.6648437499202. RIO? ... No\n",
      "Just looked at 1652.9648437499202. RIO? ... No\n",
      "Just looked at 1653.2648437499201. RIO? ... No\n"
     ]
    },
    {
     "name": "stdout",
     "output_type": "stream",
     "text": [
      "Just looked at 1653.56484374992. RIO? ... No\n",
      "Just looked at 1653.86484374992. RIO? ... No\n",
      "Just looked at 1654.16484374992. RIO? ... No\n",
      "Just looked at 1654.46484374992. RIO? ... No\n",
      "Just looked at 1654.76484374992. RIO? ... No\n",
      "Just looked at 1655.0648437499199. RIO? ... No\n",
      "Just looked at 1655.3648437499198. RIO? ... Yes\n",
      "Just looked at 1655.6648437499198. RIO? ... No\n",
      "Just looked at 1655.9648437499197. RIO? ... No\n",
      "Just looked at 1656.2648437499197. RIO? ... No\n",
      "Just looked at 1656.5648437499196. RIO? ... No\n",
      "Just looked at 1656.8648437499196. RIO? ... No\n",
      "Just looked at 1657.1648437499196. RIO? ... No\n",
      "Just looked at 1657.4648437499195. RIO? ... No\n",
      "Just looked at 1657.7648437499195. RIO? ... No\n",
      "Just looked at 1658.0648437499194. RIO? ... No\n",
      "Just looked at 1658.3648437499194. RIO? ... No\n",
      "Just looked at 1658.6648437499193. RIO? ... No\n",
      "Just looked at 1658.9648437499193. RIO? ... No\n",
      "Just looked at 1659.2648437499192. RIO? ... No\n",
      "Just looked at 1659.5648437499192. RIO? ... No\n",
      "Just looked at 1659.8648437499191. RIO? ... No\n",
      "Just looked at 1660.164843749919. RIO? ... No\n",
      "Just looked at 1660.464843749919. RIO? ... No\n",
      "Just looked at 1660.764843749919. RIO? ... No\n",
      "Just looked at 1661.064843749919. RIO? ... No\n",
      "Just looked at 1661.364843749919. RIO? ... No\n",
      "Just looked at 1661.6648437499189. RIO? ... No\n",
      "Just looked at 1661.9648437499188. RIO? ... No\n",
      "Just looked at 1662.2648437499188. RIO? ... No\n",
      "Just looked at 1662.5648437499187. RIO? ... No\n",
      "Just looked at 1662.8648437499187. RIO? ... No\n",
      "Just looked at 1663.1648437499186. RIO? ... No\n",
      "Just looked at 1663.4648437499186. RIO? ... No\n",
      "Just looked at 1663.7648437499186. RIO? ... No\n",
      "Just looked at 1664.0648437499185. RIO? ... Yes\n",
      "Just looked at 1664.3648437499185. RIO? ... No\n",
      "Just looked at 1664.6648437499184. RIO? ... No\n",
      "Just looked at 1664.9648437499184. RIO? ... No\n",
      "Just looked at 1665.2648437499183. RIO? ... No\n",
      "Just looked at 1665.5648437499183. RIO? ... No\n",
      "Just looked at 1665.8648437499182. RIO? ... No\n",
      "Just looked at 1666.1648437499182. RIO? ... No\n",
      "Just looked at 1666.4648437499181. RIO? ... No\n",
      "Just looked at 1666.764843749918. RIO? ... No\n",
      "Just looked at 1667.064843749918. RIO? ... Yes\n",
      "Just looked at 1667.364843749918. RIO? ... No\n",
      "Just looked at 1667.664843749918. RIO? ... No\n",
      "Just looked at 1667.964843749918. RIO? ... No\n",
      "Just looked at 1668.2648437499179. RIO? ... No\n",
      "Just looked at 1668.5648437499178. RIO? ... No\n",
      "Just looked at 1668.8648437499178. RIO? ... No\n",
      "Just looked at 1669.1648437499177. RIO? ... No\n",
      "Just looked at 1669.4648437499177. RIO? ... No\n",
      "Just looked at 1669.7648437499176. RIO? ... No\n",
      "Just looked at 1670.0648437499176. RIO? ... Yes\n",
      "Just looked at 1670.3648437499176. RIO? ... No\n",
      "Just looked at 1670.6648437499175. RIO? ... No\n",
      "Just looked at 1670.9648437499175. RIO? ... No\n",
      "Just looked at 1671.2648437499174. RIO? ... No\n",
      "Just looked at 1671.5648437499174. RIO? ... No\n",
      "Just looked at 1671.8648437499173. RIO? ... No\n",
      "Just looked at 1672.1648437499173. RIO? ... No\n",
      "Just looked at 1672.4648437499172. RIO? ... No\n",
      "Just looked at 1672.7648437499172. RIO? ... No\n",
      "Just looked at 1673.0648437499171. RIO? ... No\n",
      "Just looked at 1673.364843749917. RIO? ... No\n",
      "Just looked at 1673.664843749917. RIO? ... No\n",
      "Just looked at 1673.964843749917. RIO? ... No\n",
      "Just looked at 1674.264843749917. RIO? ... No\n",
      "Just looked at 1674.564843749917. RIO? ... No\n",
      "Just looked at 1674.8648437499169. RIO? ... No\n",
      "Just looked at 1675.1648437499168. RIO? ... No\n",
      "Just looked at 1675.4648437499168. RIO? ... No\n",
      "Just looked at 1675.7648437499167. RIO? ... No\n",
      "Just looked at 1676.0648437499167. RIO? ... No\n",
      "Just looked at 1676.3648437499166. RIO? ... No\n",
      "Just looked at 1676.6648437499166. RIO? ... No\n",
      "Just looked at 1676.9648437499166. RIO? ... No\n",
      "Just looked at 1677.2648437499165. RIO? ... No\n",
      "Just looked at 1677.5648437499165. RIO? ... No\n",
      "Just looked at 1677.8648437499164. RIO? ... No\n",
      "Just looked at 1678.1648437499164. RIO? ... No\n",
      "Just looked at 1678.4648437499163. RIO? ... No\n",
      "Just looked at 1678.7648437499163. RIO? ... Yes\n",
      "Just looked at 1679.0648437499162. RIO? ... No\n",
      "Just looked at 1679.3648437499162. RIO? ... No\n",
      "Just looked at 1679.6648437499161. RIO? ... No\n",
      "Just looked at 1679.964843749916. RIO? ... No\n",
      "Just looked at 1680.264843749916. RIO? ... No\n",
      "Just looked at 1680.564843749916. RIO? ... No\n",
      "Just looked at 1680.864843749916. RIO? ... No\n",
      "Just looked at 1681.164843749916. RIO? ... Yes\n",
      "Just looked at 1681.4648437499159. RIO? ... Yes\n",
      "Just looked at 1681.7648437499158. RIO? ... Yes\n",
      "Just looked at 1682.0648437499158. RIO? ... Yes\n",
      "Just looked at 1682.3648437499157. RIO? ... No\n",
      "Just looked at 1682.6648437499157. RIO? ... No\n",
      "Just looked at 1682.9648437499156. RIO? ... No\n",
      "Just looked at 1683.2648437499156. RIO? ... No\n",
      "Just looked at 1683.5648437499156. RIO? ... No\n",
      "Just looked at 1683.8648437499155. RIO? ... No\n",
      "Just looked at 1684.1648437499155. RIO? ... Yes\n",
      "Just looked at 1684.4648437499154. RIO? ... No\n",
      "Just looked at 1684.7648437499154. RIO? ... Yes\n",
      "Just looked at 1685.0648437499153. RIO? ... No\n",
      "Just looked at 1685.3648437499153. RIO? ... No\n",
      "Just looked at 1685.6648437499152. RIO? ... No\n",
      "Just looked at 1685.9648437499152. RIO? ... Yes\n",
      "Just looked at 1686.2648437499151. RIO? ... No\n",
      "Just looked at 1686.564843749915. RIO? ... No\n",
      "Just looked at 1686.864843749915. RIO? ... No\n",
      "Just looked at 1687.164843749915. RIO? ... No\n",
      "Just looked at 1687.464843749915. RIO? ... No\n",
      "Just looked at 1687.764843749915. RIO? ... Yes\n",
      "Just looked at 1688.0648437499149. RIO? ... No\n",
      "Just looked at 1688.3648437499148. RIO? ... No\n",
      "Just looked at 1688.6648437499148. RIO? ... Yes\n",
      "Just looked at 1688.9648437499147. RIO? ... No\n",
      "Just looked at 1689.2648437499147. RIO? ... No\n",
      "Just looked at 1689.5648437499146. RIO? ... No\n",
      "Just looked at 1689.8648437499146. RIO? ... No\n",
      "Just looked at 1690.1648437499146. RIO? ... No\n",
      "Just looked at 1690.4648437499145. RIO? ... No\n",
      "Just looked at 1690.7648437499145. RIO? ... No\n",
      "Just looked at 1691.0648437499144. RIO? ... Yes\n",
      "Just looked at 1691.3648437499144. RIO? ... No\n",
      "Just looked at 1691.6648437499143. RIO? ... No\n",
      "Just looked at 1691.9648437499143. RIO? ... No\n",
      "Just looked at 1692.2648437499142. RIO? ... No\n",
      "Just looked at 1692.5648437499142. RIO? ... No\n",
      "Just looked at 1692.8648437499141. RIO? ... No\n",
      "Just looked at 1693.164843749914. RIO? ... No\n",
      "Just looked at 1693.464843749914. RIO? ... No\n",
      "Just looked at 1693.764843749914. RIO? ... No\n",
      "Just looked at 1694.064843749914. RIO? ... Yes\n",
      "Just looked at 1694.364843749914. RIO? ... Yes\n",
      "Just looked at 1694.6648437499139. RIO? ... Yes\n",
      "Just looked at 1694.9648437499138. RIO? ... Yes\n",
      "Just looked at 1695.2648437499138. RIO? ... No\n",
      "Just looked at 1695.5648437499137. RIO? ... No\n",
      "Just looked at 1695.8648437499137. RIO? ... No\n",
      "Just looked at 1696.1648437499136. RIO? ... No\n",
      "Just looked at 1696.4648437499136. RIO? ... Yes\n",
      "Just looked at 1696.7648437499136. RIO? ... No\n",
      "Just looked at 1697.0648437499135. RIO? ... No\n",
      "Just looked at 1697.3648437499135. RIO? ... No\n",
      "Just looked at 1697.6648437499134. RIO? ... Yes\n",
      "Just looked at 1697.9648437499134. RIO? ... No\n",
      "Just looked at 1698.2648437499133. RIO? ... Yes\n",
      "Just looked at 1698.5648437499133. RIO? ... No\n",
      "Just looked at 1698.8648437499132. RIO? ... No\n",
      "Just looked at 1699.1648437499132. RIO? ... No\n",
      "Just looked at 1699.4648437499131. RIO? ... No\n",
      "Just looked at 1699.764843749913. RIO? ... No\n",
      "Just looked at 1700.064843749913. RIO? ... Yes\n",
      "Just looked at 1700.364843749913. RIO? ... No\n",
      "Just looked at 1700.664843749913. RIO? ... No\n",
      "Just looked at 1700.964843749913. RIO? ... No\n",
      "Just looked at 1701.2648437499129. RIO? ... No\n",
      "Just looked at 1701.5648437499128. RIO? ... No\n",
      "Just looked at 1701.8648437499128. RIO? ... No\n",
      "Just looked at 1702.1648437499127. RIO? ... Yes\n",
      "Just looked at 1702.4648437499127. RIO? ... No\n",
      "Just looked at 1702.7648437499126. RIO? ... Yes\n",
      "Just looked at 1703.0648437499126. RIO? ... No\n",
      "Just looked at 1703.3648437499126. RIO? ... No\n",
      "Just looked at 1703.6648437499125. RIO? ... No\n",
      "Just looked at 1703.9648437499125. RIO? ... No\n",
      "Just looked at 1704.2648437499124. RIO? ... No\n",
      "Just looked at 1704.5648437499124. RIO? ... No\n",
      "Just looked at 1704.8648437499123. RIO? ... No\n",
      "Just looked at 1705.1648437499123. RIO? ... No\n",
      "Just looked at 1705.4648437499122. RIO? ... No\n",
      "Just looked at 1705.7648437499122. RIO? ... No\n"
     ]
    },
    {
     "name": "stdout",
     "output_type": "stream",
     "text": [
      "Just looked at 1706.0648437499121. RIO? ... No\n",
      "Just looked at 1706.364843749912. RIO? ... No\n",
      "Just looked at 1706.664843749912. RIO? ... No\n",
      "Just looked at 1706.964843749912. RIO? ... No\n",
      "Just looked at 1707.264843749912. RIO? ... No\n",
      "Just looked at 1707.564843749912. RIO? ... No\n",
      "Just looked at 1707.8648437499119. RIO? ... No\n",
      "Just looked at 1708.1648437499118. RIO? ... Yes\n",
      "Just looked at 1708.4648437499118. RIO? ... No\n",
      "Just looked at 1708.7648437499117. RIO? ... No\n",
      "Just looked at 1709.0648437499117. RIO? ... No\n",
      "Just looked at 1709.3648437499116. RIO? ... No\n",
      "Just looked at 1709.6648437499116. RIO? ... No\n",
      "Just looked at 1709.9648437499116. RIO? ... No\n",
      "Just looked at 1710.2648437499115. RIO? ... No\n",
      "Just looked at 1710.5648437499115. RIO? ... No\n",
      "Just looked at 1710.8648437499114. RIO? ... No\n",
      "Just looked at 1711.1648437499114. RIO? ... Yes\n",
      "Just looked at 1711.4648437499113. RIO? ... No\n",
      "Just looked at 1711.7648437499113. RIO? ... No\n",
      "Just looked at 1712.0648437499112. RIO? ... No\n",
      "Just looked at 1712.3648437499112. RIO? ... No\n",
      "Just looked at 1712.6648437499111. RIO? ... No\n",
      "Just looked at 1712.964843749911. RIO? ... No\n",
      "Just looked at 1713.264843749911. RIO? ... No\n",
      "Just looked at 1713.564843749911. RIO? ... No\n",
      "Just looked at 1713.864843749911. RIO? ... No\n",
      "Just looked at 1714.164843749911. RIO? ... No\n",
      "Just looked at 1714.4648437499109. RIO? ... No\n",
      "Just looked at 1714.7648437499108. RIO? ... No\n",
      "Just looked at 1715.0648437499108. RIO? ... No\n",
      "Just looked at 1715.3648437499107. RIO? ... No\n",
      "Just looked at 1715.6648437499107. RIO? ... No\n",
      "Just looked at 1715.9648437499106. RIO? ... No\n",
      "Just looked at 1716.2648437499106. RIO? ... No\n",
      "Just looked at 1716.5648437499106. RIO? ... No\n",
      "Just looked at 1716.8648437499105. RIO? ... Yes\n",
      "Just looked at 1717.1648437499105. RIO? ... No\n",
      "Just looked at 1717.4648437499104. RIO? ... No\n",
      "Just looked at 1717.7648437499104. RIO? ... No\n",
      "Just looked at 1718.0648437499103. RIO? ... No\n",
      "Just looked at 1718.3648437499103. RIO? ... No\n",
      "Just looked at 1718.6648437499102. RIO? ... No\n",
      "Just looked at 1718.9648437499102. RIO? ... No\n",
      "Just looked at 1719.2648437499101. RIO? ... No\n",
      "Just looked at 1719.56484374991. RIO? ... No\n",
      "Just looked at 1719.86484374991. RIO? ... No\n",
      "Just looked at 1720.16484374991. RIO? ... No\n",
      "Just looked at 1720.46484374991. RIO? ... No\n",
      "Just looked at 1720.76484374991. RIO? ... No\n",
      "Just looked at 1721.0648437499099. RIO? ... No\n",
      "Just looked at 1721.3648437499098. RIO? ... No\n",
      "Just looked at 1721.6648437499098. RIO? ... No\n",
      "Just looked at 1721.9648437499097. RIO? ... No\n",
      "Just looked at 1722.2648437499097. RIO? ... No\n",
      "Just looked at 1722.5648437499096. RIO? ... No\n",
      "Just looked at 1722.8648437499096. RIO? ... No\n",
      "Just looked at 1723.1648437499096. RIO? ... No\n",
      "Just looked at 1723.4648437499095. RIO? ... No\n",
      "Just looked at 1723.7648437499095. RIO? ... No\n",
      "Just looked at 1724.0648437499094. RIO? ... No\n",
      "Just looked at 1724.3648437499094. RIO? ... No\n",
      "Just looked at 1724.6648437499093. RIO? ... No\n",
      "Just looked at 1724.9648437499093. RIO? ... No\n",
      "Just looked at 1725.2648437499092. RIO? ... No\n",
      "Just looked at 1725.5648437499092. RIO? ... No\n",
      "Just looked at 1725.8648437499091. RIO? ... No\n",
      "Just looked at 1726.164843749909. RIO? ... No\n",
      "Just looked at 1726.464843749909. RIO? ... No\n",
      "Just looked at 1726.764843749909. RIO? ... No\n",
      "Just looked at 1727.064843749909. RIO? ... No\n",
      "Just looked at 1727.364843749909. RIO? ... No\n",
      "Just looked at 1727.6648437499089. RIO? ... No\n",
      "Just looked at 1727.9648437499088. RIO? ... No\n",
      "Just looked at 1728.2648437499088. RIO? ... No\n",
      "Just looked at 1728.5648437499087. RIO? ... No\n",
      "Just looked at 1728.8648437499087. RIO? ... No\n",
      "Just looked at 1729.1648437499086. RIO? ... No\n",
      "Just looked at 1729.4648437499086. RIO? ... No\n",
      "Just looked at 1729.7648437499086. RIO? ... No\n",
      "Just looked at 1730.0648437499085. RIO? ... No\n",
      "Just looked at 1730.3648437499085. RIO? ... No\n",
      "Just looked at 1730.6648437499084. RIO? ... No\n",
      "Just looked at 1730.9648437499084. RIO? ... No\n",
      "Just looked at 1731.2648437499083. RIO? ... No\n",
      "Just looked at 1731.5648437499083. RIO? ... No\n",
      "Just looked at 1731.8648437499082. RIO? ... No\n",
      "Just looked at 1732.1648437499082. RIO? ... No\n",
      "Just looked at 1732.4648437499081. RIO? ... No\n",
      "Just looked at 1732.764843749908. RIO? ... No\n",
      "Just looked at 1733.064843749908. RIO? ... No\n",
      "Just looked at 1733.364843749908. RIO? ... No\n",
      "Just looked at 1733.664843749908. RIO? ... No\n",
      "Just looked at 1733.964843749908. RIO? ... No\n",
      "Just looked at 1734.2648437499079. RIO? ... No\n",
      "Just looked at 1734.5648437499078. RIO? ... Yes\n",
      "Just looked at 1734.8648437499078. RIO? ... No\n",
      "Just looked at 1735.1648437499077. RIO? ... No\n",
      "Just looked at 1735.4648437499077. RIO? ... No\n",
      "Just looked at 1735.7648437499076. RIO? ... No\n",
      "Just looked at 1736.0648437499076. RIO? ... No\n",
      "Just looked at 1736.3648437499075. RIO? ... No\n",
      "Just looked at 1736.6648437499075. RIO? ... No\n",
      "Just looked at 1736.9648437499075. RIO? ... No\n",
      "Just looked at 1737.2648437499074. RIO? ... No\n",
      "Just looked at 1737.5648437499074. RIO? ... Yes\n",
      "Just looked at 1737.8648437499073. RIO? ... No\n",
      "Just looked at 1738.1648437499073. RIO? ... No\n",
      "Just looked at 1738.4648437499072. RIO? ... No\n",
      "Just looked at 1738.7648437499072. RIO? ... No\n",
      "Just looked at 1739.0648437499071. RIO? ... No\n",
      "Just looked at 1739.364843749907. RIO? ... No\n",
      "Just looked at 1739.664843749907. RIO? ... No\n",
      "Just looked at 1739.964843749907. RIO? ... No\n",
      "Just looked at 1740.264843749907. RIO? ... Yes\n",
      "Just looked at 1740.564843749907. RIO? ... No\n",
      "Just looked at 1740.8648437499069. RIO? ... No\n",
      "Just looked at 1741.1648437499068. RIO? ... No\n",
      "Just looked at 1741.4648437499068. RIO? ... No\n",
      "Just looked at 1741.7648437499067. RIO? ... No\n",
      "Just looked at 1742.0648437499067. RIO? ... No\n",
      "Just looked at 1742.3648437499066. RIO? ... No\n",
      "Just looked at 1742.6648437499066. RIO? ... No\n",
      "Just looked at 1742.9648437499065. RIO? ... No\n",
      "Just looked at 1743.2648437499065. RIO? ... Yes\n",
      "Just looked at 1743.5648437499065. RIO? ... No\n",
      "Just looked at 1743.8648437499064. RIO? ... No\n",
      "Just looked at 1744.1648437499064. RIO? ... No\n",
      "Just looked at 1744.4648437499063. RIO? ... No\n",
      "Just looked at 1744.7648437499063. RIO? ... No\n",
      "Just looked at 1745.0648437499062. RIO? ... No\n",
      "Just looked at 1745.3648437499062. RIO? ... No\n",
      "Just looked at 1745.6648437499061. RIO? ... No\n",
      "Just looked at 1745.964843749906. RIO? ... No\n",
      "Just looked at 1746.264843749906. RIO? ... Yes\n",
      "Just looked at 1746.564843749906. RIO? ... No\n",
      "Just looked at 1746.864843749906. RIO? ... No\n",
      "Just looked at 1747.164843749906. RIO? ... No\n",
      "Just looked at 1747.4648437499059. RIO? ... No\n",
      "Just looked at 1747.7648437499058. RIO? ... No\n",
      "Just looked at 1748.0648437499058. RIO? ... No\n",
      "Just looked at 1748.3648437499057. RIO? ... No\n",
      "Just looked at 1748.6648437499057. RIO? ... No\n",
      "Just looked at 1748.9648437499056. RIO? ... No\n",
      "Just looked at 1749.2648437499056. RIO? ... Yes\n",
      "Just looked at 1749.5648437499055. RIO? ... No\n",
      "Just looked at 1749.8648437499055. RIO? ... No\n",
      "Just looked at 1750.1648437499055. RIO? ... No\n",
      "Just looked at 1750.4648437499054. RIO? ... No\n",
      "Just looked at 1750.7648437499054. RIO? ... No\n",
      "Just looked at 1751.0648437499053. RIO? ... No\n",
      "Just looked at 1751.3648437499053. RIO? ... No\n",
      "Just looked at 1751.6648437499052. RIO? ... No\n",
      "Just looked at 1751.9648437499052. RIO? ... Yes\n",
      "Just looked at 1752.2648437499051. RIO? ... No\n",
      "Just looked at 1752.564843749905. RIO? ... No\n",
      "Just looked at 1752.864843749905. RIO? ... No\n",
      "Just looked at 1753.164843749905. RIO? ... No\n",
      "Just looked at 1753.464843749905. RIO? ... No\n",
      "Just looked at 1753.764843749905. RIO? ... No\n",
      "Just looked at 1754.0648437499049. RIO? ... No\n",
      "Just looked at 1754.3648437499048. RIO? ... No\n",
      "Just looked at 1754.6648437499048. RIO? ... No\n",
      "Just looked at 1754.9648437499047. RIO? ... Yes\n",
      "Just looked at 1755.2648437499047. RIO? ... No\n",
      "Just looked at 1755.5648437499046. RIO? ... No\n",
      "Just looked at 1755.8648437499046. RIO? ... No\n",
      "Just looked at 1756.1648437499045. RIO? ... No\n",
      "Just looked at 1756.4648437499045. RIO? ... No\n",
      "Just looked at 1756.7648437499045. RIO? ... No\n",
      "Just looked at 1757.0648437499044. RIO? ... No\n",
      "Just looked at 1757.3648437499044. RIO? ... No\n",
      "Just looked at 1757.6648437499043. RIO? ... No\n",
      "Just looked at 1757.9648437499043. RIO? ... No\n",
      "Just looked at 1758.2648437499042. RIO? ... No\n",
      "Just looked at 1758.5648437499042. RIO? ... No\n",
      "Just looked at 1758.8648437499041. RIO? ... No\n"
     ]
    },
    {
     "name": "stdout",
     "output_type": "stream",
     "text": [
      "Just looked at 1759.164843749904. RIO? ... No\n",
      "Just looked at 1759.464843749904. RIO? ... No\n",
      "Just looked at 1759.764843749904. RIO? ... No\n",
      "Just looked at 1760.064843749904. RIO? ... No\n",
      "Just looked at 1760.364843749904. RIO? ... No\n",
      "Just looked at 1760.6648437499039. RIO? ... No\n",
      "Just looked at 1760.9648437499038. RIO? ... Yes\n",
      "Just looked at 1761.2648437499038. RIO? ... No\n",
      "Just looked at 1761.5648437499037. RIO? ... No\n",
      "Just looked at 1761.8648437499037. RIO? ... No\n",
      "Just looked at 1762.1648437499036. RIO? ... No\n",
      "Just looked at 1762.4648437499036. RIO? ... No\n",
      "Just looked at 1762.7648437499035. RIO? ... No\n",
      "Just looked at 1763.0648437499035. RIO? ... No\n",
      "Just looked at 1763.3648437499035. RIO? ... No\n",
      "Just looked at 1763.6648437499034. RIO? ... No\n",
      "Just looked at 1763.9648437499034. RIO? ... Yes\n",
      "Just looked at 1764.2648437499033. RIO? ... No\n",
      "Just looked at 1764.5648437499033. RIO? ... No\n",
      "Just looked at 1764.8648437499032. RIO? ... No\n",
      "Just looked at 1765.1648437499032. RIO? ... No\n",
      "Just looked at 1765.4648437499031. RIO? ... No\n",
      "Just looked at 1765.764843749903. RIO? ... No\n",
      "Just looked at 1766.064843749903. RIO? ... No\n",
      "Just looked at 1766.364843749903. RIO? ... No\n",
      "Just looked at 1766.664843749903. RIO? ... Yes\n",
      "Just looked at 1766.964843749903. RIO? ... No\n",
      "Just looked at 1767.2648437499029. RIO? ... No\n",
      "Just looked at 1767.5648437499028. RIO? ... No\n",
      "Just looked at 1767.8648437499028. RIO? ... No\n",
      "Just looked at 1768.1648437499027. RIO? ... No\n",
      "Just looked at 1768.4648437499027. RIO? ... No\n",
      "Just looked at 1768.7648437499026. RIO? ... No\n",
      "Just looked at 1769.0648437499026. RIO? ... No\n",
      "Just looked at 1769.3648437499025. RIO? ... No\n",
      "Just looked at 1769.6648437499025. RIO? ... No\n",
      "Just looked at 1769.9648437499025. RIO? ... No\n",
      "Just looked at 1770.2648437499024. RIO? ... No\n",
      "Just looked at 1770.5648437499024. RIO? ... No\n",
      "Just looked at 1770.8648437499023. RIO? ... No\n",
      "Just looked at 1771.1648437499023. RIO? ... No\n",
      "Just looked at 1771.4648437499022. RIO? ... No\n",
      "Just looked at 1771.7648437499022. RIO? ... No\n",
      "Just looked at 1772.0648437499021. RIO? ... No\n",
      "Just looked at 1772.364843749902. RIO? ... No\n",
      "Just looked at 1772.664843749902. RIO? ... No\n",
      "Just looked at 1772.964843749902. RIO? ... No\n",
      "Just looked at 1773.264843749902. RIO? ... No\n",
      "Just looked at 1773.564843749902. RIO? ... No\n",
      "Just looked at 1773.8648437499019. RIO? ... No\n",
      "Just looked at 1774.1648437499018. RIO? ... No\n",
      "Just looked at 1774.4648437499018. RIO? ... No\n",
      "Just looked at 1774.7648437499017. RIO? ... No\n",
      "Just looked at 1775.0648437499017. RIO? ... No\n",
      "Just looked at 1775.3648437499016. RIO? ... No\n",
      "Just looked at 1775.6648437499016. RIO? ... Yes\n",
      "Just looked at 1775.9648437499015. RIO? ... No\n",
      "Just looked at 1776.2648437499015. RIO? ... No\n",
      "Just looked at 1776.5648437499015. RIO? ... No\n",
      "Just looked at 1776.8648437499014. RIO? ... No\n",
      "Just looked at 1777.1648437499014. RIO? ... No\n",
      "Just looked at 1777.4648437499013. RIO? ... No\n",
      "Just looked at 1777.7648437499013. RIO? ... No\n",
      "Just looked at 1778.0648437499012. RIO? ... No\n",
      "Just looked at 1778.3648437499012. RIO? ... Yes\n",
      "Just looked at 1778.6648437499011. RIO? ... No\n",
      "Just looked at 1778.964843749901. RIO? ... No\n",
      "Just looked at 1779.264843749901. RIO? ... No\n",
      "Just looked at 1779.564843749901. RIO? ... No\n",
      "Just looked at 1779.864843749901. RIO? ... No\n",
      "Just looked at 1780.164843749901. RIO? ... No\n",
      "Just looked at 1780.4648437499009. RIO? ... No\n",
      "Just looked at 1780.7648437499008. RIO? ... No\n",
      "Just looked at 1781.0648437499008. RIO? ... No\n",
      "Just looked at 1781.3648437499007. RIO? ... Yes\n",
      "Just looked at 1781.6648437499007. RIO? ... No\n",
      "Just looked at 1781.9648437499006. RIO? ... No\n",
      "Just looked at 1782.2648437499006. RIO? ... No\n",
      "Just looked at 1782.5648437499005. RIO? ... No\n",
      "Just looked at 1782.8648437499005. RIO? ... No\n",
      "Just looked at 1783.1648437499005. RIO? ... No\n",
      "Just looked at 1783.4648437499004. RIO? ... No\n",
      "Just looked at 1783.7648437499004. RIO? ... No\n",
      "Just looked at 1784.0648437499003. RIO? ... No\n",
      "Just looked at 1784.3648437499003. RIO? ... No\n",
      "Just looked at 1784.6648437499002. RIO? ... No\n",
      "Just looked at 1784.9648437499002. RIO? ... No\n",
      "Just looked at 1785.2648437499001. RIO? ... No\n",
      "Just looked at 1785.5648437499. RIO? ... No\n",
      "Just looked at 1785.8648437499. RIO? ... No\n",
      "Just looked at 1786.1648437499. RIO? ... No\n",
      "Just looked at 1786.4648437499. RIO? ... No\n",
      "Just looked at 1786.7648437499. RIO? ... No\n",
      "Just looked at 1787.0648437498999. RIO? ... No\n",
      "Just looked at 1787.3648437498998. RIO? ... Yes\n",
      "Just looked at 1787.6648437498998. RIO? ... No\n",
      "Just looked at 1787.9648437498997. RIO? ... No\n",
      "Just looked at 1788.2648437498997. RIO? ... No\n",
      "Just looked at 1788.5648437498996. RIO? ... No\n",
      "Just looked at 1788.8648437498996. RIO? ... No\n",
      "Just looked at 1789.1648437498995. RIO? ... No\n",
      "Just looked at 1789.4648437498995. RIO? ... No\n",
      "Just looked at 1789.7648437498995. RIO? ... No\n",
      "Just looked at 1790.0648437498994. RIO? ... No\n",
      "Just looked at 1790.3648437498994. RIO? ... No\n",
      "Just looked at 1790.6648437498993. RIO? ... No\n",
      "Just looked at 1790.9648437498993. RIO? ... No\n",
      "Just looked at 1791.2648437498992. RIO? ... No\n",
      "Just looked at 1791.5648437498992. RIO? ... No\n",
      "Just looked at 1791.8648437498991. RIO? ... No\n",
      "Just looked at 1792.164843749899. RIO? ... No\n",
      "Just looked at 1792.464843749899. RIO? ... No\n",
      "Just looked at 1792.764843749899. RIO? ... No\n",
      "Just looked at 1793.064843749899. RIO? ... No\n",
      "Just looked at 1793.364843749899. RIO? ... No\n",
      "Just looked at 1793.6648437498989. RIO? ... No\n",
      "Just looked at 1793.9648437498988. RIO? ... No\n",
      "Just looked at 1794.2648437498988. RIO? ... No\n",
      "Just looked at 1794.5648437498987. RIO? ... No\n",
      "Just looked at 1794.8648437498987. RIO? ... No\n",
      "Just looked at 1795.1648437498986. RIO? ... No\n",
      "Just looked at 1795.4648437498986. RIO? ... No\n",
      "Just looked at 1795.7648437498985. RIO? ... No\n",
      "Just looked at 1796.0648437498985. RIO? ... Yes\n",
      "Just looked at 1796.3648437498985. RIO? ... No\n",
      "Just looked at 1796.6648437498984. RIO? ... No\n",
      "Just looked at 1796.9648437498984. RIO? ... No\n",
      "Just looked at 1797.2648437498983. RIO? ... No\n",
      "Just looked at 1797.5648437498983. RIO? ... No\n",
      "Just looked at 1797.8648437498982. RIO? ... No\n",
      "Just looked at 1798.1648437498982. RIO? ... No\n",
      "Just looked at 1798.4648437498981. RIO? ... No\n",
      "Just looked at 1798.764843749898. RIO? ... No\n",
      "Just looked at 1799.064843749898. RIO? ... No\n",
      "Just looked at 1799.364843749898. RIO? ... No\n",
      "Just looked at 1799.664843749898. RIO? ... No\n",
      "Just looked at 1799.964843749898. RIO? ... No\n",
      "Just looked at 1800.2648437498979. RIO? ... Yes\n",
      "Just looked at 1800.5648437498978. RIO? ... No\n",
      "Just looked at 1800.8648437498978. RIO? ... No\n",
      "Just looked at 1801.1648437498977. RIO? ... No\n",
      "Just looked at 1801.4648437498977. RIO? ... No\n",
      "Just looked at 1801.7648437498976. RIO? ... Yes\n",
      "Just looked at 1802.0648437498976. RIO? ... No\n",
      "Just looked at 1802.3648437498975. RIO? ... No\n",
      "Just looked at 1802.6648437498975. RIO? ... No\n",
      "Just looked at 1802.9648437498975. RIO? ... No\n",
      "Just looked at 1803.2648437498974. RIO? ... No\n",
      "Just looked at 1803.5648437498974. RIO? ... No\n",
      "Just looked at 1803.8648437498973. RIO? ... No\n",
      "Just looked at 1804.1648437498973. RIO? ... No\n",
      "Just looked at 1804.4648437498972. RIO? ... No\n",
      "Just looked at 1804.7648437498972. RIO? ... Yes\n",
      "Just looked at 1805.0648437498971. RIO? ... No\n",
      "Just looked at 1805.364843749897. RIO? ... No\n",
      "Just looked at 1805.664843749897. RIO? ... No\n",
      "Just looked at 1805.964843749897. RIO? ... No\n",
      "Just looked at 1806.264843749897. RIO? ... No\n",
      "Just looked at 1806.564843749897. RIO? ... No\n",
      "Just looked at 1806.8648437498969. RIO? ... No\n",
      "Just looked at 1807.1648437498968. RIO? ... No\n",
      "Just looked at 1807.4648437498968. RIO? ... No\n",
      "Just looked at 1807.7648437498967. RIO? ... Yes\n",
      "Just looked at 1808.0648437498967. RIO? ... No\n",
      "Just looked at 1808.3648437498966. RIO? ... No\n",
      "Just looked at 1808.6648437498966. RIO? ... No\n",
      "Just looked at 1808.9648437498965. RIO? ... No\n",
      "Just looked at 1809.2648437498965. RIO? ... No\n",
      "Just looked at 1809.5648437498965. RIO? ... No\n",
      "Just looked at 1809.8648437498964. RIO? ... No\n",
      "Just looked at 1810.1648437498964. RIO? ... No\n",
      "Just looked at 1810.4648437498963. RIO? ... No\n",
      "Just looked at 1810.7648437498963. RIO? ... No\n",
      "Just looked at 1811.0648437498962. RIO? ... No\n",
      "Just looked at 1811.3648437498962. RIO? ... No\n",
      "Just looked at 1811.6648437498961. RIO? ... No\n",
      "Just looked at 1811.964843749896. RIO? ... No\n"
     ]
    },
    {
     "name": "stdout",
     "output_type": "stream",
     "text": [
      "Just looked at 1812.264843749896. RIO? ... No\n",
      "Just looked at 1812.564843749896. RIO? ... No\n",
      "Just looked at 1812.864843749896. RIO? ... No\n",
      "Just looked at 1813.164843749896. RIO? ... No\n",
      "Just looked at 1813.4648437498959. RIO? ... No\n",
      "Just looked at 1813.7648437498958. RIO? ... No\n",
      "Just looked at 1814.0648437498958. RIO? ... No\n",
      "Just looked at 1814.3648437498957. RIO? ... No\n",
      "Just looked at 1814.6648437498957. RIO? ... No\n",
      "Just looked at 1814.9648437498956. RIO? ... No\n",
      "Just looked at 1815.2648437498956. RIO? ... No\n",
      "Just looked at 1815.5648437498955. RIO? ... No\n",
      "Just looked at 1815.8648437498955. RIO? ... No\n",
      "Just looked at 1816.1648437498955. RIO? ... No\n",
      "Just looked at 1816.4648437498954. RIO? ... No\n",
      "Just looked at 1816.7648437498954. RIO? ... No\n",
      "Just looked at 1817.0648437498953. RIO? ... No\n",
      "Just looked at 1817.3648437498953. RIO? ... No\n",
      "Just looked at 1817.6648437498952. RIO? ... No\n",
      "Just looked at 1817.9648437498952. RIO? ... No\n",
      "Just looked at 1818.2648437498951. RIO? ... No\n",
      "Just looked at 1818.564843749895. RIO? ... No\n",
      "Just looked at 1818.864843749895. RIO? ... No\n",
      "Just looked at 1819.164843749895. RIO? ... No\n",
      "Just looked at 1819.464843749895. RIO? ... No\n",
      "Just looked at 1819.764843749895. RIO? ... No\n",
      "Just looked at 1820.0648437498949. RIO? ... No\n",
      "Just looked at 1820.3648437498948. RIO? ... No\n",
      "Just looked at 1820.6648437498948. RIO? ... No\n",
      "Just looked at 1820.9648437498947. RIO? ... No\n",
      "Just looked at 1821.2648437498947. RIO? ... No\n",
      "Just looked at 1821.5648437498946. RIO? ... No\n",
      "Just looked at 1821.8648437498946. RIO? ... No\n",
      "Just looked at 1822.1648437498945. RIO? ... No\n",
      "Just looked at 1822.4648437498945. RIO? ... No\n",
      "Just looked at 1822.7648437498945. RIO? ... No\n",
      "Just looked at 1823.0648437498944. RIO? ... No\n",
      "Just looked at 1823.3648437498944. RIO? ... No\n",
      "Just looked at 1823.6648437498943. RIO? ... No\n",
      "Just looked at 1823.9648437498943. RIO? ... No\n",
      "Just looked at 1824.2648437498942. RIO? ... No\n",
      "Just looked at 1824.5648437498942. RIO? ... No\n",
      "Just looked at 1824.8648437498941. RIO? ... No\n",
      "Just looked at 1825.164843749894. RIO? ... No\n",
      "Just looked at 1825.464843749894. RIO? ... No\n",
      "Just looked at 1825.764843749894. RIO? ... No\n",
      "Just looked at 1826.064843749894. RIO? ... No\n",
      "Just looked at 1826.364843749894. RIO? ... No\n",
      "Just looked at 1826.6648437498939. RIO? ... No\n",
      "Just looked at 1826.9648437498938. RIO? ... No\n",
      "Just looked at 1827.2648437498938. RIO? ... No\n",
      "Just looked at 1827.5648437498937. RIO? ... No\n",
      "Just looked at 1827.8648437498937. RIO? ... No\n",
      "Just looked at 1828.1648437498936. RIO? ... Yes\n",
      "Just looked at 1828.4648437498936. RIO? ... No\n",
      "Just looked at 1828.7648437498935. RIO? ... No\n",
      "Just looked at 1829.0648437498935. RIO? ... No\n",
      "Just looked at 1829.3648437498935. RIO? ... No\n",
      "Just looked at 1829.6648437498934. RIO? ... No\n",
      "Just looked at 1829.9648437498934. RIO? ... No\n",
      "Just looked at 1830.2648437498933. RIO? ... No\n",
      "Just looked at 1830.5648437498933. RIO? ... No\n",
      "Just looked at 1830.8648437498932. RIO? ... No\n",
      "Just looked at 1831.1648437498932. RIO? ... Yes\n",
      "Just looked at 1831.4648437498931. RIO? ... No\n",
      "Just looked at 1831.764843749893. RIO? ... No\n",
      "Just looked at 1832.064843749893. RIO? ... No\n",
      "Just looked at 1832.364843749893. RIO? ... No\n",
      "Just looked at 1832.664843749893. RIO? ... No\n",
      "Just looked at 1832.964843749893. RIO? ... No\n",
      "Just looked at 1833.2648437498929. RIO? ... No\n",
      "Just looked at 1833.5648437498928. RIO? ... No\n",
      "Just looked at 1833.8648437498928. RIO? ... No\n",
      "Just looked at 1834.1648437498927. RIO? ... No\n",
      "Just looked at 1834.4648437498927. RIO? ... No\n",
      "Just looked at 1834.7648437498926. RIO? ... No\n",
      "Just looked at 1835.0648437498926. RIO? ... No\n",
      "Just looked at 1835.3648437498925. RIO? ... No\n",
      "Just looked at 1835.6648437498925. RIO? ... No\n",
      "Just looked at 1835.9648437498925. RIO? ... No\n",
      "Just looked at 1836.2648437498924. RIO? ... No\n",
      "Just looked at 1836.5648437498924. RIO? ... No\n",
      "Just looked at 1836.8648437498923. RIO? ... No\n",
      "Just looked at 1837.1648437498923. RIO? ... No\n",
      "Just looked at 1837.4648437498922. RIO? ... No\n",
      "Just looked at 1837.7648437498922. RIO? ... No\n",
      "Just looked at 1838.0648437498921. RIO? ... No\n",
      "Just looked at 1838.364843749892. RIO? ... No\n",
      "Just looked at 1838.664843749892. RIO? ... No\n",
      "Just looked at 1838.964843749892. RIO? ... No\n",
      "Just looked at 1839.264843749892. RIO? ... No\n",
      "Just looked at 1839.564843749892. RIO? ... No\n",
      "Just looked at 1839.8648437498919. RIO? ... Yes\n",
      "Just looked at 1840.1648437498918. RIO? ... No\n",
      "Just looked at 1840.4648437498918. RIO? ... No\n",
      "Just looked at 1840.7648437498917. RIO? ... No\n",
      "Just looked at 1841.0648437498917. RIO? ... No\n",
      "Just looked at 1841.3648437498916. RIO? ... No\n",
      "Just looked at 1841.6648437498916. RIO? ... No\n",
      "Just looked at 1841.9648437498915. RIO? ... No\n",
      "Just looked at 1842.2648437498915. RIO? ... No\n",
      "Just looked at 1842.5648437498915. RIO? ... No\n",
      "Just looked at 1842.8648437498914. RIO? ... Yes\n",
      "Just looked at 1843.1648437498914. RIO? ... No\n",
      "Just looked at 1843.4648437498913. RIO? ... No\n",
      "Just looked at 1843.7648437498913. RIO? ... No\n",
      "Just looked at 1844.0648437498912. RIO? ... No\n",
      "Just looked at 1844.3648437498912. RIO? ... No\n",
      "Just looked at 1844.6648437498911. RIO? ... No\n",
      "Just looked at 1844.964843749891. RIO? ... No\n",
      "Just looked at 1845.264843749891. RIO? ... No\n",
      "Just looked at 1845.564843749891. RIO? ... No\n",
      "Just looked at 1845.864843749891. RIO? ... Yes\n",
      "Just looked at 1846.164843749891. RIO? ... No\n",
      "Just looked at 1846.4648437498909. RIO? ... No\n",
      "Just looked at 1846.7648437498908. RIO? ... No\n",
      "Just looked at 1847.0648437498908. RIO? ... No\n",
      "Just looked at 1847.3648437498907. RIO? ... No\n",
      "Just looked at 1847.6648437498907. RIO? ... No\n",
      "Just looked at 1847.9648437498906. RIO? ... No\n",
      "Just looked at 1848.2648437498906. RIO? ... No\n",
      "Just looked at 1848.5648437498905. RIO? ... No\n",
      "Just looked at 1848.8648437498905. RIO? ... No\n",
      "Just looked at 1849.1648437498905. RIO? ... No\n",
      "Just looked at 1849.4648437498904. RIO? ... No\n",
      "Just looked at 1849.7648437498904. RIO? ... No\n",
      "Just looked at 1850.0648437498903. RIO? ... No\n",
      "Just looked at 1850.3648437498903. RIO? ... No\n",
      "Just looked at 1850.6648437498902. RIO? ... No\n",
      "Just looked at 1850.9648437498902. RIO? ... No\n",
      "Just looked at 1851.2648437498901. RIO? ... No\n",
      "Just looked at 1851.56484374989. RIO? ... No\n",
      "Just looked at 1851.86484374989. RIO? ... No\n",
      "Just looked at 1852.16484374989. RIO? ... No\n",
      "Just looked at 1852.46484374989. RIO? ... No\n",
      "Just looked at 1852.76484374989. RIO? ... No\n",
      "Just looked at 1853.0648437498899. RIO? ... No\n",
      "Just looked at 1853.3648437498898. RIO? ... No\n",
      "Just looked at 1853.6648437498898. RIO? ... No\n",
      "Just looked at 1853.9648437498897. RIO? ... No\n",
      "Just looked at 1854.2648437498897. RIO? ... No\n",
      "Just looked at 1854.5648437498896. RIO? ... No\n",
      "Just looked at 1854.8648437498896. RIO? ... No\n",
      "Just looked at 1855.1648437498895. RIO? ... No\n",
      "Just looked at 1855.4648437498895. RIO? ... No\n",
      "Just looked at 1855.7648437498895. RIO? ... No\n",
      "Just looked at 1856.0648437498894. RIO? ... No\n",
      "Just looked at 1856.3648437498894. RIO? ... No\n",
      "Just looked at 1856.6648437498893. RIO? ... No\n",
      "Just looked at 1856.9648437498893. RIO? ... No\n",
      "Just looked at 1857.2648437498892. RIO? ... No\n",
      "Just looked at 1857.5648437498892. RIO? ... No\n",
      "Just looked at 1857.8648437498891. RIO? ... No\n",
      "Just looked at 1858.164843749889. RIO? ... No\n",
      "Just looked at 1858.464843749889. RIO? ... No\n",
      "Just looked at 1858.764843749889. RIO? ... No\n",
      "Just looked at 1859.064843749889. RIO? ... No\n",
      "Just looked at 1859.364843749889. RIO? ... No\n",
      "Just looked at 1859.6648437498889. RIO? ... No\n",
      "Just looked at 1859.9648437498888. RIO? ... No\n",
      "Just looked at 1860.2648437498888. RIO? ... No\n",
      "Just looked at 1860.5648437498887. RIO? ... No\n",
      "Just looked at 1860.8648437498887. RIO? ... No\n",
      "Just looked at 1861.1648437498886. RIO? ... No\n",
      "Just looked at 1861.4648437498886. RIO? ... No\n",
      "Just looked at 1861.7648437498885. RIO? ... No\n",
      "Just looked at 1862.0648437498885. RIO? ... No\n",
      "Just looked at 1862.3648437498885. RIO? ... No\n",
      "Just looked at 1862.6648437498884. RIO? ... No\n",
      "Just looked at 1862.9648437498884. RIO? ... No\n",
      "Just looked at 1863.2648437498883. RIO? ... No\n",
      "Just looked at 1863.5648437498883. RIO? ... No\n",
      "Just looked at 1863.8648437498882. RIO? ... No\n",
      "Just looked at 1864.1648437498882. RIO? ... No\n",
      "Just looked at 1864.4648437498881. RIO? ... No\n",
      "Just looked at 1864.764843749888. RIO? ... No\n",
      "Just looked at 1865.064843749888. RIO? ... No\n"
     ]
    },
    {
     "name": "stdout",
     "output_type": "stream",
     "text": [
      "Just looked at 1865.364843749888. RIO? ... No\n",
      "Just looked at 1865.664843749888. RIO? ... No\n",
      "Just looked at 1865.964843749888. RIO? ... No\n",
      "Just looked at 1866.2648437498879. RIO? ... No\n",
      "Just looked at 1866.5648437498878. RIO? ... No\n",
      "Just looked at 1866.8648437498878. RIO? ... No\n",
      "Just looked at 1867.1648437498877. RIO? ... No\n",
      "Just looked at 1867.4648437498877. RIO? ... No\n",
      "Just looked at 1867.7648437498876. RIO? ... No\n",
      "Just looked at 1868.0648437498876. RIO? ... No\n",
      "Just looked at 1868.3648437498875. RIO? ... No\n",
      "Just looked at 1868.6648437498875. RIO? ... No\n",
      "Just looked at 1868.9648437498875. RIO? ... No\n",
      "Just looked at 1869.2648437498874. RIO? ... Yes\n",
      "Just looked at 1869.5648437498874. RIO? ... No\n",
      "Just looked at 1869.8648437498873. RIO? ... No\n",
      "Just looked at 1870.1648437498873. RIO? ... No\n",
      "Just looked at 1870.4648437498872. RIO? ... No\n",
      "Just looked at 1870.7648437498872. RIO? ... No\n",
      "Just looked at 1871.0648437498871. RIO? ... No\n",
      "Just looked at 1871.364843749887. RIO? ... No\n",
      "Just looked at 1871.664843749887. RIO? ... No\n",
      "Just looked at 1871.964843749887. RIO? ... No\n",
      "Just looked at 1872.264843749887. RIO? ... No\n",
      "Just looked at 1872.564843749887. RIO? ... No\n",
      "Just looked at 1872.8648437498869. RIO? ... No\n",
      "Just looked at 1873.1648437498868. RIO? ... No\n",
      "Just looked at 1873.4648437498868. RIO? ... No\n",
      "Just looked at 1873.7648437498867. RIO? ... No\n",
      "Just looked at 1874.0648437498867. RIO? ... No\n",
      "Just looked at 1874.3648437498866. RIO? ... No\n",
      "Just looked at 1874.6648437498866. RIO? ... No\n",
      "Just looked at 1874.9648437498865. RIO? ... No\n",
      "Just looked at 1875.2648437498865. RIO? ... Yes\n",
      "Just looked at 1875.5648437498864. RIO? ... No\n",
      "Just looked at 1875.8648437498864. RIO? ... No\n",
      "Just looked at 1876.1648437498864. RIO? ... No\n",
      "Just looked at 1876.4648437498863. RIO? ... No\n"
     ]
    }
   ],
   "source": [
    "f_range=0.3 #larger for ROI search\n",
    "f_start = filterbank_head.container.f_start\n",
    "f_stop = f_start+f_range\n",
    "t_start = 0\n",
    "t_stop = 16\n",
    "i=0\n",
    "noise_cutoff = 10\n",
    "RsOI = []\n",
    "max_signal = []\n",
    "signal = []\n",
    "\n",
    "while (f_stop <= filterbank_head.container.f_stop):\n",
    "    ROI = 'No'\n",
    "    filterbank = Waterfall('D:/repos_personal/other/SETI/data/spliced_blc02030405_2bit_guppi_57459_34297_HIP65352_0027.gpuspec.0000.h5', f_start=f_start, f_stop=f_stop,t_start=t_start,t_stop=t_stop)\n",
    "    data_temp = filterbank.data\n",
    "    max_temp = np.max(data_temp)\n",
    "    mean_signal = np.mean(data_temp)\n",
    "    if max_temp > noise_baseline*noise_cutoff:\n",
    "        RsOI.append(f_start)\n",
    "        ROI = 'Yes'\n",
    "        \n",
    "    #min_temp = np.min(data_temp)\n",
    "    #if min_temp < min_overall:\n",
    "    #    min_overall = min_temp\n",
    "        \n",
    "    max_signal.append(max_temp)    \n",
    "    signal.append(mean_signal)\n",
    "    \n",
    "    f_start = f_start + f_range\n",
    "    f_stop = f_stop + f_range\n",
    "    print(\"Just looked at \" + str(f_start) + \". RIO? ... \" + ROI)\n",
    "    i=i+1\n",
    "    \n",
    "#print('The minimum power is ' + str(min_overall))\n",
    "#print('The maximum power is ' + str(max_overall))"
   ]
  },
  {
   "cell_type": "code",
   "execution_count": 65,
   "metadata": {},
   "outputs": [
    {
     "data": {
      "text/plain": [
       "[<matplotlib.lines.Line2D at 0x20b284e7390>]"
      ]
     },
     "execution_count": 65,
     "metadata": {},
     "output_type": "execute_result"
    },
    {
     "data": {
      "image/png": "[encoded data removed]",
      "text/plain": [
       "<matplotlib.figure.Figure at 0x20b243ebeb8>"
      ]
     },
     "metadata": {
      "needs_background": "light"
     },
     "output_type": "display_data"
    }
   ],
   "source": [
    "plt.plot(signal)"
   ]
  },
  {
   "cell_type": "code",
   "execution_count": 66,
   "metadata": {},
   "outputs": [
    {
     "data": {
      "text/plain": [
       "[<matplotlib.lines.Line2D at 0x20b28e2d4a8>]"
      ]
     },
     "execution_count": 66,
     "metadata": {},
     "output_type": "execute_result"
    },
    {
     "data": {
      "image/png": "[encoded data removed]",
      "text/plain": [
       "<matplotlib.figure.Figure at 0x20b28497f60>"
      ]
     },
     "metadata": {
      "needs_background": "light"
     },
     "output_type": "display_data"
    }
   ],
   "source": [
    "plt.plot(max_signal)"
   ]
  },
  {
   "cell_type": "code",
   "execution_count": 67,
   "metadata": {},
   "outputs": [
    {
     "data": {
      "text/plain": [
       "316"
      ]
     },
     "execution_count": 67,
     "metadata": {},
     "output_type": "execute_result"
    }
   ],
   "source": [
    "len(RsOI)"
   ]
  },
  {
   "cell_type": "code",
   "execution_count": null,
   "metadata": {},
   "outputs": [],
   "source": [
    "#RsOI_min = RsOI.copy()\n",
    "#RsOI_max = RsOI.copy()\n",
    "\n",
    "#for i in range(0,len(RsOI_min)-1):\n",
    "#    RsOI_max[i] = RsOI_min[i+1]"
   ]
  },
  {
   "cell_type": "code",
   "execution_count": null,
   "metadata": {},
   "outputs": [],
   "source": [
    "#for i in range(0,len(RsOI_min)):\n",
    "#    print(\"Between \" + str(RsOI_min[i]) + \" and \" + str(RsOI_max[i]))\n",
    "#    print((1189.77 > RsOI_min[i]) & (1189.77 < RsOI_max[i]))"
   ]
  },
  {
   "cell_type": "markdown",
   "metadata": {},
   "source": [
    "### Function to plot spectrograms"
   ]
  },
  {
   "cell_type": "code",
   "execution_count": 42,
   "metadata": {},
   "outputs": [],
   "source": [
    "#https://github.com/UCBerkeleySETI/blimpy/blob/master/blimpy/utils.py\n",
    "\n",
    "def rebin(d, n_x, n_y=None):\n",
    "    \"\"\" Rebin data by averaging bins together\n",
    "    Args:\n",
    "    d (np.array): data\n",
    "    n_x (int): number of bins in x dir to rebin into one\n",
    "    n_y (int): number of bins in y dir to rebin into one\n",
    "    Returns:\n",
    "    d: rebinned data with shape (n_x, n_y)\n",
    "    \"\"\"\n",
    "\n",
    "    if d.ndim == 2:\n",
    "        if n_y is None:\n",
    "            n_y = 1\n",
    "        if n_x is None:\n",
    "            n_x = 1\n",
    "        d = d[:int(d.shape[0] // n_x) * n_x, :int(d.shape[1] // n_y) * n_y]\n",
    "        d = d.reshape((d.shape[0] // n_x, n_x, d.shape[1] // n_y, n_y))\n",
    "        d = d.mean(axis=3)\n",
    "        d = d.mean(axis=1)\n",
    "    elif d.ndim == 1:\n",
    "        d = d[:int(d.shape[0] // n_x) * n_x]\n",
    "        d = d.reshape((d.shape[0] // n_x, n_x))\n",
    "        d = d.mean(axis=1)\n",
    "    else:\n",
    "        raise RuntimeError(\"Only NDIM <= 2 supported\")\n",
    "    \n",
    "    return(d)"
   ]
  },
  {
   "cell_type": "code",
   "execution_count": 60,
   "metadata": {},
   "outputs": [
    {
     "name": "stdout",
     "output_type": "stream",
     "text": [
      "blimpy.file_wrapper INFO     Skipping loading data ...\n"
     ]
    }
   ],
   "source": [
    "#HIP65352 (Example Enrique data)\n",
    "chosen_file = 'D:/repos_personal/other/SETI/data/spliced_blc02030405_2bit_guppi_57459_34297_HIP65352_0027.gpuspec.0000.h5'\n",
    "filterbank_head = Waterfall(chosen_file, load_data=False)\n",
    "\n",
    "f_range=0.003\n",
    "#f_start = filterbank_head.container.f_start\n",
    "f_start = filterbank_head.container.f_start\n",
    "f_stop = f_start+f_range\n",
    "t_start = 0 \n",
    "t_stop = 16\n",
    "i=0\n",
    "MAX_IMSHOW_POINTS = (8192, 4096)"
   ]
  },
  {
   "cell_type": "code",
   "execution_count": 61,
   "metadata": {},
   "outputs": [
    {
     "name": "stdout",
     "output_type": "stream",
     "text": [
      "1127.6648437499998 (going up to 1876.46484375)\n",
      "1130.6648437499994 (going up to 1876.46484375)\n",
      "1133.664843749999 (going up to 1876.46484375)\n",
      "1145.3648437499971 (going up to 1876.46484375)\n",
      "1145.964843749997 (going up to 1876.46484375)\n",
      "1148.3648437499967 (going up to 1876.46484375)\n",
      "1165.764843749994 (going up to 1876.46484375)\n",
      "1169.9648437499934 (going up to 1876.46484375)\n",
      "1171.7648437499931 (going up to 1876.46484375)\n",
      "1183.1648437499914 (going up to 1876.46484375)\n",
      "1195.1648437499896 (going up to 1876.46484375)\n",
      "1199.9648437499889 (going up to 1876.46484375)\n",
      "1203.8648437499883 (going up to 1876.46484375)\n",
      "1204.1648437499882 (going up to 1876.46484375)\n",
      "1206.8648437499878 (going up to 1876.46484375)\n",
      "1209.8648437499874 (going up to 1876.46484375)\n",
      "1212.864843749987 (going up to 1876.46484375)\n",
      "1215.5648437499865 (going up to 1876.46484375)\n",
      "1217.9648437499861 (going up to 1876.46484375)\n",
      "1218.564843749986 (going up to 1876.46484375)\n",
      "1221.5648437499856 (going up to 1876.46484375)\n",
      "1224.5648437499851 (going up to 1876.46484375)\n",
      "1227.2648437499847 (going up to 1876.46484375)\n",
      "1230.2648437499843 (going up to 1876.46484375)\n",
      "1241.9648437499825 (going up to 1876.46484375)\n",
      "1249.7648437499813 (going up to 1876.46484375)\n",
      "1253.6648437499807 (going up to 1876.46484375)\n",
      "1256.6648437499803 (going up to 1876.46484375)\n",
      "1259.6648437499798 (going up to 1876.46484375)\n",
      "1262.6648437499794 (going up to 1876.46484375)\n",
      "1265.364843749979 (going up to 1876.46484375)\n",
      "1268.3648437499785 (going up to 1876.46484375)\n",
      "1271.364843749978 (going up to 1876.46484375)\n",
      "1274.3648437499776 (going up to 1876.46484375)\n",
      "1277.0648437499772 (going up to 1876.46484375)\n",
      "1280.0648437499767 (going up to 1876.46484375)\n",
      "1295.9648437499743 (going up to 1876.46484375)\n",
      "1299.8648437499737 (going up to 1876.46484375)\n",
      "1308.8648437499724 (going up to 1876.46484375)\n",
      "1312.4648437499718 (going up to 1876.46484375)\n",
      "1314.2648437499715 (going up to 1876.46484375)\n",
      "1316.6648437499712 (going up to 1876.46484375)\n",
      "1318.464843749971 (going up to 1876.46484375)\n",
      "1353.2648437499656 (going up to 1876.46484375)\n",
      "1359.2648437499647 (going up to 1876.46484375)\n",
      "1360.1648437499646 (going up to 1876.46484375)\n",
      "1362.2648437499643 (going up to 1876.46484375)\n",
      "1367.9648437499634 (going up to 1876.46484375)\n",
      "1370.964843749963 (going up to 1876.46484375)\n",
      "1374.8648437499623 (going up to 1876.46484375)\n",
      "1376.664843749962 (going up to 1876.46484375)\n",
      "1383.264843749961 (going up to 1876.46484375)\n",
      "1385.6648437499607 (going up to 1876.46484375)\n",
      "1389.86484374996 (going up to 1876.46484375)\n",
      "1391.3648437499598 (going up to 1876.46484375)\n",
      "1394.3648437499594 (going up to 1876.46484375)\n",
      "1399.7648437499586 (going up to 1876.46484375)\n",
      "1406.0648437499576 (going up to 1876.46484375)\n",
      "1409.964843749957 (going up to 1876.46484375)\n",
      "1420.7648437499554 (going up to 1876.46484375)\n",
      "1423.764843749955 (going up to 1876.46484375)\n",
      "1426.4648437499545 (going up to 1876.46484375)\n",
      "1429.464843749954 (going up to 1876.46484375)\n",
      "1435.4648437499532 (going up to 1876.46484375)\n",
      "1437.264843749953 (going up to 1876.46484375)\n",
      "1438.4648437499527 (going up to 1876.46484375)\n",
      "1440.8648437499523 (going up to 1876.46484375)\n",
      "1441.7648437499522 (going up to 1876.46484375)\n",
      "1442.964843749952 (going up to 1876.46484375)\n",
      "1443.564843749952 (going up to 1876.46484375)\n",
      "1445.3648437499517 (going up to 1876.46484375)\n",
      "1446.5648437499515 (going up to 1876.46484375)\n",
      "1447.1648437499514 (going up to 1876.46484375)\n",
      "1449.564843749951 (going up to 1876.46484375)\n",
      "1449.864843749951 (going up to 1876.46484375)\n",
      "1452.8648437499505 (going up to 1876.46484375)\n",
      "1454.0648437499503 (going up to 1876.46484375)\n",
      "1461.8648437499492 (going up to 1876.46484375)\n",
      "1462.1648437499491 (going up to 1876.46484375)\n",
      "1464.5648437499487 (going up to 1876.46484375)\n",
      "1466.3648437499485 (going up to 1876.46484375)\n",
      "1467.5648437499483 (going up to 1876.46484375)\n",
      "1473.5648437499474 (going up to 1876.46484375)\n",
      "1479.2648437499465 (going up to 1876.46484375)\n",
      "1490.9648437499447 (going up to 1876.46484375)\n",
      "1493.9648437499443 (going up to 1876.46484375)\n",
      "1499.9648437499434 (going up to 1876.46484375)\n",
      "1505.6648437499425 (going up to 1876.46484375)\n",
      "1514.3648437499412 (going up to 1876.46484375)\n",
      "1516.4648437499409 (going up to 1876.46484375)\n",
      "1517.3648437499407 (going up to 1876.46484375)\n",
      "1520.3648437499403 (going up to 1876.46484375)\n",
      "1521.2648437499402 (going up to 1876.46484375)\n",
      "1521.86484374994 (going up to 1876.46484375)\n",
      "1522.16484374994 (going up to 1876.46484375)\n",
      "1523.3648437499398 (going up to 1876.46484375)\n",
      "1525.4648437499395 (going up to 1876.46484375)\n",
      "1525.7648437499395 (going up to 1876.46484375)\n",
      "1526.0648437499394 (going up to 1876.46484375)\n",
      "1526.3648437499394 (going up to 1876.46484375)\n",
      "1526.6648437499393 (going up to 1876.46484375)\n",
      "1527.2648437499392 (going up to 1876.46484375)\n",
      "1527.5648437499392 (going up to 1876.46484375)\n",
      "1527.8648437499392 (going up to 1876.46484375)\n",
      "1528.164843749939 (going up to 1876.46484375)\n",
      "1529.064843749939 (going up to 1876.46484375)\n",
      "1529.364843749939 (going up to 1876.46484375)\n",
      "1529.6648437499389 (going up to 1876.46484375)\n",
      "1530.2648437499388 (going up to 1876.46484375)\n",
      "1530.5648437499387 (going up to 1876.46484375)\n",
      "1531.4648437499386 (going up to 1876.46484375)\n",
      "1531.7648437499386 (going up to 1876.46484375)\n",
      "1532.0648437499385 (going up to 1876.46484375)\n",
      "1532.3648437499385 (going up to 1876.46484375)\n",
      "1532.6648437499384 (going up to 1876.46484375)\n",
      "1532.9648437499384 (going up to 1876.46484375)\n",
      "1533.2648437499383 (going up to 1876.46484375)\n",
      "1533.5648437499383 (going up to 1876.46484375)\n",
      "1534.4648437499382 (going up to 1876.46484375)\n",
      "1534.764843749938 (going up to 1876.46484375)\n",
      "1535.064843749938 (going up to 1876.46484375)\n",
      "1535.364843749938 (going up to 1876.46484375)\n",
      "1535.964843749938 (going up to 1876.46484375)\n",
      "1536.2648437499379 (going up to 1876.46484375)\n",
      "1536.5648437499378 (going up to 1876.46484375)\n",
      "1536.8648437499378 (going up to 1876.46484375)\n",
      "1537.1648437499377 (going up to 1876.46484375)\n",
      "1537.4648437499377 (going up to 1876.46484375)\n",
      "1537.7648437499377 (going up to 1876.46484375)\n",
      "1538.3648437499376 (going up to 1876.46484375)\n",
      "1538.6648437499375 (going up to 1876.46484375)\n",
      "1538.9648437499375 (going up to 1876.46484375)\n",
      "1539.5648437499374 (going up to 1876.46484375)\n",
      "1539.8648437499373 (going up to 1876.46484375)\n",
      "1540.1648437499373 (going up to 1876.46484375)\n",
      "1540.4648437499372 (going up to 1876.46484375)\n",
      "1540.7648437499372 (going up to 1876.46484375)\n",
      "1541.964843749937 (going up to 1876.46484375)\n",
      "1542.564843749937 (going up to 1876.46484375)\n",
      "1543.1648437499368 (going up to 1876.46484375)\n",
      "1543.7648437499367 (going up to 1876.46484375)\n",
      "1544.0648437499367 (going up to 1876.46484375)\n",
      "1544.3648437499367 (going up to 1876.46484375)\n",
      "1544.6648437499366 (going up to 1876.46484375)\n",
      "1544.9648437499366 (going up to 1876.46484375)\n",
      "1545.8648437499364 (going up to 1876.46484375)\n",
      "1546.1648437499364 (going up to 1876.46484375)\n",
      "1546.4648437499363 (going up to 1876.46484375)\n",
      "1546.7648437499363 (going up to 1876.46484375)\n",
      "1547.0648437499362 (going up to 1876.46484375)\n",
      "1547.3648437499362 (going up to 1876.46484375)\n",
      "1547.6648437499362 (going up to 1876.46484375)\n",
      "1547.964843749936 (going up to 1876.46484375)\n",
      "1548.264843749936 (going up to 1876.46484375)\n",
      "1548.564843749936 (going up to 1876.46484375)\n",
      "1548.864843749936 (going up to 1876.46484375)\n",
      "1549.164843749936 (going up to 1876.46484375)\n",
      "1549.4648437499359 (going up to 1876.46484375)\n",
      "1549.7648437499358 (going up to 1876.46484375)\n",
      "1550.0648437499358 (going up to 1876.46484375)\n",
      "1550.3648437499357 (going up to 1876.46484375)\n",
      "1550.6648437499357 (going up to 1876.46484375)\n",
      "1550.9648437499357 (going up to 1876.46484375)\n",
      "1551.2648437499356 (going up to 1876.46484375)\n",
      "1551.8648437499355 (going up to 1876.46484375)\n",
      "1552.1648437499355 (going up to 1876.46484375)\n",
      "1552.4648437499354 (going up to 1876.46484375)\n",
      "1553.0648437499353 (going up to 1876.46484375)\n",
      "1553.6648437499352 (going up to 1876.46484375)\n",
      "1553.9648437499352 (going up to 1876.46484375)\n",
      "1554.2648437499352 (going up to 1876.46484375)\n",
      "1554.564843749935 (going up to 1876.46484375)\n",
      "1554.864843749935 (going up to 1876.46484375)\n",
      "1555.464843749935 (going up to 1876.46484375)\n",
      "1555.764843749935 (going up to 1876.46484375)\n",
      "1556.0648437499349 (going up to 1876.46484375)\n"
     ]
    },
    {
     "name": "stdout",
     "output_type": "stream",
     "text": [
      "1556.3648437499348 (going up to 1876.46484375)\n",
      "1556.6648437499348 (going up to 1876.46484375)\n",
      "1556.9648437499347 (going up to 1876.46484375)\n",
      "1557.2648437499347 (going up to 1876.46484375)\n",
      "1557.5648437499347 (going up to 1876.46484375)\n",
      "1557.8648437499346 (going up to 1876.46484375)\n",
      "1558.1648437499346 (going up to 1876.46484375)\n",
      "1558.4648437499345 (going up to 1876.46484375)\n",
      "1558.7648437499345 (going up to 1876.46484375)\n",
      "1559.3648437499344 (going up to 1876.46484375)\n",
      "1559.6648437499343 (going up to 1876.46484375)\n",
      "1559.9648437499343 (going up to 1876.46484375)\n",
      "1560.5648437499342 (going up to 1876.46484375)\n",
      "1560.8648437499342 (going up to 1876.46484375)\n",
      "1564.1648437499337 (going up to 1876.46484375)\n",
      "1565.0648437499335 (going up to 1876.46484375)\n",
      "1567.1648437499332 (going up to 1876.46484375)\n",
      "1571.6648437499325 (going up to 1876.46484375)\n",
      "1573.1648437499323 (going up to 1876.46484375)\n",
      "1573.4648437499322 (going up to 1876.46484375)\n",
      "1573.7648437499322 (going up to 1876.46484375)\n",
      "1574.0648437499322 (going up to 1876.46484375)\n",
      "1574.364843749932 (going up to 1876.46484375)\n",
      "1574.664843749932 (going up to 1876.46484375)\n",
      "1574.964843749932 (going up to 1876.46484375)\n",
      "1575.264843749932 (going up to 1876.46484375)\n",
      "1575.564843749932 (going up to 1876.46484375)\n",
      "1575.8648437499319 (going up to 1876.46484375)\n",
      "1576.1648437499318 (going up to 1876.46484375)\n",
      "1576.4648437499318 (going up to 1876.46484375)\n",
      "1576.7648437499317 (going up to 1876.46484375)\n",
      "1577.6648437499316 (going up to 1876.46484375)\n",
      "1577.9648437499316 (going up to 1876.46484375)\n",
      "1578.8648437499314 (going up to 1876.46484375)\n",
      "1581.864843749931 (going up to 1876.46484375)\n",
      "1584.8648437499305 (going up to 1876.46484375)\n",
      "1585.4648437499304 (going up to 1876.46484375)\n",
      "1589.6648437499298 (going up to 1876.46484375)\n",
      "1593.5648437499292 (going up to 1876.46484375)\n",
      "1596.5648437499287 (going up to 1876.46484375)\n"
     ]
    },
    {
     "ename": "KeyboardInterrupt",
     "evalue": "",
     "output_type": "error",
     "traceback": [
      "\u001b[1;31m---------------------------------------------------------------------------\u001b[0m",
      "\u001b[1;31mKeyboardInterrupt\u001b[0m                         Traceback (most recent call last)",
      "\u001b[1;32m<ipython-input-61-56d249c82bc8>\u001b[0m in \u001b[0;36m<module>\u001b[1;34m()\u001b[0m\n\u001b[0;32m      9\u001b[0m     \u001b[0mf_start\u001b[0m \u001b[1;33m=\u001b[0m \u001b[0mRsOI\u001b[0m\u001b[1;33m[\u001b[0m\u001b[0mi\u001b[0m\u001b[1;33m]\u001b[0m\u001b[1;33m\u001b[0m\u001b[0m\n\u001b[0;32m     10\u001b[0m     \u001b[0mf_stop\u001b[0m \u001b[1;33m=\u001b[0m \u001b[0mf_start\u001b[0m \u001b[1;33m+\u001b[0m \u001b[1;36m0.3\u001b[0m\u001b[1;33m\u001b[0m\u001b[0m\n\u001b[1;32m---> 11\u001b[1;33m     \u001b[0mfilterbank\u001b[0m \u001b[1;33m=\u001b[0m \u001b[0mWaterfall\u001b[0m\u001b[1;33m(\u001b[0m\u001b[0mchosen_file\u001b[0m\u001b[1;33m,\u001b[0m \u001b[0mf_start\u001b[0m\u001b[1;33m=\u001b[0m\u001b[0mf_start\u001b[0m\u001b[1;33m,\u001b[0m \u001b[0mf_stop\u001b[0m\u001b[1;33m=\u001b[0m\u001b[0mf_stop\u001b[0m\u001b[1;33m,\u001b[0m\u001b[0mt_start\u001b[0m\u001b[1;33m=\u001b[0m\u001b[0mt_start\u001b[0m\u001b[1;33m,\u001b[0m\u001b[0mt_stop\u001b[0m\u001b[1;33m=\u001b[0m\u001b[0mt_stop\u001b[0m\u001b[1;33m)\u001b[0m\u001b[1;33m\u001b[0m\u001b[0m\n\u001b[0m\u001b[0;32m     12\u001b[0m     \u001b[0mplot_f\u001b[0m\u001b[1;33m,\u001b[0m \u001b[0mdata_temp\u001b[0m \u001b[1;33m=\u001b[0m \u001b[0mfilterbank\u001b[0m\u001b[1;33m.\u001b[0m\u001b[0mgrab_data\u001b[0m\u001b[1;33m(\u001b[0m\u001b[1;33m)\u001b[0m\u001b[1;33m\u001b[0m\u001b[0m\n\u001b[0;32m     13\u001b[0m \u001b[1;33m\u001b[0m\u001b[0m\n",
      "\u001b[1;32m~\\AppData\\Local\\Continuum\\anaconda3\\lib\\site-packages\\blimpy\\waterfall.py\u001b[0m in \u001b[0;36m__init__\u001b[1;34m(self, filename, f_start, f_stop, t_start, t_stop, load_data, max_load, header_dict, data_array)\u001b[0m\n\u001b[0;32m    118\u001b[0m             \u001b[0mself\u001b[0m\u001b[1;33m.\u001b[0m\u001b[0mext\u001b[0m \u001b[1;33m=\u001b[0m \u001b[0mos\u001b[0m\u001b[1;33m.\u001b[0m\u001b[0mpath\u001b[0m\u001b[1;33m.\u001b[0m\u001b[0msplitext\u001b[0m\u001b[1;33m(\u001b[0m\u001b[0mfilename\u001b[0m\u001b[1;33m)\u001b[0m\u001b[1;33m[\u001b[0m\u001b[1;33m-\u001b[0m\u001b[1;36m1\u001b[0m\u001b[1;33m]\u001b[0m\u001b[1;33m.\u001b[0m\u001b[0mlower\u001b[0m\u001b[1;33m(\u001b[0m\u001b[1;33m)\u001b[0m\u001b[1;33m\u001b[0m\u001b[0m\n\u001b[0;32m    119\u001b[0m             self.container = fw.open_file(filename, f_start=f_start, f_stop=f_stop, t_start=t_start, t_stop=t_stop,\n\u001b[1;32m--> 120\u001b[1;33m                                           load_data=load_data, max_load=max_load)\n\u001b[0m\u001b[0;32m    121\u001b[0m             \u001b[0mself\u001b[0m\u001b[1;33m.\u001b[0m\u001b[0mfile_header\u001b[0m \u001b[1;33m=\u001b[0m \u001b[0mself\u001b[0m\u001b[1;33m.\u001b[0m\u001b[0mcontainer\u001b[0m\u001b[1;33m.\u001b[0m\u001b[0mheader\u001b[0m\u001b[1;33m\u001b[0m\u001b[0m\n\u001b[0;32m    122\u001b[0m             \u001b[0mself\u001b[0m\u001b[1;33m.\u001b[0m\u001b[0mheader\u001b[0m \u001b[1;33m=\u001b[0m \u001b[0mself\u001b[0m\u001b[1;33m.\u001b[0m\u001b[0mfile_header\u001b[0m\u001b[1;33m\u001b[0m\u001b[0m\n",
      "\u001b[1;32m~\\AppData\\Local\\Continuum\\anaconda3\\lib\\site-packages\\blimpy\\file_wrapper.py\u001b[0m in \u001b[0;36mopen_file\u001b[1;34m(filename, f_start, f_stop, t_start, t_stop, load_data, max_load)\u001b[0m\n\u001b[0;32m    763\u001b[0m         \u001b[1;31m# Open HDF5 file\u001b[0m\u001b[1;33m\u001b[0m\u001b[1;33m\u001b[0m\u001b[0m\n\u001b[0;32m    764\u001b[0m         return H5Reader(filename, f_start=f_start, f_stop=f_stop, t_start=t_start, t_stop=t_stop,\n\u001b[1;32m--> 765\u001b[1;33m                         load_data=load_data, max_load=max_load)\n\u001b[0m\u001b[0;32m    766\u001b[0m     \u001b[1;32melif\u001b[0m \u001b[0msigproc\u001b[0m\u001b[1;33m.\u001b[0m\u001b[0mis_filterbank\u001b[0m\u001b[1;33m(\u001b[0m\u001b[0mfilename\u001b[0m\u001b[1;33m)\u001b[0m\u001b[1;33m:\u001b[0m\u001b[1;33m\u001b[0m\u001b[0m\n\u001b[0;32m    767\u001b[0m         \u001b[1;31m# Open FIL file\u001b[0m\u001b[1;33m\u001b[0m\u001b[1;33m\u001b[0m\u001b[0m\n",
      "\u001b[1;32m~\\AppData\\Local\\Continuum\\anaconda3\\lib\\site-packages\\blimpy\\file_wrapper.py\u001b[0m in \u001b[0;36m__init__\u001b[1;34m(self, filename, f_start, f_stop, t_start, t_stop, load_data, max_load)\u001b[0m\n\u001b[0;32m    369\u001b[0m                             \u001b[0mself\u001b[0m\u001b[1;33m.\u001b[0m\u001b[0m_init_empty_selection\u001b[0m\u001b[1;33m(\u001b[0m\u001b[1;33m)\u001b[0m\u001b[1;33m\u001b[0m\u001b[0m\n\u001b[0;32m    370\u001b[0m                         \u001b[1;32melse\u001b[0m\u001b[1;33m:\u001b[0m\u001b[1;33m\u001b[0m\u001b[0m\n\u001b[1;32m--> 371\u001b[1;33m                             \u001b[0mself\u001b[0m\u001b[1;33m.\u001b[0m\u001b[0mread_data\u001b[0m\u001b[1;33m(\u001b[0m\u001b[1;33m)\u001b[0m\u001b[1;33m\u001b[0m\u001b[0m\n\u001b[0m\u001b[0;32m    372\u001b[0m                     \u001b[1;32melse\u001b[0m\u001b[1;33m:\u001b[0m\u001b[1;33m\u001b[0m\u001b[0m\n\u001b[0;32m    373\u001b[0m                         \u001b[0mlogger\u001b[0m\u001b[1;33m.\u001b[0m\u001b[0mwarning\u001b[0m\u001b[1;33m(\u001b[0m\u001b[1;34m\"The file is of size %.2f GB, exceeding our size limit %.2f GB. Instance created, header loaded, but data not loaded. You could try another (t,v) selection.\"\u001b[0m\u001b[1;33m%\u001b[0m\u001b[1;33m(\u001b[0m\u001b[0mself\u001b[0m\u001b[1;33m.\u001b[0m\u001b[0mfile_size_bytes\u001b[0m\u001b[1;33m/\u001b[0m\u001b[1;33m(\u001b[0m\u001b[1;36m1024.\u001b[0m\u001b[1;33m**\u001b[0m\u001b[1;36m3\u001b[0m\u001b[1;33m)\u001b[0m\u001b[1;33m,\u001b[0m \u001b[0mself\u001b[0m\u001b[1;33m.\u001b[0m\u001b[0mMAX_DATA_ARRAY_SIZE\u001b[0m\u001b[1;33m/\u001b[0m\u001b[1;33m(\u001b[0m\u001b[1;36m1024.\u001b[0m\u001b[1;33m**\u001b[0m\u001b[1;36m3\u001b[0m\u001b[1;33m)\u001b[0m\u001b[1;33m)\u001b[0m\u001b[1;33m)\u001b[0m\u001b[1;33m\u001b[0m\u001b[0m\n",
      "\u001b[1;32m~\\AppData\\Local\\Continuum\\anaconda3\\lib\\site-packages\\blimpy\\file_wrapper.py\u001b[0m in \u001b[0;36mread_data\u001b[1;34m(self, f_start, f_stop, t_start, t_stop)\u001b[0m\n\u001b[0;32m    433\u001b[0m         \u001b[0mself\u001b[0m\u001b[1;33m.\u001b[0m\u001b[0m_setup_freqs\u001b[0m\u001b[1;33m(\u001b[0m\u001b[1;33m)\u001b[0m\u001b[1;33m\u001b[0m\u001b[0m\n\u001b[0;32m    434\u001b[0m \u001b[1;33m\u001b[0m\u001b[0m\n\u001b[1;32m--> 435\u001b[1;33m         \u001b[0mself\u001b[0m\u001b[1;33m.\u001b[0m\u001b[0mdata\u001b[0m \u001b[1;33m=\u001b[0m \u001b[0mself\u001b[0m\u001b[1;33m.\u001b[0m\u001b[0mh5\u001b[0m\u001b[1;33m[\u001b[0m\u001b[1;34m\"data\"\u001b[0m\u001b[1;33m]\u001b[0m\u001b[1;33m[\u001b[0m\u001b[0mself\u001b[0m\u001b[1;33m.\u001b[0m\u001b[0mt_start\u001b[0m\u001b[1;33m:\u001b[0m\u001b[0mself\u001b[0m\u001b[1;33m.\u001b[0m\u001b[0mt_stop\u001b[0m\u001b[1;33m,\u001b[0m\u001b[1;33m:\u001b[0m\u001b[1;33m,\u001b[0m\u001b[0mself\u001b[0m\u001b[1;33m.\u001b[0m\u001b[0mchan_start_idx\u001b[0m\u001b[1;33m:\u001b[0m\u001b[0mself\u001b[0m\u001b[1;33m.\u001b[0m\u001b[0mchan_stop_idx\u001b[0m\u001b[1;33m]\u001b[0m\u001b[1;33m\u001b[0m\u001b[0m\n\u001b[0m\u001b[0;32m    436\u001b[0m \u001b[1;33m\u001b[0m\u001b[0m\n\u001b[0;32m    437\u001b[0m     \u001b[1;32mdef\u001b[0m \u001b[0mread_blob\u001b[0m\u001b[1;33m(\u001b[0m\u001b[0mself\u001b[0m\u001b[1;33m,\u001b[0m\u001b[0mblob_dim\u001b[0m\u001b[1;33m,\u001b[0m\u001b[0mn_blob\u001b[0m\u001b[1;33m=\u001b[0m\u001b[1;36m0\u001b[0m\u001b[1;33m)\u001b[0m\u001b[1;33m:\u001b[0m\u001b[1;33m\u001b[0m\u001b[0m\n",
      "\u001b[1;32mh5py\\_objects.pyx\u001b[0m in \u001b[0;36mh5py._objects.with_phil.wrapper\u001b[1;34m()\u001b[0m\n",
      "\u001b[1;32mh5py\\_objects.pyx\u001b[0m in \u001b[0;36mh5py._objects.with_phil.wrapper\u001b[1;34m()\u001b[0m\n",
      "\u001b[1;32m~\\AppData\\Local\\Continuum\\anaconda3\\lib\\site-packages\\h5py\\_hl\\dataset.py\u001b[0m in \u001b[0;36m__getitem__\u001b[1;34m(self, args)\u001b[0m\n\u001b[0;32m    497\u001b[0m \u001b[1;33m\u001b[0m\u001b[0m\n\u001b[0;32m    498\u001b[0m         \u001b[1;31m# Patch up the output for NumPy\u001b[0m\u001b[1;33m\u001b[0m\u001b[1;33m\u001b[0m\u001b[0m\n\u001b[1;32m--> 499\u001b[1;33m         \u001b[1;32mif\u001b[0m \u001b[0mlen\u001b[0m\u001b[1;33m(\u001b[0m\u001b[0mnames\u001b[0m\u001b[1;33m)\u001b[0m \u001b[1;33m==\u001b[0m \u001b[1;36m1\u001b[0m\u001b[1;33m:\u001b[0m\u001b[1;33m\u001b[0m\u001b[0m\n\u001b[0m\u001b[0;32m    500\u001b[0m             \u001b[0marr\u001b[0m \u001b[1;33m=\u001b[0m \u001b[0marr\u001b[0m\u001b[1;33m[\u001b[0m\u001b[0mnames\u001b[0m\u001b[1;33m[\u001b[0m\u001b[1;36m0\u001b[0m\u001b[1;33m]\u001b[0m\u001b[1;33m]\u001b[0m     \u001b[1;31m# Single-field recarray convention\u001b[0m\u001b[1;33m\u001b[0m\u001b[0m\n\u001b[0;32m    501\u001b[0m         \u001b[1;32mif\u001b[0m \u001b[0marr\u001b[0m\u001b[1;33m.\u001b[0m\u001b[0mshape\u001b[0m \u001b[1;33m==\u001b[0m \u001b[1;33m(\u001b[0m\u001b[1;33m)\u001b[0m\u001b[1;33m:\u001b[0m\u001b[1;33m\u001b[0m\u001b[0m\n",
      "\u001b[1;31mKeyboardInterrupt\u001b[0m: "
     ]
    },
    {
     "data": {
      "text/plain": [
       "<matplotlib.figure.Figure at 0x20b24619a20>"
      ]
     },
     "metadata": {},
     "output_type": "display_data"
    },
    {
     "data": {
      "text/plain": [
       "<matplotlib.figure.Figure at 0x20b240ce400>"
      ]
     },
     "metadata": {},
     "output_type": "display_data"
    },
    {
     "data": {
      "text/plain": [
       "<matplotlib.figure.Figure at 0x20b240ce860>"
      ]
     },
     "metadata": {},
     "output_type": "display_data"
    },
    {
     "data": {
      "text/plain": [
       "<matplotlib.figure.Figure at 0x20b2487bba8>"
      ]
     },
     "metadata": {},
     "output_type": "display_data"
    },
    {
     "data": {
      "text/plain": [
       "<matplotlib.figure.Figure at 0x20b24b88358>"
      ]
     },
     "metadata": {},
     "output_type": "display_data"
    },
    {
     "data": {
      "text/plain": [
       "<matplotlib.figure.Figure at 0x20b24b88dd8>"
      ]
     },
     "metadata": {},
     "output_type": "display_data"
    },
    {
     "data": {
      "text/plain": [
       "<matplotlib.figure.Figure at 0x20b241357b8>"
      ]
     },
     "metadata": {},
     "output_type": "display_data"
    },
    {
     "data": {
      "text/plain": [
       "<matplotlib.figure.Figure at 0x20b246d4da0>"
      ]
     },
     "metadata": {},
     "output_type": "display_data"
    },
    {
     "data": {
      "text/plain": [
       "<matplotlib.figure.Figure at 0x20b2419b438>"
      ]
     },
     "metadata": {},
     "output_type": "display_data"
    },
    {
     "data": {
      "text/plain": [
       "<matplotlib.figure.Figure at 0x20b245c65f8>"
      ]
     },
     "metadata": {},
     "output_type": "display_data"
    },
    {
     "data": {
      "text/plain": [
       "<matplotlib.figure.Figure at 0x20b245eaf60>"
      ]
     },
     "metadata": {},
     "output_type": "display_data"
    },
    {
     "data": {
      "text/plain": [
       "<matplotlib.figure.Figure at 0x20b245c2eb8>"
      ]
     },
     "metadata": {},
     "output_type": "display_data"
    },
    {
     "data": {
      "text/plain": [
       "<matplotlib.figure.Figure at 0x20b24870710>"
      ]
     },
     "metadata": {},
     "output_type": "display_data"
    },
    {
     "data": {
      "text/plain": [
       "<matplotlib.figure.Figure at 0x20b24664160>"
      ]
     },
     "metadata": {},
     "output_type": "display_data"
    },
    {
     "data": {
      "text/plain": [
       "<matplotlib.figure.Figure at 0x20b24677c18>"
      ]
     },
     "metadata": {},
     "output_type": "display_data"
    },
    {
     "data": {
      "text/plain": [
       "<matplotlib.figure.Figure at 0x20b2482db00>"
      ]
     },
     "metadata": {},
     "output_type": "display_data"
    },
    {
     "data": {
      "text/plain": [
       "<matplotlib.figure.Figure at 0x20b2461a320>"
      ]
     },
     "metadata": {},
     "output_type": "display_data"
    },
    {
     "data": {
      "text/plain": [
       "<matplotlib.figure.Figure at 0x20b248107b8>"
      ]
     },
     "metadata": {},
     "output_type": "display_data"
    },
    {
     "data": {
      "text/plain": [
       "<matplotlib.figure.Figure at 0x20b24432470>"
      ]
     },
     "metadata": {},
     "output_type": "display_data"
    },
    {
     "data": {
      "text/plain": [
       "<matplotlib.figure.Figure at 0x20b247314e0>"
      ]
     },
     "metadata": {},
     "output_type": "display_data"
    },
    {
     "data": {
      "text/plain": [
       "<matplotlib.figure.Figure at 0x20b24604ac8>"
      ]
     },
     "metadata": {},
     "output_type": "display_data"
    },
    {
     "data": {
      "text/plain": [
       "<matplotlib.figure.Figure at 0x20b2468b390>"
      ]
     },
     "metadata": {},
     "output_type": "display_data"
    },
    {
     "data": {
      "text/plain": [
       "<matplotlib.figure.Figure at 0x20b247c6780>"
      ]
     },
     "metadata": {},
     "output_type": "display_data"
    },
    {
     "data": {
      "text/plain": [
       "<matplotlib.figure.Figure at 0x20b2469da90>"
      ]
     },
     "metadata": {},
     "output_type": "display_data"
    },
    {
     "data": {
      "text/plain": [
       "<matplotlib.figure.Figure at 0x20b243c5860>"
      ]
     },
     "metadata": {},
     "output_type": "display_data"
    },
    {
     "data": {
      "text/plain": [
       "<matplotlib.figure.Figure at 0x20b2477f470>"
      ]
     },
     "metadata": {},
     "output_type": "display_data"
    },
    {
     "data": {
      "text/plain": [
       "<matplotlib.figure.Figure at 0x20b247faf60>"
      ]
     },
     "metadata": {},
     "output_type": "display_data"
    },
    {
     "data": {
      "text/plain": [
       "<matplotlib.figure.Figure at 0x20b247a6b38>"
      ]
     },
     "metadata": {},
     "output_type": "display_data"
    },
    {
     "data": {
      "text/plain": [
       "<matplotlib.figure.Figure at 0x20b24781a20>"
      ]
     },
     "metadata": {},
     "output_type": "display_data"
    },
    {
     "data": {
      "text/plain": [
       "<matplotlib.figure.Figure at 0x20b2479a198>"
      ]
     },
     "metadata": {},
     "output_type": "display_data"
    },
    {
     "data": {
      "text/plain": [
       "<matplotlib.figure.Figure at 0x20b247d8d30>"
      ]
     },
     "metadata": {},
     "output_type": "display_data"
    },
    {
     "data": {
      "text/plain": [
       "<matplotlib.figure.Figure at 0x20b246d4fd0>"
      ]
     },
     "metadata": {},
     "output_type": "display_data"
    },
    {
     "data": {
      "text/plain": [
       "<matplotlib.figure.Figure at 0x20b242babe0>"
      ]
     },
     "metadata": {},
     "output_type": "display_data"
    },
    {
     "data": {
      "text/plain": [
       "<matplotlib.figure.Figure at 0x20b2461ab70>"
      ]
     },
     "metadata": {},
     "output_type": "display_data"
    },
    {
     "data": {
      "text/plain": [
       "<matplotlib.figure.Figure at 0x20b243804a8>"
      ]
     },
     "metadata": {},
     "output_type": "display_data"
    },
    {
     "data": {
      "text/plain": [
       "<matplotlib.figure.Figure at 0x20b24335470>"
      ]
     },
     "metadata": {},
     "output_type": "display_data"
    },
    {
     "data": {
      "text/plain": [
       "<matplotlib.figure.Figure at 0x20b2482fd30>"
      ]
     },
     "metadata": {},
     "output_type": "display_data"
    },
    {
     "data": {
      "text/plain": [
       "<matplotlib.figure.Figure at 0x20b243d13c8>"
      ]
     },
     "metadata": {},
     "output_type": "display_data"
    },
    {
     "data": {
      "text/plain": [
       "<matplotlib.figure.Figure at 0x20b24bc6b70>"
      ]
     },
     "metadata": {},
     "output_type": "display_data"
    },
    {
     "data": {
      "text/plain": [
       "<matplotlib.figure.Figure at 0x20b23f32da0>"
      ]
     },
     "metadata": {},
     "output_type": "display_data"
    },
    {
     "data": {
      "text/plain": [
       "<matplotlib.figure.Figure at 0x20b24bb6400>"
      ]
     },
     "metadata": {},
     "output_type": "display_data"
    },
    {
     "data": {
      "text/plain": [
       "<matplotlib.figure.Figure at 0x20b24bb6048>"
      ]
     },
     "metadata": {},
     "output_type": "display_data"
    },
    {
     "data": {
      "text/plain": [
       "<matplotlib.figure.Figure at 0x20b246c71d0>"
      ]
     },
     "metadata": {},
     "output_type": "display_data"
    },
    {
     "data": {
      "text/plain": [
       "<matplotlib.figure.Figure at 0x20b2436dc50>"
      ]
     },
     "metadata": {},
     "output_type": "display_data"
    },
    {
     "data": {
      "text/plain": [
       "<matplotlib.figure.Figure at 0x20b242c3ba8>"
      ]
     },
     "metadata": {},
     "output_type": "display_data"
    },
    {
     "data": {
      "text/plain": [
       "<matplotlib.figure.Figure at 0x20b246d27b8>"
      ]
     },
     "metadata": {},
     "output_type": "display_data"
    },
    {
     "data": {
      "text/plain": [
       "<matplotlib.figure.Figure at 0x20b24273fd0>"
      ]
     },
     "metadata": {},
     "output_type": "display_data"
    },
    {
     "data": {
      "text/plain": [
       "<matplotlib.figure.Figure at 0x20b245c6be0>"
      ]
     },
     "metadata": {},
     "output_type": "display_data"
    },
    {
     "data": {
      "text/plain": [
       "<matplotlib.figure.Figure at 0x20b247f8e80>"
      ]
     },
     "metadata": {},
     "output_type": "display_data"
    },
    {
     "data": {
      "text/plain": [
       "<matplotlib.figure.Figure at 0x20b2427e0f0>"
      ]
     },
     "metadata": {},
     "output_type": "display_data"
    },
    {
     "data": {
      "text/plain": [
       "<matplotlib.figure.Figure at 0x20b243dc2b0>"
      ]
     },
     "metadata": {},
     "output_type": "display_data"
    },
    {
     "data": {
      "text/plain": [
       "<matplotlib.figure.Figure at 0x20b24135e80>"
      ]
     },
     "metadata": {},
     "output_type": "display_data"
    },
    {
     "data": {
      "text/plain": [
       "<matplotlib.figure.Figure at 0x20b245c74a8>"
      ]
     },
     "metadata": {},
     "output_type": "display_data"
    },
    {
     "data": {
      "text/plain": [
       "<matplotlib.figure.Figure at 0x20b2457a550>"
      ]
     },
     "metadata": {},
     "output_type": "display_data"
    },
    {
     "data": {
      "text/plain": [
       "<matplotlib.figure.Figure at 0x20b2457a6a0>"
      ]
     },
     "metadata": {},
     "output_type": "display_data"
    },
    {
     "data": {
      "text/plain": [
       "<matplotlib.figure.Figure at 0x20b2483a748>"
      ]
     },
     "metadata": {},
     "output_type": "display_data"
    },
    {
     "data": {
      "text/plain": [
       "<matplotlib.figure.Figure at 0x20b2483a898>"
      ]
     },
     "metadata": {},
     "output_type": "display_data"
    },
    {
     "data": {
      "text/plain": [
       "<matplotlib.figure.Figure at 0x20b24135668>"
      ]
     },
     "metadata": {},
     "output_type": "display_data"
    },
    {
     "data": {
      "text/plain": [
       "<matplotlib.figure.Figure at 0x20b24322278>"
      ]
     },
     "metadata": {},
     "output_type": "display_data"
    },
    {
     "data": {
      "text/plain": [
       "<matplotlib.figure.Figure at 0x20b24617198>"
      ]
     },
     "metadata": {},
     "output_type": "display_data"
    },
    {
     "data": {
      "text/plain": [
       "<matplotlib.figure.Figure at 0x20b24581588>"
      ]
     },
     "metadata": {},
     "output_type": "display_data"
    },
    {
     "data": {
      "text/plain": [
       "<matplotlib.figure.Figure at 0x20b24bb3438>"
      ]
     },
     "metadata": {},
     "output_type": "display_data"
    },
    {
     "data": {
      "text/plain": [
       "<matplotlib.figure.Figure at 0x20b24394c50>"
      ]
     },
     "metadata": {},
     "output_type": "display_data"
    },
    {
     "data": {
      "text/plain": [
       "<matplotlib.figure.Figure at 0x20b2479c470>"
      ]
     },
     "metadata": {},
     "output_type": "display_data"
    },
    {
     "data": {
      "text/plain": [
       "<matplotlib.figure.Figure at 0x20b245f83c8>"
      ]
     },
     "metadata": {},
     "output_type": "display_data"
    },
    {
     "data": {
      "text/plain": [
       "<matplotlib.figure.Figure at 0x20b241ff9b0>"
      ]
     },
     "metadata": {},
     "output_type": "display_data"
    },
    {
     "data": {
      "text/plain": [
       "<matplotlib.figure.Figure at 0x20b24714eb8>"
      ]
     },
     "metadata": {},
     "output_type": "display_data"
    },
    {
     "data": {
      "text/plain": [
       "<matplotlib.figure.Figure at 0x20b23f39780>"
      ]
     },
     "metadata": {},
     "output_type": "display_data"
    },
    {
     "data": {
      "text/plain": [
       "<matplotlib.figure.Figure at 0x20b247784a8>"
      ]
     },
     "metadata": {},
     "output_type": "display_data"
    },
    {
     "data": {
      "text/plain": [
       "<matplotlib.figure.Figure at 0x20b24417ef0>"
      ]
     },
     "metadata": {},
     "output_type": "display_data"
    },
    {
     "data": {
      "text/plain": [
       "<matplotlib.figure.Figure at 0x20b246a08d0>"
      ]
     },
     "metadata": {},
     "output_type": "display_data"
    },
    {
     "data": {
      "text/plain": [
       "<matplotlib.figure.Figure at 0x20b247aa9b0>"
      ]
     },
     "metadata": {},
     "output_type": "display_data"
    },
    {
     "data": {
      "text/plain": [
       "<matplotlib.figure.Figure at 0x20b241728d0>"
      ]
     },
     "metadata": {},
     "output_type": "display_data"
    },
    {
     "data": {
      "text/plain": [
       "<matplotlib.figure.Figure at 0x20b24094898>"
      ]
     },
     "metadata": {},
     "output_type": "display_data"
    },
    {
     "data": {
      "text/plain": [
       "<matplotlib.figure.Figure at 0x20b241c32e8>"
      ]
     },
     "metadata": {},
     "output_type": "display_data"
    },
    {
     "data": {
      "text/plain": [
       "<matplotlib.figure.Figure at 0x20b240fbd30>"
      ]
     },
     "metadata": {},
     "output_type": "display_data"
    },
    {
     "data": {
      "text/plain": [
       "<matplotlib.figure.Figure at 0x20b24176940>"
      ]
     },
     "metadata": {},
     "output_type": "display_data"
    },
    {
     "data": {
      "text/plain": [
       "<matplotlib.figure.Figure at 0x20b247dcfd0>"
      ]
     },
     "metadata": {},
     "output_type": "display_data"
    },
    {
     "data": {
      "text/plain": [
       "<matplotlib.figure.Figure at 0x20b24198358>"
      ]
     },
     "metadata": {},
     "output_type": "display_data"
    },
    {
     "data": {
      "text/plain": [
       "<matplotlib.figure.Figure at 0x20b2437bbe0>"
      ]
     },
     "metadata": {},
     "output_type": "display_data"
    },
    {
     "data": {
      "text/plain": [
       "<matplotlib.figure.Figure at 0x20b240ae8d0>"
      ]
     },
     "metadata": {},
     "output_type": "display_data"
    },
    {
     "data": {
      "text/plain": [
       "<matplotlib.figure.Figure at 0x20b240ae240>"
      ]
     },
     "metadata": {},
     "output_type": "display_data"
    },
    {
     "data": {
      "text/plain": [
       "<matplotlib.figure.Figure at 0x20b24417860>"
      ]
     },
     "metadata": {},
     "output_type": "display_data"
    },
    {
     "data": {
      "text/plain": [
       "<matplotlib.figure.Figure at 0x20b245c2cf8>"
      ]
     },
     "metadata": {},
     "output_type": "display_data"
    },
    {
     "data": {
      "text/plain": [
       "<matplotlib.figure.Figure at 0x20b246e1208>"
      ]
     },
     "metadata": {},
     "output_type": "display_data"
    },
    {
     "data": {
      "text/plain": [
       "<matplotlib.figure.Figure at 0x20b243d8710>"
      ]
     },
     "metadata": {},
     "output_type": "display_data"
    },
    {
     "data": {
      "text/plain": [
       "<matplotlib.figure.Figure at 0x20b23ee5278>"
      ]
     },
     "metadata": {},
     "output_type": "display_data"
    },
    {
     "data": {
      "text/plain": [
       "<matplotlib.figure.Figure at 0x20b23ee5908>"
      ]
     },
     "metadata": {},
     "output_type": "display_data"
    },
    {
     "data": {
      "text/plain": [
       "<matplotlib.figure.Figure at 0x20b245c6d30>"
      ]
     },
     "metadata": {},
     "output_type": "display_data"
    },
    {
     "data": {
      "text/plain": [
       "<matplotlib.figure.Figure at 0x20b24772080>"
      ]
     },
     "metadata": {},
     "output_type": "display_data"
    },
    {
     "data": {
      "text/plain": [
       "<matplotlib.figure.Figure at 0x20b23f39128>"
      ]
     },
     "metadata": {},
     "output_type": "display_data"
    },
    {
     "data": {
      "text/plain": [
       "<matplotlib.figure.Figure at 0x20b246c70b8>"
      ]
     },
     "metadata": {},
     "output_type": "display_data"
    },
    {
     "data": {
      "text/plain": [
       "<matplotlib.figure.Figure at 0x20b24bb6f60>"
      ]
     },
     "metadata": {},
     "output_type": "display_data"
    },
    {
     "data": {
      "text/plain": [
       "<matplotlib.figure.Figure at 0x20b24810780>"
      ]
     },
     "metadata": {},
     "output_type": "display_data"
    },
    {
     "data": {
      "text/plain": [
       "<matplotlib.figure.Figure at 0x20b23f72470>"
      ]
     },
     "metadata": {},
     "output_type": "display_data"
    },
    {
     "data": {
      "text/plain": [
       "<matplotlib.figure.Figure at 0x20b23f72e10>"
      ]
     },
     "metadata": {},
     "output_type": "display_data"
    },
    {
     "data": {
      "text/plain": [
       "<matplotlib.figure.Figure at 0x20b2470bda0>"
      ]
     },
     "metadata": {},
     "output_type": "display_data"
    },
    {
     "data": {
      "text/plain": [
       "<matplotlib.figure.Figure at 0x20b2419b358>"
      ]
     },
     "metadata": {},
     "output_type": "display_data"
    },
    {
     "data": {
      "text/plain": [
       "<matplotlib.figure.Figure at 0x20b24b3d978>"
      ]
     },
     "metadata": {},
     "output_type": "display_data"
    },
    {
     "data": {
      "text/plain": [
       "<matplotlib.figure.Figure at 0x20b241ffba8>"
      ]
     },
     "metadata": {},
     "output_type": "display_data"
    },
    {
     "data": {
      "text/plain": [
       "<matplotlib.figure.Figure at 0x20b2479add8>"
      ]
     },
     "metadata": {},
     "output_type": "display_data"
    },
    {
     "data": {
      "text/plain": [
       "<matplotlib.figure.Figure at 0x20b2479ab70>"
      ]
     },
     "metadata": {},
     "output_type": "display_data"
    },
    {
     "data": {
      "text/plain": [
       "<matplotlib.figure.Figure at 0x20b2474d1d0>"
      ]
     },
     "metadata": {},
     "output_type": "display_data"
    },
    {
     "data": {
      "text/plain": [
       "<matplotlib.figure.Figure at 0x20b23f0c668>"
      ]
     },
     "metadata": {},
     "output_type": "display_data"
    },
    {
     "data": {
      "text/plain": [
       "<matplotlib.figure.Figure at 0x20b241ff2b0>"
      ]
     },
     "metadata": {},
     "output_type": "display_data"
    },
    {
     "data": {
      "text/plain": [
       "<matplotlib.figure.Figure at 0x20b241ffda0>"
      ]
     },
     "metadata": {},
     "output_type": "display_data"
    },
    {
     "data": {
      "text/plain": [
       "<matplotlib.figure.Figure at 0x20b248108d0>"
      ]
     },
     "metadata": {},
     "output_type": "display_data"
    },
    {
     "data": {
      "text/plain": [
       "<matplotlib.figure.Figure at 0x20b2480c0b8>"
      ]
     },
     "metadata": {},
     "output_type": "display_data"
    },
    {
     "data": {
      "text/plain": [
       "<matplotlib.figure.Figure at 0x20b24635278>"
      ]
     },
     "metadata": {},
     "output_type": "display_data"
    },
    {
     "data": {
      "text/plain": [
       "<matplotlib.figure.Figure at 0x20b241a15c0>"
      ]
     },
     "metadata": {},
     "output_type": "display_data"
    },
    {
     "data": {
      "text/plain": [
       "<matplotlib.figure.Figure at 0x20b2472eac8>"
      ]
     },
     "metadata": {},
     "output_type": "display_data"
    },
    {
     "data": {
      "text/plain": [
       "<matplotlib.figure.Figure at 0x20b240945c0>"
      ]
     },
     "metadata": {},
     "output_type": "display_data"
    },
    {
     "data": {
      "text/plain": [
       "<matplotlib.figure.Figure at 0x20b24882240>"
      ]
     },
     "metadata": {},
     "output_type": "display_data"
    },
    {
     "data": {
      "text/plain": [
       "<matplotlib.figure.Figure at 0x20b248826d8>"
      ]
     },
     "metadata": {},
     "output_type": "display_data"
    },
    {
     "data": {
      "text/plain": [
       "<matplotlib.figure.Figure at 0x20b247ccb70>"
      ]
     },
     "metadata": {},
     "output_type": "display_data"
    },
    {
     "data": {
      "text/plain": [
       "<matplotlib.figure.Figure at 0x20b248f3940>"
      ]
     },
     "metadata": {},
     "output_type": "display_data"
    },
    {
     "data": {
      "text/plain": [
       "<matplotlib.figure.Figure at 0x20b248f3898>"
      ]
     },
     "metadata": {},
     "output_type": "display_data"
    },
    {
     "data": {
      "text/plain": [
       "<matplotlib.figure.Figure at 0x20b24788a58>"
      ]
     },
     "metadata": {},
     "output_type": "display_data"
    },
    {
     "data": {
      "text/plain": [
       "<matplotlib.figure.Figure at 0x20b249336a0>"
      ]
     },
     "metadata": {},
     "output_type": "display_data"
    },
    {
     "data": {
      "text/plain": [
       "<matplotlib.figure.Figure at 0x20b24947320>"
      ]
     },
     "metadata": {},
     "output_type": "display_data"
    },
    {
     "data": {
      "text/plain": [
       "<matplotlib.figure.Figure at 0x20b24919be0>"
      ]
     },
     "metadata": {},
     "output_type": "display_data"
    },
    {
     "data": {
      "text/plain": [
       "<matplotlib.figure.Figure at 0x20b24988208>"
      ]
     },
     "metadata": {},
     "output_type": "display_data"
    },
    {
     "data": {
      "text/plain": [
       "<matplotlib.figure.Figure at 0x20b2496f9e8>"
      ]
     },
     "metadata": {},
     "output_type": "display_data"
    },
    {
     "data": {
      "text/plain": [
       "<matplotlib.figure.Figure at 0x20b24613da0>"
      ]
     },
     "metadata": {},
     "output_type": "display_data"
    },
    {
     "data": {
      "text/plain": [
       "<matplotlib.figure.Figure at 0x20b249d1cc0>"
      ]
     },
     "metadata": {},
     "output_type": "display_data"
    },
    {
     "data": {
      "text/plain": [
       "<matplotlib.figure.Figure at 0x20b249e89b0>"
      ]
     },
     "metadata": {},
     "output_type": "display_data"
    },
    {
     "data": {
      "text/plain": [
       "<matplotlib.figure.Figure at 0x20b2496f4e0>"
      ]
     },
     "metadata": {},
     "output_type": "display_data"
    },
    {
     "data": {
      "text/plain": [
       "<matplotlib.figure.Figure at 0x20b241f9898>"
      ]
     },
     "metadata": {},
     "output_type": "display_data"
    },
    {
     "data": {
      "text/plain": [
       "<matplotlib.figure.Figure at 0x20b2480cdd8>"
      ]
     },
     "metadata": {},
     "output_type": "display_data"
    },
    {
     "data": {
      "text/plain": [
       "<matplotlib.figure.Figure at 0x20b243b4b70>"
      ]
     },
     "metadata": {},
     "output_type": "display_data"
    },
    {
     "data": {
      "text/plain": [
       "<matplotlib.figure.Figure at 0x20b2439e898>"
      ]
     },
     "metadata": {},
     "output_type": "display_data"
    },
    {
     "data": {
      "text/plain": [
       "<matplotlib.figure.Figure at 0x20b2436d390>"
      ]
     },
     "metadata": {},
     "output_type": "display_data"
    },
    {
     "data": {
      "text/plain": [
       "<matplotlib.figure.Figure at 0x20b24947470>"
      ]
     },
     "metadata": {},
     "output_type": "display_data"
    },
    {
     "data": {
      "text/plain": [
       "<matplotlib.figure.Figure at 0x20b23f72f28>"
      ]
     },
     "metadata": {},
     "output_type": "display_data"
    },
    {
     "data": {
      "text/plain": [
       "<matplotlib.figure.Figure at 0x20b242fd278>"
      ]
     },
     "metadata": {},
     "output_type": "display_data"
    },
    {
     "data": {
      "text/plain": [
       "<matplotlib.figure.Figure at 0x20b248f3208>"
      ]
     },
     "metadata": {},
     "output_type": "display_data"
    },
    {
     "data": {
      "text/plain": [
       "<matplotlib.figure.Figure at 0x20b24bb6b00>"
      ]
     },
     "metadata": {},
     "output_type": "display_data"
    },
    {
     "data": {
      "text/plain": [
       "<matplotlib.figure.Figure at 0x20b2446ada0>"
      ]
     },
     "metadata": {},
     "output_type": "display_data"
    },
    {
     "data": {
      "text/plain": [
       "<matplotlib.figure.Figure at 0x20b24b34ac8>"
      ]
     },
     "metadata": {},
     "output_type": "display_data"
    },
    {
     "data": {
      "text/plain": [
       "<matplotlib.figure.Figure at 0x20b246acdd8>"
      ]
     },
     "metadata": {},
     "output_type": "display_data"
    },
    {
     "data": {
      "text/plain": [
       "<matplotlib.figure.Figure at 0x20b246ac7f0>"
      ]
     },
     "metadata": {},
     "output_type": "display_data"
    },
    {
     "data": {
      "text/plain": [
       "<matplotlib.figure.Figure at 0x20b2468bb38>"
      ]
     },
     "metadata": {},
     "output_type": "display_data"
    },
    {
     "data": {
      "text/plain": [
       "<matplotlib.figure.Figure at 0x20b24416ef0>"
      ]
     },
     "metadata": {},
     "output_type": "display_data"
    },
    {
     "data": {
      "text/plain": [
       "<matplotlib.figure.Figure at 0x20b24711c88>"
      ]
     },
     "metadata": {},
     "output_type": "display_data"
    },
    {
     "data": {
      "text/plain": [
       "<matplotlib.figure.Figure at 0x20b2472eb38>"
      ]
     },
     "metadata": {},
     "output_type": "display_data"
    },
    {
     "data": {
      "text/plain": [
       "<matplotlib.figure.Figure at 0x20b240ae940>"
      ]
     },
     "metadata": {},
     "output_type": "display_data"
    },
    {
     "data": {
      "text/plain": [
       "<matplotlib.figure.Figure at 0x20b240fbbe0>"
      ]
     },
     "metadata": {},
     "output_type": "display_data"
    },
    {
     "data": {
      "text/plain": [
       "<matplotlib.figure.Figure at 0x20b2427e588>"
      ]
     },
     "metadata": {},
     "output_type": "display_data"
    },
    {
     "data": {
      "text/plain": [
       "<matplotlib.figure.Figure at 0x20b243c5898>"
      ]
     },
     "metadata": {},
     "output_type": "display_data"
    },
    {
     "data": {
      "text/plain": [
       "<matplotlib.figure.Figure at 0x20b243c5550>"
      ]
     },
     "metadata": {},
     "output_type": "display_data"
    },
    {
     "data": {
      "text/plain": [
       "<matplotlib.figure.Figure at 0x20b24394f60>"
      ]
     },
     "metadata": {},
     "output_type": "display_data"
    },
    {
     "data": {
      "text/plain": [
       "<matplotlib.figure.Figure at 0x20b246356a0>"
      ]
     },
     "metadata": {},
     "output_type": "display_data"
    },
    {
     "data": {
      "text/plain": [
       "<matplotlib.figure.Figure at 0x20b24bc6e10>"
      ]
     },
     "metadata": {},
     "output_type": "display_data"
    },
    {
     "data": {
      "text/plain": [
       "<matplotlib.figure.Figure at 0x20b247c2828>"
      ]
     },
     "metadata": {},
     "output_type": "display_data"
    },
    {
     "data": {
      "text/plain": [
       "<matplotlib.figure.Figure at 0x20b2493f128>"
      ]
     },
     "metadata": {},
     "output_type": "display_data"
    },
    {
     "data": {
      "text/plain": [
       "<matplotlib.figure.Figure at 0x20b2493f978>"
      ]
     },
     "metadata": {},
     "output_type": "display_data"
    },
    {
     "data": {
      "text/plain": [
       "<matplotlib.figure.Figure at 0x20b2464ac88>"
      ]
     },
     "metadata": {},
     "output_type": "display_data"
    },
    {
     "data": {
      "text/plain": [
       "<matplotlib.figure.Figure at 0x20b249acd30>"
      ]
     },
     "metadata": {},
     "output_type": "display_data"
    },
    {
     "data": {
      "text/plain": [
       "<matplotlib.figure.Figure at 0x20b24089828>"
      ]
     },
     "metadata": {},
     "output_type": "display_data"
    },
    {
     "data": {
      "text/plain": [
       "<matplotlib.figure.Figure at 0x20b248bffd0>"
      ]
     },
     "metadata": {},
     "output_type": "display_data"
    },
    {
     "data": {
      "text/plain": [
       "<matplotlib.figure.Figure at 0x20b24a27588>"
      ]
     },
     "metadata": {},
     "output_type": "display_data"
    },
    {
     "data": {
      "text/plain": [
       "<matplotlib.figure.Figure at 0x20b24a32a20>"
      ]
     },
     "metadata": {},
     "output_type": "display_data"
    },
    {
     "data": {
      "text/plain": [
       "<matplotlib.figure.Figure at 0x20b24172828>"
      ]
     },
     "metadata": {},
     "output_type": "display_data"
    },
    {
     "data": {
      "text/plain": [
       "<matplotlib.figure.Figure at 0x20b24a7e320>"
      ]
     },
     "metadata": {},
     "output_type": "display_data"
    },
    {
     "data": {
      "text/plain": [
       "<matplotlib.figure.Figure at 0x20b24a7e278>"
      ]
     },
     "metadata": {},
     "output_type": "display_data"
    },
    {
     "data": {
      "text/plain": [
       "<matplotlib.figure.Figure at 0x20b248bf2b0>"
      ]
     },
     "metadata": {},
     "output_type": "display_data"
    },
    {
     "data": {
      "text/plain": [
       "<matplotlib.figure.Figure at 0x20b24ad20b8>"
      ]
     },
     "metadata": {},
     "output_type": "display_data"
    },
    {
     "data": {
      "text/plain": [
       "<matplotlib.figure.Figure at 0x20b24ada278>"
      ]
     },
     "metadata": {},
     "output_type": "display_data"
    },
    {
     "data": {
      "text/plain": [
       "<matplotlib.figure.Figure at 0x20b24aefa20>"
      ]
     },
     "metadata": {},
     "output_type": "display_data"
    },
    {
     "data": {
      "text/plain": [
       "<matplotlib.figure.Figure at 0x20b2438d7f0>"
      ]
     },
     "metadata": {},
     "output_type": "display_data"
    },
    {
     "data": {
      "text/plain": [
       "<matplotlib.figure.Figure at 0x20b2479c400>"
      ]
     },
     "metadata": {},
     "output_type": "display_data"
    },
    {
     "data": {
      "text/plain": [
       "<matplotlib.figure.Figure at 0x20b24bc6400>"
      ]
     },
     "metadata": {},
     "output_type": "display_data"
    },
    {
     "data": {
      "text/plain": [
       "<matplotlib.figure.Figure at 0x20b24380c50>"
      ]
     },
     "metadata": {},
     "output_type": "display_data"
    },
    {
     "data": {
      "text/plain": [
       "<matplotlib.figure.Figure at 0x20b240d7cf8>"
      ]
     },
     "metadata": {},
     "output_type": "display_data"
    },
    {
     "data": {
      "text/plain": [
       "<matplotlib.figure.Figure at 0x20b24380550>"
      ]
     },
     "metadata": {},
     "output_type": "display_data"
    },
    {
     "data": {
      "text/plain": [
       "<matplotlib.figure.Figure at 0x20b240daa20>"
      ]
     },
     "metadata": {},
     "output_type": "display_data"
    },
    {
     "data": {
      "text/plain": [
       "<matplotlib.figure.Figure at 0x20b248b8780>"
      ]
     },
     "metadata": {},
     "output_type": "display_data"
    },
    {
     "data": {
      "text/plain": [
       "<matplotlib.figure.Figure at 0x20b2472e160>"
      ]
     },
     "metadata": {},
     "output_type": "display_data"
    },
    {
     "data": {
      "text/plain": [
       "<matplotlib.figure.Figure at 0x20b243dce10>"
      ]
     },
     "metadata": {},
     "output_type": "display_data"
    },
    {
     "data": {
      "text/plain": [
       "<matplotlib.figure.Figure at 0x20b245c6320>"
      ]
     },
     "metadata": {},
     "output_type": "display_data"
    },
    {
     "data": {
      "text/plain": [
       "<matplotlib.figure.Figure at 0x20b248fc6a0>"
      ]
     },
     "metadata": {},
     "output_type": "display_data"
    },
    {
     "data": {
      "text/plain": [
       "<matplotlib.figure.Figure at 0x20b24432048>"
      ]
     },
     "metadata": {},
     "output_type": "display_data"
    },
    {
     "data": {
      "text/plain": [
       "<matplotlib.figure.Figure at 0x20b2434e908>"
      ]
     },
     "metadata": {},
     "output_type": "display_data"
    },
    {
     "data": {
      "text/plain": [
       "<matplotlib.figure.Figure at 0x20b24b93cf8>"
      ]
     },
     "metadata": {},
     "output_type": "display_data"
    },
    {
     "data": {
      "text/plain": [
       "<matplotlib.figure.Figure at 0x20b2406fd30>"
      ]
     },
     "metadata": {},
     "output_type": "display_data"
    },
    {
     "data": {
      "text/plain": [
       "<matplotlib.figure.Figure at 0x20b2406feb8>"
      ]
     },
     "metadata": {},
     "output_type": "display_data"
    },
    {
     "data": {
      "text/plain": [
       "<matplotlib.figure.Figure at 0x20b2439eb38>"
      ]
     },
     "metadata": {},
     "output_type": "display_data"
    },
    {
     "data": {
      "text/plain": [
       "<matplotlib.figure.Figure at 0x20b241b75f8>"
      ]
     },
     "metadata": {},
     "output_type": "display_data"
    },
    {
     "data": {
      "text/plain": [
       "<matplotlib.figure.Figure at 0x20b23f0c7f0>"
      ]
     },
     "metadata": {},
     "output_type": "display_data"
    },
    {
     "data": {
      "text/plain": [
       "<matplotlib.figure.Figure at 0x20b2480cb00>"
      ]
     },
     "metadata": {},
     "output_type": "display_data"
    },
    {
     "data": {
      "text/plain": [
       "<matplotlib.figure.Figure at 0x20b24a362e8>"
      ]
     },
     "metadata": {},
     "output_type": "display_data"
    },
    {
     "data": {
      "text/plain": [
       "<matplotlib.figure.Figure at 0x20b24b882e8>"
      ]
     },
     "metadata": {},
     "output_type": "display_data"
    },
    {
     "data": {
      "text/plain": [
       "<matplotlib.figure.Figure at 0x20b24a360b8>"
      ]
     },
     "metadata": {},
     "output_type": "display_data"
    },
    {
     "data": {
      "text/plain": [
       "<matplotlib.figure.Figure at 0x20b243744e0>"
      ]
     },
     "metadata": {},
     "output_type": "display_data"
    },
    {
     "data": {
      "text/plain": [
       "<matplotlib.figure.Figure at 0x20b2424b748>"
      ]
     },
     "metadata": {},
     "output_type": "display_data"
    },
    {
     "data": {
      "text/plain": [
       "<matplotlib.figure.Figure at 0x20b24711ac8>"
      ]
     },
     "metadata": {},
     "output_type": "display_data"
    },
    {
     "data": {
      "text/plain": [
       "<matplotlib.figure.Figure at 0x20b24094668>"
      ]
     },
     "metadata": {},
     "output_type": "display_data"
    },
    {
     "data": {
      "text/plain": [
       "<matplotlib.figure.Figure at 0x20b249338d0>"
      ]
     },
     "metadata": {},
     "output_type": "display_data"
    },
    {
     "data": {
      "text/plain": [
       "<matplotlib.figure.Figure at 0x20b249fe550>"
      ]
     },
     "metadata": {},
     "output_type": "display_data"
    },
    {
     "data": {
      "text/plain": [
       "<matplotlib.figure.Figure at 0x20b247e32b0>"
      ]
     },
     "metadata": {},
     "output_type": "display_data"
    },
    {
     "data": {
      "text/plain": [
       "<matplotlib.figure.Figure at 0x20b243a3a90>"
      ]
     },
     "metadata": {},
     "output_type": "display_data"
    },
    {
     "data": {
      "text/plain": [
       "<matplotlib.figure.Figure at 0x20b24a0da58>"
      ]
     },
     "metadata": {},
     "output_type": "display_data"
    },
    {
     "data": {
      "text/plain": [
       "<matplotlib.figure.Figure at 0x20b24260208>"
      ]
     },
     "metadata": {},
     "output_type": "display_data"
    },
    {
     "data": {
      "text/plain": [
       "<matplotlib.figure.Figure at 0x20b262233c8>"
      ]
     },
     "metadata": {},
     "output_type": "display_data"
    },
    {
     "data": {
      "text/plain": [
       "<matplotlib.figure.Figure at 0x20b26211588>"
      ]
     },
     "metadata": {},
     "output_type": "display_data"
    },
    {
     "data": {
      "text/plain": [
       "<matplotlib.figure.Figure at 0x20b26eddd30>"
      ]
     },
     "metadata": {},
     "output_type": "display_data"
    },
    {
     "data": {
      "text/plain": [
       "<matplotlib.figure.Figure at 0x20b26ef74e0>"
      ]
     },
     "metadata": {},
     "output_type": "display_data"
    },
    {
     "data": {
      "text/plain": [
       "<matplotlib.figure.Figure at 0x20b26ed7940>"
      ]
     },
     "metadata": {},
     "output_type": "display_data"
    },
    {
     "data": {
      "text/plain": [
       "<matplotlib.figure.Figure at 0x20b244165c0>"
      ]
     },
     "metadata": {},
     "output_type": "display_data"
    },
    {
     "data": {
      "text/plain": [
       "<matplotlib.figure.Figure at 0x20b27815780>"
      ]
     },
     "metadata": {},
     "output_type": "display_data"
    },
    {
     "data": {
      "text/plain": [
       "<matplotlib.figure.Figure at 0x20b26f24550>"
      ]
     },
     "metadata": {},
     "output_type": "display_data"
    },
    {
     "data": {
      "text/plain": [
       "<matplotlib.figure.Figure at 0x20b2476f320>"
      ]
     },
     "metadata": {},
     "output_type": "display_data"
    },
    {
     "data": {
      "text/plain": [
       "<matplotlib.figure.Figure at 0x20b2785fa20>"
      ]
     },
     "metadata": {},
     "output_type": "display_data"
    },
    {
     "data": {
      "text/plain": [
       "<matplotlib.figure.Figure at 0x20b2783f860>"
      ]
     },
     "metadata": {},
     "output_type": "display_data"
    },
    {
     "data": {
      "text/plain": [
       "<matplotlib.figure.Figure at 0x20b249de080>"
      ]
     },
     "metadata": {},
     "output_type": "display_data"
    },
    {
     "data": {
      "text/plain": [
       "<matplotlib.figure.Figure at 0x20b278acd30>"
      ]
     },
     "metadata": {},
     "output_type": "display_data"
    }
   ],
   "source": [
    "#How Enrique plots his waterfall images,\n",
    "#https://github.com/jeenriquez/Lband_seti/blob/master/analysis/plot_candidates.py\n",
    "#i=1\n",
    "#for i in range(0,len(RsOI_min)):\n",
    "#while (f_stop <= filterbank_head.container.f_stop):\n",
    "    #if (f_start >= RsOI_min[i]) & (f_start <= RsOI_max[i]) :\n",
    "    \n",
    "for i in range(0,len(RsOI)):\n",
    "    f_start = RsOI[i]\n",
    "    f_stop = f_start + 0.3\n",
    "    filterbank = Waterfall(chosen_file, f_start=f_start, f_stop=f_stop,t_start=t_start,t_stop=t_stop)\n",
    "    plot_f, data_temp = filterbank.grab_data()\n",
    "\n",
    "    if filterbank.header[b'foff'] < 0:\n",
    "            data_temp = data_temp[..., ::-1] # Reverse data\n",
    "            plot_f = plot_f[::-1]\n",
    "\n",
    "    dec_fac_x, dec_fac_y = 1, 1\n",
    "\n",
    "    if data_temp.shape[0] > MAX_IMSHOW_POINTS[0]:\n",
    "        dec_fac_x = int(data_temp.shape[0] / MAX_IMSHOW_POINTS[0])\n",
    "\n",
    "    if data_temp.shape[1] > MAX_IMSHOW_POINTS[1]:\n",
    "        dec_fac_y =  int(data_temp.shape[1] /  MAX_IMSHOW_POINTS[1])\n",
    "\n",
    "    data_temp = rebin(data_temp, dec_fac_x, dec_fac_y)\n",
    "\n",
    "    extent = filterbank._calc_extent(plot_f=plot_f,plot_t=filterbank.timestamps)\n",
    "\n",
    "    A1_avg = np.mean(data_temp)\n",
    "    A1_max = data_temp.max()\n",
    "    A1_std = np.std(data_temp)\n",
    "    \n",
    "    plt.figure(figsize=(12,12))\n",
    "    plt.imshow(data_temp,\n",
    "    aspect='auto',\n",
    "    origin='lower',\n",
    "    rasterized=True,\n",
    "    interpolation='none',\n",
    "    extent=extent,\n",
    "    cmap='viridis')\n",
    "\n",
    "    #plt.colorbar()\n",
    "    plt.clim(vmin=A1_avg,vmax=A1_avg+10.*A1_std);\n",
    "    #plt.clim(vmin=1e3,vmax=3.5e9);\n",
    "    #plt.xlabel(\"Frequency [MHz]\")\n",
    "    #plt.ylabel(\"Time [s]\")\n",
    "\n",
    "    plt.axis('off') #Remove axes\n",
    "    plt.subplots_adjust(left=0, right=1, top=1, bottom=0) #Remove margins\n",
    "\n",
    "    plt.savefig('images/outfile_' + str(f_start) + '.jpg')\n",
    "\n",
    "    plt.clf() #Reset plots\n",
    "    \n",
    "    print(str(f_start) + ' (going up to ' + str(filterbank_head.container.f_stop) + ')')\n",
    "    f_start = f_start + f_range\n",
    "    f_stop = f_stop + f_range\n",
    "    i=i+1"
   ]
  },
  {
   "cell_type": "markdown",
   "metadata": {},
   "source": [
    "#### Combine all images"
   ]
  },
  {
   "cell_type": "code",
   "execution_count": 113,
   "metadata": {},
   "outputs": [
    {
     "name": "stdout",
     "output_type": "stream",
     "text": [
      "['outfile_0.jpg', 'outfile_1.jpg', 'outfile_10.jpg', 'outfile_11.jpg', 'outfile_12.jpg', 'outfile_13.jpg', 'outfile_14.jpg', 'outfile_15.jpg', 'outfile_16.jpg', 'outfile_17.jpg', 'outfile_18.jpg', 'outfile_19.jpg', 'outfile_2.jpg', 'outfile_20.jpg', 'outfile_21.jpg', 'outfile_22.jpg', 'outfile_23.jpg', 'outfile_24.jpg', 'outfile_25.jpg', 'outfile_26.jpg', 'outfile_27.jpg', 'outfile_28.jpg', 'outfile_29.jpg', 'outfile_3.jpg', 'outfile_30.jpg', 'outfile_31.jpg', 'outfile_32.jpg', 'outfile_33.jpg', 'outfile_34.jpg', 'outfile_35.jpg', 'outfile_36.jpg', 'outfile_37.jpg', 'outfile_38.jpg', 'outfile_39.jpg', 'outfile_4.jpg', 'outfile_40.jpg', 'outfile_41.jpg', 'outfile_42.jpg', 'outfile_43.jpg', 'outfile_44.jpg', 'outfile_45.jpg', 'outfile_46.jpg', 'outfile_47.jpg', 'outfile_48.jpg', 'outfile_49.jpg', 'outfile_5.jpg', 'outfile_50.jpg', 'outfile_51.jpg', 'outfile_52.jpg', 'outfile_53.jpg', 'outfile_54.jpg', 'outfile_55.jpg', 'outfile_56.jpg', 'outfile_57.jpg', 'outfile_58.jpg', 'outfile_59.jpg', 'outfile_6.jpg', 'outfile_60.jpg', 'outfile_61.jpg', 'outfile_62.jpg', 'outfile_63.jpg', 'outfile_64.jpg', 'outfile_65.jpg', 'outfile_66.jpg', 'outfile_67.jpg', 'outfile_68.jpg', 'outfile_69.jpg', 'outfile_7.jpg', 'outfile_70.jpg', 'outfile_71.jpg', 'outfile_72.jpg', 'outfile_73.jpg', 'outfile_74.jpg', 'outfile_8.jpg', 'outfile_9.jpg']\n"
     ]
    }
   ],
   "source": [
    "list_im = os.listdir('images/')\n",
    "print(list_im)"
   ]
  },
  {
   "cell_type": "code",
   "execution_count": 114,
   "metadata": {},
   "outputs": [],
   "source": [
    "imgs = [PIL.Image.open('images/' + i) for i in list_im]\n",
    "\n",
    "min_shape = sorted([(np.sum(i.size), i.size) for i in imgs])[0][1]\n",
    "imgs_comb = np.hstack((np.asarray( i.resize(min_shape) ) for i in imgs))\n",
    "imgs_comb = misc.imresize(imgs_comb, (2000, 3000)) #Resize the massive image!\n",
    "\n",
    "imgs_comb = PIL.Image.fromarray(imgs_comb)\n",
    "imgs_comb.save('HIP65352_A_1.jpg')"
   ]
  },
  {
   "cell_type": "markdown",
   "metadata": {},
   "source": [
    "#### Misc"
   ]
  },
  {
   "cell_type": "code",
   "execution_count": 49,
   "metadata": {},
   "outputs": [
    {
     "name": "stdout",
     "output_type": "stream",
     "text": [
      "extracting integration 0...\n"
     ]
    },
    {
     "data": {
      "image/png": "[encoded data removed]",
      "text/plain": [
       "<matplotlib.figure.Figure at 0x25d8122d8d0>"
      ]
     },
     "metadata": {
      "needs_background": "light"
     },
     "output_type": "display_data"
    }
   ],
   "source": [
    "filterbank.plot_spectrum()"
   ]
  },
  {
   "cell_type": "code",
   "execution_count": 8,
   "metadata": {},
   "outputs": [
    {
     "data": {
      "image/png": "[encoded data removed]",
      "text/plain": [
       "<matplotlib.figure.Figure at 0x1d78da8da90>"
      ]
     },
     "metadata": {
      "needs_background": "light"
     },
     "output_type": "display_data"
    }
   ],
   "source": [
    "filterbank.plot_kurtosis()"
   ]
  },
  {
   "cell_type": "code",
   "execution_count": 9,
   "metadata": {},
   "outputs": [
    {
     "name": "stdout",
     "output_type": "stream",
     "text": [
      "averaging along time axis...\n"
     ]
    },
    {
     "data": {
      "image/png": "[encoded data removed]",
      "text/plain": [
       "<matplotlib.figure.Figure at 0x1d78daf1978>"
      ]
     },
     "metadata": {
      "needs_background": "light"
     },
     "output_type": "display_data"
    }
   ],
   "source": [
    "filterbank.plot_spectrum_min_max()"
   ]
  },
  {
   "cell_type": "code",
   "execution_count": 10,
   "metadata": {},
   "outputs": [
    {
     "data": {
      "image/png": "[encoded data removed]",
      "text/plain": [
       "<matplotlib.figure.Figure at 0x1d78db86e10>"
      ]
     },
     "metadata": {
      "needs_background": "light"
     },
     "output_type": "display_data"
    }
   ],
   "source": [
    "filterbank.plot_time_series()"
   ]
  },
  {
   "cell_type": "code",
   "execution_count": null,
   "metadata": {},
   "outputs": [],
   "source": []
  }
 ],
 "metadata": {
  "anaconda-cloud": {},
  "kernelspec": {
   "display_name": "Python 3",
   "language": "python",
   "name": "python3"
  },
  "language_info": {
   "codemirror_mode": {
    "name": "ipython",
    "version": 3
   },
   "file_extension": ".py",
   "mimetype": "text/x-python",
   "name": "python",
   "nbconvert_exporter": "python",
   "pygments_lexer": "ipython3",
   "version": "3.6.4"
  }
 },
 "nbformat": 4,
 "nbformat_minor": 1
}
